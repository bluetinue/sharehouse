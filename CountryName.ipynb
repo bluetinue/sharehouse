{
  "nbformat": 4,
  "nbformat_minor": 0,
  "metadata": {
    "colab": {
      "provenance": [],
      "mount_file_id": "1-EF3dqrX-qireo7dQzCEW7I7a7vEOW3K",
      "authorship_tag": "ABX9TyPJacqoaaNuPLma6/ZRZRpg",
      "include_colab_link": true
    },
    "kernelspec": {
      "name": "python3",
      "display_name": "Python 3"
    },
    "language_info": {
      "name": "python"
    }
  },
  "cells": [
    {
      "cell_type": "markdown",
      "metadata": {
        "id": "view-in-github",
        "colab_type": "text"
      },
      "source": [
        "<a href=\"https://colab.research.google.com/github/bluetinue/sharehouse/blob/main/CountryName.ipynb\" target=\"_parent\"><img src=\"https://colab.research.google.com/assets/colab-badge.svg\" alt=\"Open In Colab\"/></a>"
      ]
    },
    {
      "cell_type": "markdown",
      "source": [
        "# 人名分类器\n"
      ],
      "metadata": {
        "id": "13O_r9yxyhxh"
      }
    },
    {
      "cell_type": "code",
      "source": [
        "#@title 导包\n",
        "# prompt: 装载谷歌硬盘\n",
        "from google.colab import drive\n",
        "drive.mount('/content/drive')\n",
        "\n",
        "import pandas as pd\n",
        "# 显示所有变量\n",
        "from IPython.core.interactiveshell import InteractiveShell\n",
        "InteractiveShell.ast_node_interactivity = \"all\"\n",
        "\n",
        "# 导入torch工具\n",
        "import torch\n",
        "# 导入nn准备构建模型\n",
        "import torch.nn as nn\n",
        "import torch.nn.functional as F\n",
        "import torch.optim as optim\n",
        "# 导入torch的数据源 数据迭代器工具包\n",
        "from  torch.utils.data import Dataset, DataLoader\n",
        "# 用于获得常见字母及字符规范化\n",
        "import string\n",
        "# 导入时间工具包\n",
        "import time\n",
        "# 引入制图工具包\n",
        "import matplotlib.pyplot as plt"
      ],
      "metadata": {
        "colab": {
          "base_uri": "https://localhost:8080/"
        },
        "cellView": "form",
        "id": "BWAs7Zy5z-GR",
        "outputId": "2197274d-7c06-46f2-d6c0-0ac3b81f74ed"
      },
      "execution_count": 50,
      "outputs": [
        {
          "output_type": "stream",
          "name": "stdout",
          "text": [
            "Drive already mounted at /content/drive; to attempt to forcibly remount, call drive.mount(\"/content/drive\", force_remount=True).\n"
          ]
        }
      ]
    },
    {
      "cell_type": "code",
      "execution_count": 12,
      "metadata": {
        "cellView": "form",
        "id": "XAXMXZA1yGBZ"
      },
      "outputs": [],
      "source": [
        "# @title 读取数据\n",
        "data = pd.read_csv('/content/drive/MyDrive/NLP/data/name_classfication.txt',sep='\\t')"
      ]
    },
    {
      "cell_type": "code",
      "source": [
        "# @title 数据预处理\n",
        "\n",
        "#去重后的词表\n",
        "all_letters = string.ascii_letters + \" ,.:'\"\n",
        "n_letters = len(all_letters)\n",
        "# 国家名 种类数\n",
        "categorys = ['Italian', 'English', 'Arabic', 'Spanish', 'Scottish', 'Irish', 'Chinese', 'Vietnamese', 'Japanese',\n",
        "             'French', 'Greek', 'Dutch', 'Korean', 'Polish', 'Portuguese', 'Russian', 'Czech', 'German']\n",
        "# 国家名 个数\n",
        "categorynum = len(categorys)\n",
        "print('categorys--->', categorys)\n",
        "print('all_letters--->', all_letters)\n",
        "\n",
        "# 读取数据\n",
        "def read_data(path):\n",
        "  x,y = [],[]\n",
        "  with open(path,'r') as f:\n",
        "    lines = f.readlines()\n",
        "    for line in lines:\n",
        "      line = line.strip().split('\\t')\n",
        "      x.append(line[0])\n",
        "      y.append(line[1])\n",
        "  return x,y"
      ],
      "metadata": {
        "colab": {
          "base_uri": "https://localhost:8080/"
        },
        "id": "jk3z1EYw5dv8",
        "outputId": "94bb7d0a-6af0-45af-c70c-d4c3637fcbde"
      },
      "execution_count": 22,
      "outputs": [
        {
          "output_type": "stream",
          "name": "stdout",
          "text": [
            "categorys---> ['Italian', 'English', 'Arabic', 'Spanish', 'Scottish', 'Irish', 'Chinese', 'Vietnamese', 'Japanese', 'French', 'Greek', 'Dutch', 'Korean', 'Polish', 'Portuguese', 'Russian', 'Czech', 'German']\n",
            "all_letters---> abcdefghijklmnopqrstuvwxyzABCDEFGHIJKLMNOPQRSTUVWXYZ ,.:'\n"
          ]
        }
      ]
    },
    {
      "cell_type": "code",
      "source": [
        "#@title 数据加载器\n",
        "#定义数据封装器类\n",
        "class NameclassifcationDataset(Dataset):\n",
        "    def __init__(self,x,y):\n",
        "      #将读取的数据封装起来\n",
        "        self.x = x\n",
        "        self.y = y\n",
        "        self.sample_len = len(x)\n",
        "\n",
        "    #调用len方法返回x的数量\n",
        "    def __len__(self):\n",
        "        return self.sample_len\n",
        "\n",
        "    #对进行切片操作时调用\n",
        "    def __getitem__(self, idx):\n",
        "      idx = min(max(0,idx),self.sample_len-1)\n",
        "\n",
        "      x = self.x[idx]\n",
        "      y = self.y[idx]\n",
        "\n",
        "      tensor_x = torch.zeros(len(x),n_letters)\n",
        "      for i,v in enumerate(x):\n",
        "        tensor_x[i][all_letters.find(v)] = 1\n",
        "\n",
        "      tensor_y = torch.tensor(categorys.index(y))\n",
        "\n",
        "      return tensor_x,tensor_y"
      ],
      "metadata": {
        "cellView": "form",
        "id": "YqtoXBdR6c2I"
      },
      "execution_count": 53,
      "outputs": []
    },
    {
      "cell_type": "code",
      "source": [
        "#@title 迭代器\n",
        "def get_traindata():\n",
        "  path = \"/content/drive/MyDrive/NLP/data/name_classfication.txt\"\n",
        "  x,y = read_data(path)\n",
        "  nameclassdataset = NameclassifcationDataset(x,y)\n",
        "  train_loader = DataLoader(nameclassdataset,batch_size=1,shuffle=True)\n",
        "  for x,y in train_loader:\n",
        "    print(x.shape,y.shape)\n",
        "    break\n",
        "  return train_loader"
      ],
      "metadata": {
        "id": "0k24lZylSWGb"
      },
      "execution_count": 64,
      "outputs": []
    },
    {
      "cell_type": "code",
      "source": [
        "#@title 构建RNN\n",
        "# RNN类 实现思路分析：\n",
        "# 1 init函数 准备三个层 self.rnn self.linear self.softmax=nn.LogSoftmax(dim=-1)\n",
        "#    def __init__(self, input_size, hidden_size, output_size, num_layers=1)\n",
        "\n",
        "# 2 forward(input, hidden)函数\n",
        "#   让数据经过三个层 返回softmax结果和hn\n",
        "#   形状变化 [seqlen,1,57],[1,1,128]) -> [seqlen,1,128],[1,1,128]\n",
        "\n",
        "# 3 初始化隐藏层输入数据 inithidden()\n",
        "#   形状[self.num_layers, 1, self.hidden_size]\n",
        "class myRNN(nn.Module):\n",
        "  def __init__(self, input_size, hidden_size, output_size, num_layers=1):\n",
        "    super(myRNN, self).__init__()\n",
        "    self.input_size = input_size\n",
        "    self.num_layers = num_layers\n",
        "    self.hidden_size = hidden_size\n",
        "    self.output_size = output_size\n",
        "\n",
        "    self.rnn = nn.RNN(input_size, hidden_size, num_layers)\n",
        "    self.linear = nn.Linear(hidden_size, output_size)\n",
        "    #根据后边的损失函数如果是CrossEntropyLoss,就不需要softmax，是NLLLoss就需要加上softmax\n",
        "    self.softmax = nn.LogSoftmax(dim=-1)\n",
        "\n",
        "  #前向传播\n",
        "  def forward(self,input,hidden):\n",
        "    #input"
      ],
      "metadata": {
        "id": "RkmaUGxWGCEj"
      },
      "execution_count": 72,
      "outputs": []
    },
    {
      "cell_type": "code",
      "source": [
        "#@title 构建LSTM"
      ],
      "metadata": {
        "id": "vqEFe7hGz-NU"
      },
      "execution_count": null,
      "outputs": []
    },
    {
      "cell_type": "code",
      "source": [
        "#@title 构建GRU"
      ],
      "metadata": {
        "cellView": "form",
        "id": "wqHLBBm0YWjq"
      },
      "execution_count": null,
      "outputs": []
    },
    {
      "cell_type": "code",
      "source": [
        "#@title 训练\n",
        "myrnn = myRNN(input_size=n_letters, hidden_size=128, output_size=categorynum)\n",
        "myrnn"
      ],
      "metadata": {
        "colab": {
          "base_uri": "https://localhost:8080/"
        },
        "id": "x0MG_fNTz-Pz",
        "outputId": "69b68eab-1ce0-46bc-bc27-1b88c96fe7b1"
      },
      "execution_count": 71,
      "outputs": [
        {
          "output_type": "execute_result",
          "data": {
            "text/plain": [
              "myRNN(\n",
              "  (rnn): RNN(57, 128)\n",
              "  (linear): Linear(in_features=128, out_features=18, bias=True)\n",
              "  (softmax): LogSoftmax(dim=-1)\n",
              ")"
            ]
          },
          "metadata": {},
          "execution_count": 71
        }
      ]
    },
    {
      "cell_type": "code",
      "source": [],
      "metadata": {
        "id": "om5i4zOVL-zW"
      },
      "execution_count": null,
      "outputs": []
    }
  ]
}