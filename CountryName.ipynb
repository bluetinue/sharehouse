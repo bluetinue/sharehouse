{
  "nbformat": 4,
  "nbformat_minor": 0,
  "metadata": {
    "colab": {
      "provenance": [],
      "gpuType": "T4",
      "mount_file_id": "1-EF3dqrX-qireo7dQzCEW7I7a7vEOW3K",
      "authorship_tag": "ABX9TyN+Bq3Hkt894EDA1bOXliv0",
      "include_colab_link": true
    },
    "kernelspec": {
      "name": "python3",
      "display_name": "Python 3"
    },
    "language_info": {
      "name": "python"
    },
    "accelerator": "GPU"
  },
  "cells": [
    {
      "cell_type": "markdown",
      "metadata": {
        "id": "view-in-github",
        "colab_type": "text"
      },
      "source": [
        "<a href=\"https://colab.research.google.com/github/bluetinue/sharehouse/blob/main/CountryName.ipynb\" target=\"_parent\"><img src=\"https://colab.research.google.com/assets/colab-badge.svg\" alt=\"Open In Colab\"/></a>"
      ]
    },
    {
      "cell_type": "markdown",
      "source": [
        "# 人名分类器\n"
      ],
      "metadata": {
        "id": "13O_r9yxyhxh"
      }
    },
    {
      "cell_type": "code",
      "source": [
        "#@title 导包\n",
        "# prompt: 装载谷歌硬盘\n",
        "from google.colab import drive\n",
        "drive.mount('/content/drive')\n",
        "\n",
        "import pandas as pd\n",
        "# 显示所有变量\n",
        "from IPython.core.interactiveshell import InteractiveShell\n",
        "InteractiveShell.ast_node_interactivity = \"all\"\n",
        "\n",
        "# 导入torch工具\n",
        "import torch\n",
        "# 导入nn准备构建模型\n",
        "import torch.nn as nn\n",
        "import torch.nn.functional as F\n",
        "import torch.optim as optim\n",
        "# 导入torch的数据源 数据迭代器工具包\n",
        "from  torch.utils.data import Dataset, DataLoader\n",
        "# 用于获得常见字母及字符规范化\n",
        "import string\n",
        "# 导入时间工具包\n",
        "import time\n",
        "# 引入制图工具包\n",
        "import matplotlib.pyplot as plt"
      ],
      "metadata": {
        "colab": {
          "base_uri": "https://localhost:8080/"
        },
        "cellView": "form",
        "id": "BWAs7Zy5z-GR",
        "outputId": "5d8e0b41-21e2-41ac-8b5b-15a843aaa9c0"
      },
      "execution_count": 2,
      "outputs": [
        {
          "output_type": "stream",
          "name": "stdout",
          "text": [
            "Drive already mounted at /content/drive; to attempt to forcibly remount, call drive.mount(\"/content/drive\", force_remount=True).\n"
          ]
        }
      ]
    },
    {
      "cell_type": "code",
      "execution_count": 3,
      "metadata": {
        "cellView": "form",
        "id": "XAXMXZA1yGBZ"
      },
      "outputs": [],
      "source": [
        "# @title 读取数据\n",
        "data = pd.read_csv('/content/drive/MyDrive/NLP/data/name_classfication.txt',sep='\\t')"
      ]
    },
    {
      "cell_type": "code",
      "source": [
        "# @title 数据预处理\n",
        "\n",
        "#去重后的词表\n",
        "all_letters = string.ascii_letters + \" ,.:'\"\n",
        "n_letters = len(all_letters)\n",
        "# 国家名 种类数\n",
        "categorys = ['Italian', 'English', 'Arabic', 'Spanish', 'Scottish', 'Irish', 'Chinese', 'Vietnamese', 'Japanese',\n",
        "             'French', 'Greek', 'Dutch', 'Korean', 'Polish', 'Portuguese', 'Russian', 'Czech', 'German']\n",
        "# 国家名 个数\n",
        "categorynum = len(categorys)\n",
        "print('categorys--->', categorys)\n",
        "print('all_letters--->', all_letters)\n",
        "\n",
        "# 读取数据\n",
        "def read_data(path):\n",
        "  x,y = [],[]\n",
        "  with open(path,'r') as f:\n",
        "    lines = f.readlines()\n",
        "    for line in lines:\n",
        "      line = line.strip().split('\\t')\n",
        "      x.append(line[0])\n",
        "      y.append(line[1])\n",
        "  return x,y"
      ],
      "metadata": {
        "colab": {
          "base_uri": "https://localhost:8080/"
        },
        "id": "jk3z1EYw5dv8",
        "outputId": "4c4c2052-b354-48d3-dba7-192d69c3f1ae",
        "cellView": "form"
      },
      "execution_count": 4,
      "outputs": [
        {
          "output_type": "stream",
          "name": "stdout",
          "text": [
            "categorys---> ['Italian', 'English', 'Arabic', 'Spanish', 'Scottish', 'Irish', 'Chinese', 'Vietnamese', 'Japanese', 'French', 'Greek', 'Dutch', 'Korean', 'Polish', 'Portuguese', 'Russian', 'Czech', 'German']\n",
            "all_letters---> abcdefghijklmnopqrstuvwxyzABCDEFGHIJKLMNOPQRSTUVWXYZ ,.:'\n"
          ]
        }
      ]
    },
    {
      "cell_type": "code",
      "source": [
        "#@title 数据加载器\n",
        "#定义数据封装器类\n",
        "class NameclassifcationDataset(Dataset):\n",
        "    def __init__(self,x,y):\n",
        "      #将读取的数据封装起来\n",
        "        self.x = x\n",
        "        self.y = y\n",
        "        self.sample_len = len(x)\n",
        "\n",
        "    #调用len方法返回x的数量\n",
        "    def __len__(self):\n",
        "        return self.sample_len\n",
        "\n",
        "    #对进行切片操作时调用\n",
        "    def __getitem__(self, idx):\n",
        "      idx = min(max(0,idx),self.sample_len-1)\n",
        "\n",
        "      x = self.x[idx]\n",
        "      y = self.y[idx]\n",
        "\n",
        "      tensor_x = torch.zeros(len(x),n_letters)\n",
        "      for i,v in enumerate(x):\n",
        "        tensor_x[i][all_letters.find(v)] = 1\n",
        "\n",
        "      tensor_y = torch.tensor(categorys.index(y))\n",
        "\n",
        "      return tensor_x,tensor_y"
      ],
      "metadata": {
        "cellView": "form",
        "id": "YqtoXBdR6c2I"
      },
      "execution_count": 28,
      "outputs": []
    },
    {
      "cell_type": "code",
      "source": [
        "#@title 迭代器\n",
        "def get_traindata():\n",
        "  path = \"/content/drive/MyDrive/NLP/data/name_classfication.txt\"\n",
        "  x,y = read_data(path)\n",
        "  nameclassdataset = NameclassifcationDataset(x,y)\n",
        "  train_loader = DataLoader(nameclassdataset,batch_size=1,shuffle=True)\n",
        "  for x,y in train_loader:\n",
        "    print(x.shape,y.shape)\n",
        "    break\n",
        "  return train_loader"
      ],
      "metadata": {
        "id": "0k24lZylSWGb",
        "cellView": "form"
      },
      "execution_count": 29,
      "outputs": []
    },
    {
      "cell_type": "code",
      "source": [
        "#@title 构建RNN\n",
        "# RNN类 实现思路分析：\n",
        "# 1 init函数 准备三个层 self.rnn self.linear self.softmax=nn.LogSoftmax(dim=-1)\n",
        "#    def __init__(self, input_size, hidden_size, output_size, num_layers=1)\n",
        "\n",
        "# 2 forward(input, hidden)函数\n",
        "#   让数据经过三个层 返回softmax结果和hn\n",
        "#   形状变化 [seqlen,1,57],[1,1,128]) -> [seqlen,1,128],[1,1,128]\n",
        "\n",
        "# 3 初始化隐藏层输入数据 inithidden()\n",
        "#   形状[self.num_layers, 1, self.hidden_size]\n",
        "class myRNN(nn.Module):\n",
        "  def __init__(self, input_size, hidden_size, output_size, num_layers=1):\n",
        "    super(myRNN, self).__init__()\n",
        "    self.input_size = input_size\n",
        "    self.num_layers = num_layers\n",
        "    self.hidden_size = hidden_size\n",
        "    self.output_size = output_size\n",
        "\n",
        "    self.rnn = nn.RNN(input_size, hidden_size, num_layers)\n",
        "    self.out = nn.Linear(hidden_size, output_size)\n",
        "    # #根据后边的损失函数如果是CrossEntropyLoss,就不需要softmax，是NLLLoss就需要加上softmax\n",
        "    # self.softmax = nn.LogSoftmax(dim=-1)\n",
        "\n",
        "  #前向传播\n",
        "  def forward(self,input,hidden):\n",
        "    #input\n",
        "    input = input.unsqueeze(1)\n",
        "\n",
        "    rr,hn = self.rnn(input,hidden)\n",
        "    tmprr = rr[-1]\n",
        "    tmprr = self.out(tmprr)\n",
        "    return tmprr,hn\n",
        "\n",
        "  #初始化隐藏层输入数据\n",
        "  def inithidden(self):\n",
        "    return torch.zeros(self.num_layers, 1, self.hidden_size)\n"
      ],
      "metadata": {
        "id": "RkmaUGxWGCEj",
        "cellView": "form"
      },
      "execution_count": 32,
      "outputs": []
    },
    {
      "cell_type": "code",
      "source": [
        "#@title 构建LSTM\n",
        "# LSTM类 实现思路分析：\n",
        "# 1 init函数 准备三个层 self.rnn self.linear self.softmax=nn.LogSoftmax(dim=-1)\n",
        "#    def __init__(self, input_size, hidden_size, output_size, num_layers=1)\n",
        "\n",
        "# 2 forward(input, hidden)函数\n",
        "#   让数据经过三个层 返回softmax结果和hn\n",
        "#   形状变化 [seqlen,1,57],[1,1,128]) -> [seqlen,1,128],[1,1,128]\n",
        "\n",
        "# 3 初始化隐藏层输入数据 inithidden()\n",
        "#   形状[self.num_layers, 1, self.hidden_size]\n",
        "class myLSTM(nn.Module):\n",
        "  def __init__(self, input_size, hidden_size, output_size, num_layers=1):\n",
        "    super().__init__()\n",
        "    self.input_size = input_size\n",
        "    self.num_layers = num_layers\n",
        "    self.hidden_size = hidden_size\n",
        "    self.output_size = output_size\n",
        "\n",
        "    self.lstm = nn.LSTM(input_size, hidden_size, num_layers)\n",
        "    self.out = nn.Linear(hidden_size, output_size)\n",
        "    #根据后边的损失函数如果是CrossEntropyLoss,就不需要softmax，是NLLLoss就需要加上softmax\n",
        "    self.softmax = nn.LogSoftmax(dim=-1)\n",
        "\n",
        "  #前向传播\n",
        "  def forward(self,input,hidden,c):\n",
        "    #input\n",
        "    input = input.unsqueeze(1)\n",
        "\n",
        "    rr,(hn,cn) = self.lstm(input,(hidden,c))\n",
        "    tmprr = rr[-1]\n",
        "    tmprr = self.out(tmprr)\n",
        "    return self.softmax(tmprr),hn,cn\n",
        "\n",
        "  #初始化隐藏层输入数据\n",
        "  def inithidden(self):\n",
        "    hidden = c = torch.zeros(self.num_layers, 1, self.hidden_size)\n",
        "    return hidden,c\n"
      ],
      "metadata": {
        "id": "vqEFe7hGz-NU",
        "cellView": "form"
      },
      "execution_count": 24,
      "outputs": []
    },
    {
      "cell_type": "code",
      "source": [
        "#@title 构建GRU\n",
        "# GRU类 实现思路分析：\n",
        "# 1 init函数 准备三个层 self.rnn self.linear self.softmax=nn.LogSoftmax(dim=-1)\n",
        "#    def __init__(self, input_size, hidden_size, output_size, num_layers=1)\n",
        "\n",
        "# 2 forward(input, hidden)函数\n",
        "#   让数据经过三个层 返回softmax结果和hn\n",
        "#   形状变化 [seqlen,1,57],[1,1,128]) -> [seqlen,1,128],[1,1,128]\n",
        "\n",
        "# 3 初始化隐藏层输入数据 inithidden()\n",
        "#   形状[self.num_layers, 1, self.hidden_size]\n",
        "class myGRU(nn.Module):\n",
        "  def __init__(self, input_size, hidden_size, output_size, num_layers=1):\n",
        "    super().__init__()\n",
        "    self.input_size = input_size\n",
        "    self.num_layers = num_layers\n",
        "    self.hidden_size = hidden_size\n",
        "    self.output_size = output_size\n",
        "\n",
        "    self.rnn = nn.GRU(input_size, hidden_size, num_layers)\n",
        "    self.out = nn.Linear(hidden_size, output_size)\n",
        "    #根据后边的损失函数如果是CrossEntropyLoss,就不需要softmax，是NLLLoss就需要加上softmax\n",
        "    self.softmax = nn.LogSoftmax(dim=-1)\n",
        "\n",
        "  #前向传播\n",
        "  def forward(self,input,hidden):\n",
        "    #input\n",
        "    input = input.unsqueeze(1)\n",
        "\n",
        "    rr,hn = self.rnn(input,hidden)\n",
        "    tmprr = rr[-1]\n",
        "    tmprr = self.out(tmprr)\n",
        "    return self.softmax(tmprr),hn\n",
        "\n",
        "  #初始化隐藏层输入数据\n",
        "  def inithidden(self):\n",
        "    return torch.zeros(self.num_layers, 1, self.hidden_size)\n"
      ],
      "metadata": {
        "cellView": "form",
        "id": "wqHLBBm0YWjq"
      },
      "execution_count": 25,
      "outputs": []
    },
    {
      "cell_type": "code",
      "source": [
        "#@title 思路分析\n",
        "# 从文件获取数据、实例化数据源对象nameclassdataset 数据迭代器对象mydataloader\n",
        "# 实例化模型对象my_rnn 损失函数对象mycrossentropyloss=nn.NLLLoss() 优化器对象myadam\n",
        "# 定义模型训练的参数\n",
        "#       starttime total_iter_num total_loss  total_loss_list total_acc_num  total_acc_list\n",
        "# 外层for循环 控制轮数 for epoch_idx in range(epochs)\n",
        "# 内层for循环 控制迭代次数 for i, (x, y) in enumerate(mydataloader)\n",
        "    # 给模型喂数据   # 计算损失  # 梯度清零 # 反向传播  # 梯度更新\n",
        "    # 计算辅助信息   # 累加总损失和准确数 每100次训练计算一个总体平均损失 总体平均准确率 每2000次训练 打印日志\n",
        "    # 其他          # 预测对错 i_predit_tag = (1 if torch.argmax(output).item() == y.item() else 0)\n",
        "\n",
        "# 模型保存\n",
        "    # torch.save(my_rnn.state_dict(), './my_rnn_model_%d.bin' % (epoch_idx + 1))\n",
        "# 返回 平均损失列表total_loss_list, 时间total_time, 平均准确total_acc_list"
      ],
      "metadata": {
        "cellView": "form",
        "id": "BsS0U3uyzeJN"
      },
      "execution_count": null,
      "outputs": []
    },
    {
      "cell_type": "code",
      "source": [
        "# 检查是否有可用的CUDA设备\n",
        "device = torch.device(\"cuda\" if torch.cuda.is_available() else \"cpu\")\n",
        "print(f\"Using device: {device}\")\n",
        "\n",
        "epochs = 1\n",
        "lr = 1e-3\n",
        "def train_rnn():\n",
        "  #实例化dataloader\n",
        "  rnn_dataloader = get_traindata()\n",
        "  #实例化模型\n",
        "  input_size = all_letters\n",
        "  hidden_size = 200\n",
        "  output_size = categorynum\n",
        "  my_rnn = myRNN(input_size=n_letters,\n",
        "                 hidden_size=hidden_size,\n",
        "                 output_size=categorynum).to(device=device)\n",
        "\n",
        "  #损失函数和优化器\n",
        "  myloss = nn.NLLLoss()\n",
        "  myoptimizer = optim.Adam(my_rnn.parameters(), lr=lr)\n",
        "\n",
        "  #训练日志参数\n",
        "  starttime = time.time()\n",
        "  total_iter_num = 0 #已经训练的样本数\n",
        "  total_loss = 0  #已经训练的损失和\n",
        "  total_loss_list = [] #每批样本求一次平均损失\n",
        "  total_acc_num = 0 #训练样本准确总数\n",
        "  total_acc_list = [] #平均准确率列表\n",
        "\n",
        "  #开始训练\n",
        "\n",
        "\n",
        "  #前向传播\n"
      ],
      "metadata": {
        "colab": {
          "base_uri": "https://localhost:8080/"
        },
        "id": "sGVWDJIuDH03",
        "outputId": "a36f1a25-3506-4398-c6ac-9c20950a49c4"
      },
      "execution_count": 37,
      "outputs": [
        {
          "output_type": "stream",
          "name": "stdout",
          "text": [
            "Using device: cuda\n"
          ]
        }
      ]
    },
    {
      "cell_type": "code",
      "source": [
        "from tqdm import tqdm"
      ],
      "metadata": {
        "id": "sI9fr8F1D9KE"
      },
      "execution_count": 43,
      "outputs": []
    },
    {
      "cell_type": "code",
      "source": [
        "#@title RNN训练\n",
        "# 检查是否有可用的CUDA设备\n",
        "device = torch.device(\"cuda\" if torch.cuda.is_available() else \"cpu\")\n",
        "print(f\"Using device: {device}\")\n",
        "\n",
        "lr = 1e-4\n",
        "epochs = 10\n",
        "path = \"/content/drive/MyDrive/NLP/data/name_classfication.txt\"\n",
        "x,y = read_data(path)\n",
        "def train_rnn(x,y):\n",
        "  #实例化dataloader\n",
        "\n",
        "  input_size = all_letters\n",
        "  hidden_size = 200\n",
        "  output_size = categorynum\n",
        "  #实例化模型\n",
        "  my_rnn = myRNN(input_size=n_letters,\n",
        "                 hidden_size=hidden_size,\n",
        "                 output_size=categorynum).to(device) # 将模型移动到GPU\n",
        "\n",
        "  loss_fn = nn.CrossEntropyLoss()\n",
        "  optimizer = optim.Adam(my_rnn.parameters(), lr=lr)\n",
        "\n",
        "  starttime = time.time()\n",
        "  total_iter_num = 0 #已经训练的样本数\n",
        "  total_loss = 0  #已经训练的损失和\n",
        "  total_loss_list = [] #每批样本求一次平均损失\n",
        "  total_acc_num = 0 #训练样本准确总数\n",
        "  total_acc_list = [] #平均准确率列表\n",
        "\n",
        "  for epoch in range(epochs):\n",
        "    namedataloader = get_traindata()\n",
        "    for i,(x,y) in enumerate(tqdm(namedataloader)):\n",
        "      x,y = x.to(device), y.to(device) # 将数据移动到GPU\n",
        "      hidden = my_rnn.inithidden().to(device) # 将隐藏层初始化数据移动到GPU\n",
        "      output,hidden = my_rnn(x[0],hidden)\n",
        "      loss = loss_fn(output,y)\n",
        "      optimizer.zero_grad()\n",
        "      loss.backward()\n",
        "      optimizer.step()\n",
        "      #计算损失\n",
        "      total_iter_num = total_iter_num + 1\n",
        "      total_loss = total_loss + loss.item()\n",
        "      #计算准确率\n",
        "      i_predit_tag = (1 if torch.argmax(output).item() == y.item() else 0)\n",
        "      total_acc_num = total_acc_num + i_predit_tag\n",
        "      #每100次训练计算一次平均损失\n",
        "      if (total_iter_num % 100 == 0):\n",
        "        tmploss = total_loss / total_iter_num\n",
        "        total_loss_list.append(tmploss)\n",
        "\n",
        "        tmpacc = total_acc_num / total_iter_num\n",
        "        total_acc_list.append(tmpacc)\n",
        "      #每1000次训练打印日志\n",
        "      if (total_iter_num % 1000 == 0):\n",
        "        total_time = time.time() - starttime\n",
        "        print(f'轮次{epoch+1},损失{tmploss:.6f},\\\n",
        "        时间{time.time()-starttime:.6f},准确率{tmpacc:.6f}')\n",
        "    #保存训练好的模型\n",
        "    torch.save(my_rnn.state_dict(), '/content/drive/MyDrive/NLP/model/my_rnn_model.bin')\n",
        "  #计算总时间\n",
        "  total_time = int(time.time() - starttime)\n",
        "\n",
        "  return total_loss_list, total_time, total_acc_list\n",
        "\n",
        "total_loss_list, total_time, total_acc_list = train_rnn(x,y)"
      ],
      "metadata": {
        "colab": {
          "base_uri": "https://localhost:8080/"
        },
        "id": "x0MG_fNTz-Pz",
        "outputId": "2b6a3e0f-f66f-4de7-fecd-c4b5b9683833",
        "collapsed": true
      },
      "execution_count": null,
      "outputs": [
        {
          "output_type": "stream",
          "name": "stdout",
          "text": [
            "Using device: cuda\n",
            "torch.Size([1, 4, 57]) torch.Size([1])\n"
          ]
        },
        {
          "output_type": "stream",
          "name": "stderr",
          "text": [
            "  5%|▌         | 1041/20074 [00:02<00:36, 514.80it/s]"
          ]
        },
        {
          "output_type": "stream",
          "name": "stdout",
          "text": [
            "轮次1,损失1.872930,        时间2.013593,准确率0.460000\n"
          ]
        },
        {
          "output_type": "stream",
          "name": "stderr",
          "text": [
            " 10%|█         | 2055/20074 [00:04<00:47, 381.85it/s]"
          ]
        },
        {
          "output_type": "stream",
          "name": "stdout",
          "text": [
            "轮次1,损失1.760124,        时间4.461432,准确率0.494000\n"
          ]
        },
        {
          "output_type": "stream",
          "name": "stderr",
          "text": [
            " 15%|█▌        | 3093/20074 [00:06<00:33, 509.70it/s]"
          ]
        },
        {
          "output_type": "stream",
          "name": "stdout",
          "text": [
            "轮次1,损失1.693796,        时间6.610350,准确率0.513000\n"
          ]
        },
        {
          "output_type": "stream",
          "name": "stderr",
          "text": [
            " 20%|██        | 4086/20074 [00:08<00:32, 498.77it/s]"
          ]
        },
        {
          "output_type": "stream",
          "name": "stdout",
          "text": [
            "轮次1,损失1.659009,        时间8.596298,准确率0.519750\n"
          ]
        },
        {
          "output_type": "stream",
          "name": "stderr",
          "text": [
            " 25%|██▌       | 5091/20074 [00:10<00:30, 484.03it/s]"
          ]
        },
        {
          "output_type": "stream",
          "name": "stdout",
          "text": [
            "轮次1,损失1.622692,        时间10.546066,准确率0.530400\n"
          ]
        },
        {
          "output_type": "stream",
          "name": "stderr",
          "text": [
            " 30%|███       | 6093/20074 [00:12<00:27, 507.73it/s]"
          ]
        },
        {
          "output_type": "stream",
          "name": "stdout",
          "text": [
            "轮次1,损失1.598071,        时间12.545342,准确率0.538333\n"
          ]
        },
        {
          "output_type": "stream",
          "name": "stderr",
          "text": [
            " 35%|███▌      | 7073/20074 [00:14<00:25, 504.69it/s]"
          ]
        },
        {
          "output_type": "stream",
          "name": "stdout",
          "text": [
            "轮次1,损失1.566969,        时间14.559256,准确率0.547143\n"
          ]
        },
        {
          "output_type": "stream",
          "name": "stderr",
          "text": [
            " 40%|████      | 8070/20074 [00:17<00:29, 409.01it/s]"
          ]
        },
        {
          "output_type": "stream",
          "name": "stdout",
          "text": [
            "轮次1,损失1.538700,        时间16.894881,准确率0.553625\n"
          ]
        },
        {
          "output_type": "stream",
          "name": "stderr",
          "text": [
            " 45%|████▌     | 9052/20074 [00:19<00:22, 498.47it/s]"
          ]
        },
        {
          "output_type": "stream",
          "name": "stdout",
          "text": [
            "轮次1,损失1.515959,        时间19.157108,准确率0.559889\n"
          ]
        },
        {
          "output_type": "stream",
          "name": "stderr",
          "text": [
            " 50%|█████     | 10089/20074 [00:21<00:19, 502.33it/s]"
          ]
        },
        {
          "output_type": "stream",
          "name": "stdout",
          "text": [
            "轮次1,损失1.489366,        时间21.153398,准确率0.566100\n"
          ]
        },
        {
          "output_type": "stream",
          "name": "stderr",
          "text": [
            " 55%|█████▌    | 11045/20074 [00:23<00:22, 396.55it/s]"
          ]
        },
        {
          "output_type": "stream",
          "name": "stdout",
          "text": [
            "轮次1,损失1.462809,        时间23.593786,准确率0.574545\n"
          ]
        },
        {
          "output_type": "stream",
          "name": "stderr",
          "text": [
            " 60%|██████    | 12076/20074 [00:26<00:16, 472.04it/s]"
          ]
        },
        {
          "output_type": "stream",
          "name": "stdout",
          "text": [
            "轮次1,损失1.443070,        时间25.888770,准确率0.581083\n"
          ]
        },
        {
          "output_type": "stream",
          "name": "stderr",
          "text": [
            " 65%|██████▌   | 13049/20074 [00:27<00:13, 509.84it/s]"
          ]
        },
        {
          "output_type": "stream",
          "name": "stdout",
          "text": [
            "轮次1,损失1.426597,        时间27.897486,准确率0.585308\n"
          ]
        },
        {
          "output_type": "stream",
          "name": "stderr",
          "text": [
            " 70%|███████   | 14068/20074 [00:30<00:14, 413.44it/s]"
          ]
        },
        {
          "output_type": "stream",
          "name": "stdout",
          "text": [
            "轮次1,损失1.409323,        时间30.336569,准确率0.590429\n"
          ]
        },
        {
          "output_type": "stream",
          "name": "stderr",
          "text": [
            " 75%|███████▌  | 15066/20074 [00:32<00:10, 471.61it/s]"
          ]
        },
        {
          "output_type": "stream",
          "name": "stdout",
          "text": [
            "轮次1,损失1.393603,        时间32.575844,准确率0.595467\n"
          ]
        },
        {
          "output_type": "stream",
          "name": "stderr",
          "text": [
            " 80%|████████  | 16085/20074 [00:34<00:08, 476.81it/s]"
          ]
        },
        {
          "output_type": "stream",
          "name": "stdout",
          "text": [
            "轮次1,损失1.377904,        时间34.607134,准确率0.600250\n"
          ]
        },
        {
          "output_type": "stream",
          "name": "stderr",
          "text": [
            " 85%|████████▌ | 17064/20074 [00:36<00:06, 494.95it/s]"
          ]
        },
        {
          "output_type": "stream",
          "name": "stdout",
          "text": [
            "轮次1,损失1.363398,        时间36.618461,准确率0.604353\n"
          ]
        },
        {
          "output_type": "stream",
          "name": "stderr",
          "text": [
            " 90%|█████████ | 18092/20074 [00:38<00:03, 501.92it/s]"
          ]
        },
        {
          "output_type": "stream",
          "name": "stdout",
          "text": [
            "轮次1,损失1.348329,        时间38.634213,准确率0.609167\n"
          ]
        },
        {
          "output_type": "stream",
          "name": "stderr",
          "text": [
            " 95%|█████████▍| 19070/20074 [00:40<00:01, 510.68it/s]"
          ]
        },
        {
          "output_type": "stream",
          "name": "stdout",
          "text": [
            "轮次1,损失1.336269,        时间40.646587,准确率0.612789\n"
          ]
        },
        {
          "output_type": "stream",
          "name": "stderr",
          "text": [
            "100%|██████████| 20074/20074 [00:43<00:00, 465.02it/s]"
          ]
        },
        {
          "output_type": "stream",
          "name": "stdout",
          "text": [
            "轮次1,损失1.323585,        时间42.999061,准确率0.617350\n"
          ]
        },
        {
          "output_type": "stream",
          "name": "stderr",
          "text": [
            "\n"
          ]
        },
        {
          "output_type": "stream",
          "name": "stdout",
          "text": [
            "torch.Size([1, 6, 57]) torch.Size([1])\n"
          ]
        },
        {
          "output_type": "stream",
          "name": "stderr",
          "text": [
            "  5%|▍         | 927/20074 [00:02<00:44, 430.13it/s]"
          ]
        },
        {
          "output_type": "stream",
          "name": "stdout",
          "text": [
            "轮次2,损失1.311121,        时间45.897936,准确率0.621762\n"
          ]
        },
        {
          "output_type": "stream",
          "name": "stderr",
          "text": [
            " 10%|▉         | 1982/20074 [00:05<00:35, 514.32it/s]"
          ]
        },
        {
          "output_type": "stream",
          "name": "stdout",
          "text": [
            "轮次2,损失1.297016,        时间48.116082,准确率0.625773\n"
          ]
        },
        {
          "output_type": "stream",
          "name": "stderr",
          "text": [
            " 15%|█▌        | 3023/20074 [00:07<00:32, 516.88it/s]"
          ]
        },
        {
          "output_type": "stream",
          "name": "stdout",
          "text": [
            "轮次2,损失1.288558,        时间50.117362,准确率0.628435\n"
          ]
        },
        {
          "output_type": "stream",
          "name": "stderr",
          "text": [
            " 20%|██        | 4018/20074 [00:09<00:31, 514.43it/s]"
          ]
        },
        {
          "output_type": "stream",
          "name": "stdout",
          "text": [
            "轮次2,损失1.277481,        时间52.100516,准确率0.631583\n"
          ]
        },
        {
          "output_type": "stream",
          "name": "stderr",
          "text": [
            " 25%|██▍       | 5007/20074 [00:11<00:31, 476.59it/s]"
          ]
        },
        {
          "output_type": "stream",
          "name": "stdout",
          "text": [
            "轮次2,损失1.271450,        时间54.100135,准确率0.633440\n"
          ]
        },
        {
          "output_type": "stream",
          "name": "stderr",
          "text": [
            " 30%|██▉       | 5976/20074 [00:13<00:37, 378.60it/s]"
          ]
        },
        {
          "output_type": "stream",
          "name": "stdout",
          "text": [
            "轮次2,损失1.261633,        时间56.536513,准确率0.635769\n"
          ]
        },
        {
          "output_type": "stream",
          "name": "stderr",
          "text": [
            " 35%|███▍      | 6989/20074 [00:15<00:26, 491.43it/s]"
          ]
        },
        {
          "output_type": "stream",
          "name": "stdout",
          "text": [
            "轮次2,损失1.252351,        时间58.733479,准确率0.638667\n"
          ]
        },
        {
          "output_type": "stream",
          "name": "stderr",
          "text": [
            " 39%|███▉      | 7899/20074 [00:17<00:23, 525.41it/s]"
          ]
        },
        {
          "output_type": "stream",
          "name": "stdout",
          "text": [
            "轮次2,损失1.243685,        时间60.657570,准确率0.641036\n"
          ]
        },
        {
          "output_type": "stream",
          "name": "stderr",
          "text": [
            " 45%|████▍     | 8980/20074 [00:19<00:22, 485.16it/s]"
          ]
        },
        {
          "output_type": "stream",
          "name": "stdout",
          "text": [
            "轮次2,损失1.235492,        时间62.729982,准确率0.643103\n"
          ]
        },
        {
          "output_type": "stream",
          "name": "stderr",
          "text": [
            " 50%|████▉     | 10014/20074 [00:21<00:20, 492.25it/s]"
          ]
        },
        {
          "output_type": "stream",
          "name": "stdout",
          "text": [
            "轮次2,损失1.226836,        时间64.739981,准确率0.645600\n"
          ]
        },
        {
          "output_type": "stream",
          "name": "stderr",
          "text": [
            " 55%|█████▍    | 10999/20074 [00:23<00:17, 511.54it/s]"
          ]
        },
        {
          "output_type": "stream",
          "name": "stdout",
          "text": [
            "轮次2,损失1.218153,        时间66.718930,准确率0.648000\n"
          ]
        },
        {
          "output_type": "stream",
          "name": "stderr",
          "text": [
            " 60%|█████▉    | 11986/20074 [00:26<00:19, 422.80it/s]"
          ]
        },
        {
          "output_type": "stream",
          "name": "stdout",
          "text": [
            "轮次2,损失1.211945,        时间69.100321,准确率0.649875\n"
          ]
        },
        {
          "output_type": "stream",
          "name": "stderr",
          "text": [
            " 65%|██████▍   | 12972/20074 [00:28<00:14, 491.33it/s]"
          ]
        },
        {
          "output_type": "stream",
          "name": "stdout",
          "text": [
            "轮次2,损失1.203953,        时间71.337554,准确率0.652727\n"
          ]
        },
        {
          "output_type": "stream",
          "name": "stderr",
          "text": [
            " 70%|██████▉   | 14015/20074 [00:30<00:12, 482.18it/s]"
          ]
        },
        {
          "output_type": "stream",
          "name": "stdout",
          "text": [
            "轮次2,损失1.197580,        时间73.354892,准确率0.654529\n"
          ]
        },
        {
          "output_type": "stream",
          "name": "stderr",
          "text": [
            " 75%|███████▍  | 15017/20074 [00:32<00:10, 496.41it/s]"
          ]
        },
        {
          "output_type": "stream",
          "name": "stdout",
          "text": [
            "轮次2,损失1.190081,        时间75.303507,准确率0.656514\n"
          ]
        },
        {
          "output_type": "stream",
          "name": "stderr",
          "text": [
            " 80%|███████▉  | 16013/20074 [00:34<00:08, 499.65it/s]"
          ]
        },
        {
          "output_type": "stream",
          "name": "stdout",
          "text": [
            "轮次2,损失1.182704,        时间77.301817,准确率0.658167\n"
          ]
        },
        {
          "output_type": "stream",
          "name": "stderr",
          "text": [
            " 85%|████████▍ | 17014/20074 [00:36<00:05, 517.67it/s]"
          ]
        },
        {
          "output_type": "stream",
          "name": "stdout",
          "text": [
            "轮次2,损失1.178043,        时间79.281027,准确率0.659703\n"
          ]
        },
        {
          "output_type": "stream",
          "name": "stderr",
          "text": [
            " 90%|████████▉ | 17992/20074 [00:38<00:05, 381.12it/s]"
          ]
        },
        {
          "output_type": "stream",
          "name": "stdout",
          "text": [
            "轮次2,损失1.171416,        时间81.595399,准确率0.661895\n"
          ]
        },
        {
          "output_type": "stream",
          "name": "stderr",
          "text": [
            " 95%|█████████▍| 18981/20074 [00:40<00:02, 490.52it/s]"
          ]
        },
        {
          "output_type": "stream",
          "name": "stdout",
          "text": [
            "轮次2,损失1.164397,        时间83.964445,准确率0.664026\n"
          ]
        },
        {
          "output_type": "stream",
          "name": "stderr",
          "text": [
            "100%|█████████▉| 20006/20074 [00:42<00:00, 488.77it/s]"
          ]
        },
        {
          "output_type": "stream",
          "name": "stdout",
          "text": [
            "轮次2,损失1.159235,        时间86.017018,准确率0.665675\n"
          ]
        },
        {
          "output_type": "stream",
          "name": "stderr",
          "text": [
            "100%|██████████| 20074/20074 [00:43<00:00, 465.80it/s]\n"
          ]
        },
        {
          "output_type": "stream",
          "name": "stdout",
          "text": [
            "torch.Size([1, 6, 57]) torch.Size([1])\n"
          ]
        },
        {
          "output_type": "stream",
          "name": "stderr",
          "text": [
            "  5%|▍         | 957/20074 [00:01<00:36, 526.82it/s]"
          ]
        },
        {
          "output_type": "stream",
          "name": "stdout",
          "text": [
            "轮次3,损失1.152369,        时间88.000182,准确率0.667780\n"
          ]
        },
        {
          "output_type": "stream",
          "name": "stderr",
          "text": [
            " 10%|▉         | 1945/20074 [00:03<00:35, 503.85it/s]"
          ]
        },
        {
          "output_type": "stream",
          "name": "stdout",
          "text": [
            "轮次3,损失1.148443,        时间89.992093,准确率0.668786\n"
          ]
        },
        {
          "output_type": "stream",
          "name": "stderr",
          "text": [
            " 15%|█▍        | 2934/20074 [00:05<00:34, 498.56it/s]"
          ]
        },
        {
          "output_type": "stream",
          "name": "stdout",
          "text": [
            "轮次3,损失1.143920,        时间91.977495,准确率0.669953\n"
          ]
        },
        {
          "output_type": "stream",
          "name": "stderr",
          "text": [
            " 19%|█▉        | 3906/20074 [00:07<00:38, 420.31it/s]"
          ]
        },
        {
          "output_type": "stream",
          "name": "stdout",
          "text": [
            "轮次3,损失1.138163,        时间94.157017,准确率0.671273\n"
          ]
        },
        {
          "output_type": "stream",
          "name": "stderr",
          "text": [
            " 25%|██▍       | 4948/20074 [00:10<00:31, 485.53it/s]"
          ]
        },
        {
          "output_type": "stream",
          "name": "stdout",
          "text": [
            "轮次3,损失1.133371,        时间96.622177,准确率0.672689\n"
          ]
        },
        {
          "output_type": "stream",
          "name": "stderr",
          "text": [
            " 30%|██▉       | 5943/20074 [00:12<00:27, 505.47it/s]"
          ]
        },
        {
          "output_type": "stream",
          "name": "stdout",
          "text": [
            "轮次3,损失1.127063,        时间98.618385,准确率0.674283\n"
          ]
        },
        {
          "output_type": "stream",
          "name": "stderr",
          "text": [
            " 35%|███▍      | 6934/20074 [00:14<00:26, 499.86it/s]"
          ]
        },
        {
          "output_type": "stream",
          "name": "stdout",
          "text": [
            "轮次3,损失1.121728,        时间100.611325,准确率0.675766\n"
          ]
        },
        {
          "output_type": "stream",
          "name": "stderr",
          "text": [
            " 39%|███▉      | 7919/20074 [00:16<00:25, 483.77it/s]"
          ]
        },
        {
          "output_type": "stream",
          "name": "stdout",
          "text": [
            "轮次3,损失1.116821,        时间102.599714,准确率0.676958\n"
          ]
        },
        {
          "output_type": "stream",
          "name": "stderr",
          "text": [
            " 44%|████▍     | 8921/20074 [00:18<00:23, 478.77it/s]"
          ]
        },
        {
          "output_type": "stream",
          "name": "stdout",
          "text": [
            "轮次3,损失1.112533,        时间104.586511,准确率0.678102\n"
          ]
        },
        {
          "output_type": "stream",
          "name": "stderr",
          "text": [
            " 49%|████▉     | 9896/20074 [00:20<00:25, 403.90it/s]"
          ]
        },
        {
          "output_type": "stream",
          "name": "stdout",
          "text": [
            "轮次3,损失1.107104,        时间106.670394,准确率0.679680\n"
          ]
        },
        {
          "output_type": "stream",
          "name": "stderr",
          "text": [
            " 54%|█████▍    | 10922/20074 [00:23<00:21, 423.64it/s]"
          ]
        },
        {
          "output_type": "stream",
          "name": "stdout",
          "text": [
            "轮次3,损失1.101546,        时间109.211471,准确率0.681255\n"
          ]
        },
        {
          "output_type": "stream",
          "name": "stderr",
          "text": [
            " 59%|█████▉    | 11914/20074 [00:24<00:15, 515.55it/s]"
          ]
        },
        {
          "output_type": "stream",
          "name": "stdout",
          "text": [
            "轮次3,损失1.097086,        时间111.192368,准确率0.682481\n"
          ]
        },
        {
          "output_type": "stream",
          "name": "stderr",
          "text": [
            " 65%|██████▍   | 12951/20074 [00:27<00:14, 503.79it/s]"
          ]
        },
        {
          "output_type": "stream",
          "name": "stdout",
          "text": [
            "轮次3,损失1.092701,        时间113.190542,准确率0.683377\n"
          ]
        },
        {
          "output_type": "stream",
          "name": "stderr",
          "text": [
            " 69%|██████▉   | 13939/20074 [00:29<00:11, 516.62it/s]"
          ]
        },
        {
          "output_type": "stream",
          "name": "stdout",
          "text": [
            "轮次3,损失1.089092,        时间115.175938,准确率0.684204\n"
          ]
        },
        {
          "output_type": "stream",
          "name": "stderr",
          "text": [
            " 74%|███████▍  | 14952/20074 [00:30<00:09, 526.32it/s]"
          ]
        },
        {
          "output_type": "stream",
          "name": "stdout",
          "text": [
            "轮次3,损失1.084914,        时间117.138846,准确率0.685345\n"
          ]
        },
        {
          "output_type": "stream",
          "name": "stderr",
          "text": [
            " 79%|███████▉  | 15896/20074 [00:32<00:07, 526.10it/s]"
          ]
        },
        {
          "output_type": "stream",
          "name": "stdout",
          "text": [
            "轮次3,损失1.081573,        时间119.108871,准确率0.686232\n"
          ]
        },
        {
          "output_type": "stream",
          "name": "stderr",
          "text": [
            " 84%|████████▍ | 16904/20074 [00:35<00:07, 400.65it/s]"
          ]
        },
        {
          "output_type": "stream",
          "name": "stdout",
          "text": [
            "轮次3,损失1.078133,        时间121.583974,准确率0.687140\n"
          ]
        },
        {
          "output_type": "stream",
          "name": "stderr",
          "text": [
            " 89%|████████▉ | 17914/20074 [00:37<00:04, 490.95it/s]"
          ]
        },
        {
          "output_type": "stream",
          "name": "stdout",
          "text": [
            "轮次3,损失1.075953,        时间123.779767,准确率0.687810\n"
          ]
        },
        {
          "output_type": "stream",
          "name": "stderr",
          "text": [
            " 94%|█████████▍| 18956/20074 [00:39<00:02, 499.75it/s]"
          ]
        },
        {
          "output_type": "stream",
          "name": "stdout",
          "text": [
            "轮次3,损失1.071928,        时间125.774611,准确率0.689000\n"
          ]
        },
        {
          "output_type": "stream",
          "name": "stderr",
          "text": [
            " 99%|█████████▉| 19904/20074 [00:41<00:00, 500.52it/s]"
          ]
        },
        {
          "output_type": "stream",
          "name": "stdout",
          "text": [
            "轮次3,损失1.067793,        时间127.732303,准确率0.690250\n"
          ]
        },
        {
          "output_type": "stream",
          "name": "stderr",
          "text": [
            "100%|██████████| 20074/20074 [00:41<00:00, 479.95it/s]\n"
          ]
        },
        {
          "output_type": "stream",
          "name": "stdout",
          "text": [
            "torch.Size([1, 6, 57]) torch.Size([1])\n"
          ]
        },
        {
          "output_type": "stream",
          "name": "stderr",
          "text": [
            "  4%|▍         | 833/20074 [00:01<00:39, 492.37it/s]"
          ]
        },
        {
          "output_type": "stream",
          "name": "stdout",
          "text": [
            "轮次4,损失1.064406,        时间129.741620,准确率0.691082\n"
          ]
        },
        {
          "output_type": "stream",
          "name": "stderr",
          "text": [
            "  9%|▉         | 1884/20074 [00:03<00:35, 508.79it/s]"
          ]
        },
        {
          "output_type": "stream",
          "name": "stdout",
          "text": [
            "轮次4,损失1.061143,        时间131.710029,准确率0.691887\n"
          ]
        },
        {
          "output_type": "stream",
          "name": "stderr",
          "text": [
            " 14%|█▍        | 2827/20074 [00:06<00:40, 423.61it/s]"
          ]
        },
        {
          "output_type": "stream",
          "name": "stdout",
          "text": [
            "轮次4,损失1.057767,        时间134.082291,准确率0.692683\n"
          ]
        },
        {
          "output_type": "stream",
          "name": "stderr",
          "text": [
            " 19%|█▉        | 3858/20074 [00:08<00:33, 488.81it/s]"
          ]
        },
        {
          "output_type": "stream",
          "name": "stdout",
          "text": [
            "轮次4,损失1.053872,        时间136.342356,准确率0.693641\n"
          ]
        },
        {
          "output_type": "stream",
          "name": "stderr",
          "text": [
            " 24%|██▍       | 4833/20074 [00:10<00:30, 503.61it/s]"
          ]
        },
        {
          "output_type": "stream",
          "name": "stdout",
          "text": [
            "轮次4,损失1.049624,        时间138.353623,准确率0.694862\n"
          ]
        },
        {
          "output_type": "stream",
          "name": "stderr",
          "text": [
            " 29%|██▉       | 5868/20074 [00:12<00:29, 487.42it/s]"
          ]
        },
        {
          "output_type": "stream",
          "name": "stdout",
          "text": [
            "轮次4,损失1.045774,        时间140.378351,准确率0.695818\n"
          ]
        },
        {
          "output_type": "stream",
          "name": "stderr",
          "text": [
            " 34%|███▍      | 6817/20074 [00:14<00:26, 498.98it/s]"
          ]
        },
        {
          "output_type": "stream",
          "name": "stdout",
          "text": [
            "轮次4,损失1.041495,        时间142.339594,准确率0.696970\n"
          ]
        },
        {
          "output_type": "stream",
          "name": "stderr",
          "text": [
            " 39%|███▉      | 7842/20074 [00:16<00:25, 481.62it/s]"
          ]
        },
        {
          "output_type": "stream",
          "name": "stdout",
          "text": [
            "轮次4,损失1.038809,        时间144.395880,准确率0.697779\n"
          ]
        },
        {
          "output_type": "stream",
          "name": "stderr",
          "text": [
            " 44%|████▍     | 8851/20074 [00:18<00:27, 407.53it/s]"
          ]
        },
        {
          "output_type": "stream",
          "name": "stdout",
          "text": [
            "轮次4,损失1.035312,        时间146.774973,准确率0.698609\n"
          ]
        },
        {
          "output_type": "stream",
          "name": "stderr",
          "text": [
            " 49%|████▉     | 9880/20074 [00:21<00:19, 522.88it/s]"
          ]
        },
        {
          "output_type": "stream",
          "name": "stdout",
          "text": [
            "轮次4,损失1.032362,        时间149.049835,准确率0.699386\n"
          ]
        },
        {
          "output_type": "stream",
          "name": "stderr",
          "text": [
            " 54%|█████▍    | 10865/20074 [00:23<00:18, 509.52it/s]"
          ]
        },
        {
          "output_type": "stream",
          "name": "stdout",
          "text": [
            "轮次4,损失1.029501,        时间151.062725,准确率0.700211\n"
          ]
        },
        {
          "output_type": "stream",
          "name": "stderr",
          "text": [
            " 59%|█████▉    | 11843/20074 [00:25<00:16, 492.63it/s]"
          ]
        },
        {
          "output_type": "stream",
          "name": "stdout",
          "text": [
            "轮次4,损失1.026759,        时间153.077667,准确率0.701042\n"
          ]
        },
        {
          "output_type": "stream",
          "name": "stderr",
          "text": [
            " 64%|██████▍   | 12840/20074 [00:27<00:14, 508.65it/s]"
          ]
        },
        {
          "output_type": "stream",
          "name": "stdout",
          "text": [
            "轮次4,损失1.023116,        时间155.058720,准确率0.702123\n"
          ]
        },
        {
          "output_type": "stream",
          "name": "stderr",
          "text": [
            " 69%|██████▉   | 13841/20074 [00:28<00:12, 516.69it/s]"
          ]
        },
        {
          "output_type": "stream",
          "name": "stdout",
          "text": [
            "轮次4,损失1.020348,        时间157.009512,准确率0.702824\n"
          ]
        },
        {
          "output_type": "stream",
          "name": "stderr",
          "text": [
            " 74%|███████▍  | 14825/20074 [00:31<00:12, 405.48it/s]"
          ]
        },
        {
          "output_type": "stream",
          "name": "stdout",
          "text": [
            "轮次4,损失1.017916,        时间159.157883,准确率0.703533\n"
          ]
        },
        {
          "output_type": "stream",
          "name": "stderr",
          "text": [
            " 79%|███████▉  | 15852/20074 [00:33<00:08, 496.18it/s]"
          ]
        },
        {
          "output_type": "stream",
          "name": "stdout",
          "text": [
            "轮次4,损失1.015043,        时间161.605567,准确率0.704500\n"
          ]
        },
        {
          "output_type": "stream",
          "name": "stderr",
          "text": [
            " 84%|████████▍ | 16831/20074 [00:35<00:06, 482.66it/s]"
          ]
        },
        {
          "output_type": "stream",
          "name": "stdout",
          "text": [
            "轮次4,损失1.013636,        时间163.631108,准确率0.704909\n"
          ]
        },
        {
          "output_type": "stream",
          "name": "stderr",
          "text": [
            " 89%|████████▉ | 17869/20074 [00:37<00:04, 490.43it/s]"
          ]
        },
        {
          "output_type": "stream",
          "name": "stdout",
          "text": [
            "轮次4,损失1.011531,        时间165.621040,准确率0.705474\n"
          ]
        },
        {
          "output_type": "stream",
          "name": "stderr",
          "text": [
            " 94%|█████████▍| 18857/20074 [00:39<00:02, 506.24it/s]"
          ]
        },
        {
          "output_type": "stream",
          "name": "stdout",
          "text": [
            "轮次4,损失1.008080,        时间167.609480,准确率0.706291\n"
          ]
        },
        {
          "output_type": "stream",
          "name": "stderr",
          "text": [
            " 99%|█████████▉| 19839/20074 [00:41<00:00, 486.61it/s]"
          ]
        },
        {
          "output_type": "stream",
          "name": "stdout",
          "text": [
            "轮次4,损失1.006207,        时间169.648476,准确率0.706738\n"
          ]
        },
        {
          "output_type": "stream",
          "name": "stderr",
          "text": [
            "100%|██████████| 20074/20074 [00:42<00:00, 477.50it/s]\n"
          ]
        },
        {
          "output_type": "stream",
          "name": "stdout",
          "text": [
            "torch.Size([1, 7, 57]) torch.Size([1])\n"
          ]
        },
        {
          "output_type": "stream",
          "name": "stderr",
          "text": [
            "  4%|▍         | 781/20074 [00:01<00:46, 411.84it/s]"
          ]
        },
        {
          "output_type": "stream",
          "name": "stdout",
          "text": [
            "轮次5,损失1.004156,        时间171.824976,准确率0.707333\n"
          ]
        },
        {
          "output_type": "stream",
          "name": "stderr",
          "text": [
            "  9%|▉         | 1784/20074 [00:04<00:39, 468.66it/s]"
          ]
        },
        {
          "output_type": "stream",
          "name": "stdout",
          "text": [
            "轮次5,损失1.001749,        时间174.289455,准确率0.707902\n"
          ]
        },
        {
          "output_type": "stream",
          "name": "stderr",
          "text": [
            " 14%|█▎        | 2756/20074 [00:06<00:33, 512.50it/s]"
          ]
        },
        {
          "output_type": "stream",
          "name": "stdout",
          "text": [
            "轮次5,损失0.999754,        时间176.305507,准确率0.708482\n"
          ]
        },
        {
          "output_type": "stream",
          "name": "stderr",
          "text": [
            " 19%|█▉        | 3772/20074 [00:08<00:34, 468.92it/s]"
          ]
        },
        {
          "output_type": "stream",
          "name": "stdout",
          "text": [
            "轮次5,损失0.997108,        时间178.369044,准确率0.708976\n"
          ]
        },
        {
          "output_type": "stream",
          "name": "stderr",
          "text": [
            " 24%|██▎       | 4767/20074 [00:10<00:29, 523.42it/s]"
          ]
        },
        {
          "output_type": "stream",
          "name": "stdout",
          "text": [
            "轮次5,损失0.994492,        时间180.340864,准确率0.709729\n"
          ]
        },
        {
          "output_type": "stream",
          "name": "stderr",
          "text": [
            " 29%|██▊       | 5756/20074 [00:12<00:28, 510.82it/s]"
          ]
        },
        {
          "output_type": "stream",
          "name": "stdout",
          "text": [
            "轮次5,损失0.991702,        时间182.344787,准确率0.710419\n"
          ]
        },
        {
          "output_type": "stream",
          "name": "stderr",
          "text": [
            " 34%|███▎      | 6743/20074 [00:14<00:31, 418.74it/s]"
          ]
        },
        {
          "output_type": "stream",
          "name": "stdout",
          "text": [
            "轮次5,损失0.989554,        时间184.372069,准确率0.710966\n"
          ]
        },
        {
          "output_type": "stream",
          "name": "stderr",
          "text": [
            " 39%|███▊      | 7774/20074 [00:16<00:31, 390.18it/s]"
          ]
        },
        {
          "output_type": "stream",
          "name": "stdout",
          "text": [
            "轮次5,损失0.987343,        时间186.840599,准确率0.711545\n"
          ]
        },
        {
          "output_type": "stream",
          "name": "stderr",
          "text": [
            " 44%|████▎     | 8770/20074 [00:18<00:23, 487.80it/s]"
          ]
        },
        {
          "output_type": "stream",
          "name": "stdout",
          "text": [
            "轮次5,损失0.985278,        时间188.967845,准确率0.712056\n"
          ]
        },
        {
          "output_type": "stream",
          "name": "stderr",
          "text": [
            " 49%|████▉     | 9809/20074 [00:20<00:19, 522.77it/s]"
          ]
        },
        {
          "output_type": "stream",
          "name": "stdout",
          "text": [
            "轮次5,损失0.982354,        时间190.966748,准确率0.712767\n"
          ]
        },
        {
          "output_type": "stream",
          "name": "stderr",
          "text": [
            " 54%|█████▍    | 10801/20074 [00:22<00:17, 516.23it/s]"
          ]
        },
        {
          "output_type": "stream",
          "name": "stdout",
          "text": [
            "轮次5,损失0.979839,        时间192.957655,准确率0.713495\n"
          ]
        },
        {
          "output_type": "stream",
          "name": "stderr",
          "text": [
            " 59%|█████▊    | 11778/20074 [00:24<00:16, 516.31it/s]"
          ]
        },
        {
          "output_type": "stream",
          "name": "stdout",
          "text": [
            "轮次5,损失0.977836,        时间194.973454,准确率0.713957\n"
          ]
        },
        {
          "output_type": "stream",
          "name": "stderr",
          "text": [
            " 64%|██████▎   | 12765/20074 [00:26<00:14, 502.79it/s]"
          ]
        },
        {
          "output_type": "stream",
          "name": "stdout",
          "text": [
            "轮次5,损失0.976042,        时间196.968220,准确率0.714538\n"
          ]
        },
        {
          "output_type": "stream",
          "name": "stderr",
          "text": [
            " 69%|██████▊   | 13779/20074 [00:29<00:16, 389.40it/s]"
          ]
        },
        {
          "output_type": "stream",
          "name": "stdout",
          "text": [
            "轮次5,损失0.973917,        时间199.387116,准确率0.715223\n"
          ]
        },
        {
          "output_type": "stream",
          "name": "stderr",
          "text": [
            " 74%|███████▎  | 14797/20074 [00:31<00:10, 516.75it/s]"
          ]
        },
        {
          "output_type": "stream",
          "name": "stdout",
          "text": [
            "轮次5,损失0.971799,        时间201.587276,准确率0.715895\n"
          ]
        },
        {
          "output_type": "stream",
          "name": "stderr",
          "text": [
            " 79%|███████▊  | 15784/20074 [00:33<00:08, 480.01it/s]"
          ]
        },
        {
          "output_type": "stream",
          "name": "stdout",
          "text": [
            "轮次5,损失0.970196,        时间203.603069,准确率0.716219\n"
          ]
        },
        {
          "output_type": "stream",
          "name": "stderr",
          "text": [
            " 84%|████████▎ | 16777/20074 [00:35<00:06, 491.63it/s]"
          ]
        },
        {
          "output_type": "stream",
          "name": "stdout",
          "text": [
            "轮次5,损失0.967993,        时间205.583456,准确率0.716680\n"
          ]
        },
        {
          "output_type": "stream",
          "name": "stderr",
          "text": [
            " 89%|████████▊ | 17801/20074 [00:37<00:04, 498.85it/s]"
          ]
        },
        {
          "output_type": "stream",
          "name": "stdout",
          "text": [
            "轮次5,损失0.965932,        时间207.625700,准确率0.717194\n"
          ]
        },
        {
          "output_type": "stream",
          "name": "stderr",
          "text": [
            " 94%|█████████▎| 18777/20074 [00:39<00:02, 502.93it/s]"
          ]
        },
        {
          "output_type": "stream",
          "name": "stdout",
          "text": [
            "轮次5,损失0.964422,        时间209.642220,准确率0.717717\n"
          ]
        },
        {
          "output_type": "stream",
          "name": "stderr",
          "text": [
            " 98%|█████████▊| 19764/20074 [00:42<00:00, 382.04it/s]"
          ]
        },
        {
          "output_type": "stream",
          "name": "stdout",
          "text": [
            "轮次5,损失0.961981,        时间212.152368,准确率0.718420\n"
          ]
        },
        {
          "output_type": "stream",
          "name": "stderr",
          "text": [
            "100%|██████████| 20074/20074 [00:42<00:00, 468.14it/s]\n"
          ]
        },
        {
          "output_type": "stream",
          "name": "stdout",
          "text": [
            "torch.Size([1, 4, 57]) torch.Size([1])\n"
          ]
        },
        {
          "output_type": "stream",
          "name": "stderr",
          "text": [
            "  3%|▎         | 688/20074 [00:01<00:54, 358.92it/s]"
          ]
        },
        {
          "output_type": "stream",
          "name": "stdout",
          "text": [
            "轮次6,损失0.960321,        时间214.985561,准确率0.718723\n"
          ]
        },
        {
          "output_type": "stream",
          "name": "stderr",
          "text": [
            "  9%|▊         | 1716/20074 [00:04<00:37, 484.62it/s]"
          ]
        },
        {
          "output_type": "stream",
          "name": "stdout",
          "text": [
            "轮次6,损失0.957822,        时间217.223765,准确率0.719441\n"
          ]
        },
        {
          "output_type": "stream",
          "name": "stderr",
          "text": [
            " 14%|█▎        | 2716/20074 [00:06<00:33, 516.35it/s]"
          ]
        },
        {
          "output_type": "stream",
          "name": "stdout",
          "text": [
            "轮次6,损失0.956305,        时间219.221466,准确率0.719786\n"
          ]
        },
        {
          "output_type": "stream",
          "name": "stderr",
          "text": [
            " 18%|█▊        | 3710/20074 [00:08<00:32, 506.02it/s]"
          ]
        },
        {
          "output_type": "stream",
          "name": "stdout",
          "text": [
            "轮次6,损失0.953983,        时间221.221282,准确率0.720404\n"
          ]
        },
        {
          "output_type": "stream",
          "name": "stderr",
          "text": [
            " 24%|██▎       | 4718/20074 [00:10<00:32, 471.15it/s]"
          ]
        },
        {
          "output_type": "stream",
          "name": "stdout",
          "text": [
            "轮次6,损失0.952457,        时间223.175508,准确率0.720705\n"
          ]
        },
        {
          "output_type": "stream",
          "name": "stderr",
          "text": [
            " 28%|██▊       | 5688/20074 [00:12<00:32, 439.72it/s]"
          ]
        },
        {
          "output_type": "stream",
          "name": "stdout",
          "text": [
            "轮次6,损失0.950663,        时间225.254160,准确率0.721113\n"
          ]
        },
        {
          "output_type": "stream",
          "name": "stderr",
          "text": [
            " 33%|███▎      | 6700/20074 [00:14<00:37, 357.54it/s]"
          ]
        },
        {
          "output_type": "stream",
          "name": "stdout",
          "text": [
            "轮次6,损失0.948595,        时间227.792034,准确率0.721636\n"
          ]
        },
        {
          "output_type": "stream",
          "name": "stderr",
          "text": [
            " 38%|███▊      | 7714/20074 [00:16<00:24, 498.30it/s]"
          ]
        },
        {
          "output_type": "stream",
          "name": "stdout",
          "text": [
            "轮次6,损失0.946766,        时间229.864534,准确率0.722009\n"
          ]
        },
        {
          "output_type": "stream",
          "name": "stderr",
          "text": [
            " 43%|████▎     | 8698/20074 [00:18<00:22, 507.01it/s]"
          ]
        },
        {
          "output_type": "stream",
          "name": "stdout",
          "text": [
            "轮次6,损失0.944669,        时间231.866143,准确率0.722550\n"
          ]
        },
        {
          "output_type": "stream",
          "name": "stderr",
          "text": [
            " 48%|████▊     | 9727/20074 [00:20<00:20, 497.98it/s]"
          ]
        },
        {
          "output_type": "stream",
          "name": "stdout",
          "text": [
            "轮次6,损失0.942675,        时间233.881097,准确率0.723000\n"
          ]
        },
        {
          "output_type": "stream",
          "name": "stderr",
          "text": [
            " 53%|█████▎    | 10715/20074 [00:22<00:18, 504.69it/s]"
          ]
        },
        {
          "output_type": "stream",
          "name": "stdout",
          "text": [
            "轮次6,损失0.941165,        时间235.874617,准确率0.723297\n"
          ]
        },
        {
          "output_type": "stream",
          "name": "stderr",
          "text": [
            " 58%|█████▊    | 11693/20074 [00:24<00:16, 509.14it/s]"
          ]
        },
        {
          "output_type": "stream",
          "name": "stdout",
          "text": [
            "轮次6,损失0.939466,        时间237.894460,准确率0.723723\n"
          ]
        },
        {
          "output_type": "stream",
          "name": "stderr",
          "text": [
            " 63%|██████▎   | 12653/20074 [00:27<00:18, 395.67it/s]"
          ]
        },
        {
          "output_type": "stream",
          "name": "stdout",
          "text": [
            "轮次6,损失0.937869,        时间240.388319,准确率0.724124\n"
          ]
        },
        {
          "output_type": "stream",
          "name": "stderr",
          "text": [
            " 68%|██████▊   | 13723/20074 [00:29<00:12, 489.39it/s]"
          ]
        },
        {
          "output_type": "stream",
          "name": "stdout",
          "text": [
            "轮次6,损失0.936348,        时间242.582245,准确率0.724474\n"
          ]
        },
        {
          "output_type": "stream",
          "name": "stderr",
          "text": [
            " 73%|███████▎  | 14695/20074 [00:31<00:10, 494.81it/s]"
          ]
        },
        {
          "output_type": "stream",
          "name": "stdout",
          "text": [
            "轮次6,损失0.934849,        时间244.623707,准确率0.724878\n"
          ]
        },
        {
          "output_type": "stream",
          "name": "stderr",
          "text": [
            " 78%|███████▊  | 15689/20074 [00:33<00:09, 471.88it/s]"
          ]
        },
        {
          "output_type": "stream",
          "name": "stdout",
          "text": [
            "轮次6,损失0.933159,        时间246.605658,准确率0.725345\n"
          ]
        },
        {
          "output_type": "stream",
          "name": "stderr",
          "text": [
            " 83%|████████▎ | 16681/20074 [00:35<00:06, 497.01it/s]"
          ]
        },
        {
          "output_type": "stream",
          "name": "stdout",
          "text": [
            "轮次6,损失0.931674,        时间248.583671,准确率0.725744\n"
          ]
        },
        {
          "output_type": "stream",
          "name": "stderr",
          "text": [
            " 88%|████████▊ | 17678/20074 [00:37<00:04, 510.03it/s]"
          ]
        },
        {
          "output_type": "stream",
          "name": "stdout",
          "text": [
            "轮次6,损失0.930145,        时间250.573671,准确率0.726161\n"
          ]
        },
        {
          "output_type": "stream",
          "name": "stderr",
          "text": [
            " 93%|█████████▎| 18699/20074 [00:39<00:03, 413.06it/s]"
          ]
        },
        {
          "output_type": "stream",
          "name": "stdout",
          "text": [
            "轮次6,损失0.928299,        时间252.990288,准确率0.726655\n"
          ]
        },
        {
          "output_type": "stream",
          "name": "stderr",
          "text": [
            " 98%|█████████▊| 19722/20074 [00:42<00:00, 503.15it/s]"
          ]
        },
        {
          "output_type": "stream",
          "name": "stdout",
          "text": [
            "轮次6,损失0.926894,        时间255.254635,准确率0.726967\n"
          ]
        },
        {
          "output_type": "stream",
          "name": "stderr",
          "text": [
            "100%|██████████| 20074/20074 [00:42<00:00, 466.93it/s]\n"
          ]
        },
        {
          "output_type": "stream",
          "name": "stdout",
          "text": [
            "torch.Size([1, 6, 57]) torch.Size([1])\n"
          ]
        },
        {
          "output_type": "stream",
          "name": "stderr",
          "text": [
            "  3%|▎         | 625/20074 [00:01<00:39, 486.69it/s]"
          ]
        },
        {
          "output_type": "stream",
          "name": "stdout",
          "text": [
            "轮次7,损失0.925827,        时间257.266298,准确率0.727223\n"
          ]
        },
        {
          "output_type": "stream",
          "name": "stderr",
          "text": [
            "  8%|▊         | 1609/20074 [00:03<00:36, 502.79it/s]"
          ]
        },
        {
          "output_type": "stream",
          "name": "stdout",
          "text": [
            "轮次7,损失0.923801,        时间259.274571,准确率0.727820\n"
          ]
        },
        {
          "output_type": "stream",
          "name": "stderr",
          "text": [
            " 13%|█▎        | 2634/20074 [00:05<00:34, 500.87it/s]"
          ]
        },
        {
          "output_type": "stream",
          "name": "stdout",
          "text": [
            "轮次7,损失0.922117,        时间261.297391,准确率0.728195\n"
          ]
        },
        {
          "output_type": "stream",
          "name": "stderr",
          "text": [
            " 18%|█▊        | 3635/20074 [00:07<00:34, 476.08it/s]"
          ]
        },
        {
          "output_type": "stream",
          "name": "stdout",
          "text": [
            "轮次7,损失0.920626,        时间263.251465,准确率0.728629\n"
          ]
        },
        {
          "output_type": "stream",
          "name": "stderr",
          "text": [
            " 23%|██▎       | 4616/20074 [00:09<00:37, 414.68it/s]"
          ]
        },
        {
          "output_type": "stream",
          "name": "stdout",
          "text": [
            "轮次7,损失0.919334,        时间265.548135,准确率0.728976\n"
          ]
        },
        {
          "output_type": "stream",
          "name": "stderr",
          "text": [
            " 28%|██▊       | 5630/20074 [00:11<00:29, 496.37it/s]"
          ]
        },
        {
          "output_type": "stream",
          "name": "stdout",
          "text": [
            "轮次7,损失0.918177,        时间267.973057,准确率0.729230\n"
          ]
        },
        {
          "output_type": "stream",
          "name": "stderr",
          "text": [
            " 33%|███▎      | 6622/20074 [00:13<00:26, 509.64it/s]"
          ]
        },
        {
          "output_type": "stream",
          "name": "stdout",
          "text": [
            "轮次7,损失0.916483,        时间269.975018,准确率0.729559\n"
          ]
        },
        {
          "output_type": "stream",
          "name": "stderr",
          "text": [
            " 38%|███▊      | 7613/20074 [00:15<00:24, 517.08it/s]"
          ]
        },
        {
          "output_type": "stream",
          "name": "stdout",
          "text": [
            "轮次7,损失0.915394,        时间271.961864,准确率0.729852\n"
          ]
        },
        {
          "output_type": "stream",
          "name": "stderr",
          "text": [
            " 43%|████▎     | 8657/20074 [00:17<00:21, 520.43it/s]"
          ]
        },
        {
          "output_type": "stream",
          "name": "stdout",
          "text": [
            "轮次7,损失0.913922,        时间273.960064,准确率0.730217\n"
          ]
        },
        {
          "output_type": "stream",
          "name": "stderr",
          "text": [
            " 48%|████▊     | 9659/20074 [00:19<00:20, 511.74it/s]"
          ]
        },
        {
          "output_type": "stream",
          "name": "stdout",
          "text": [
            "轮次7,损失0.912744,        时间275.914955,准确率0.730592\n"
          ]
        },
        {
          "output_type": "stream",
          "name": "stderr",
          "text": [
            " 53%|█████▎    | 10613/20074 [00:22<00:23, 403.03it/s]"
          ]
        },
        {
          "output_type": "stream",
          "name": "stdout",
          "text": [
            "轮次7,损失0.911122,        时间278.101777,准确率0.730939\n"
          ]
        },
        {
          "output_type": "stream",
          "name": "stderr",
          "text": [
            " 58%|█████▊    | 11617/20074 [00:24<00:17, 470.85it/s]"
          ]
        },
        {
          "output_type": "stream",
          "name": "stdout",
          "text": [
            "轮次7,损失0.909574,        时间280.573284,准确率0.731364\n"
          ]
        },
        {
          "output_type": "stream",
          "name": "stderr",
          "text": [
            " 63%|██████▎   | 12607/20074 [00:26<00:14, 500.75it/s]"
          ]
        },
        {
          "output_type": "stream",
          "name": "stdout",
          "text": [
            "轮次7,损失0.908319,        时间282.552270,准确率0.731669\n"
          ]
        },
        {
          "output_type": "stream",
          "name": "stderr",
          "text": [
            " 68%|██████▊   | 13640/20074 [00:28<00:12, 510.57it/s]"
          ]
        },
        {
          "output_type": "stream",
          "name": "stdout",
          "text": [
            "轮次7,损失0.906635,        时间284.566494,准确率0.732052\n"
          ]
        },
        {
          "output_type": "stream",
          "name": "stderr",
          "text": [
            " 73%|███████▎  | 14627/20074 [00:30<00:11, 478.74it/s]"
          ]
        },
        {
          "output_type": "stream",
          "name": "stdout",
          "text": [
            "轮次7,损失0.905554,        时间286.563240,准确率0.732304\n"
          ]
        },
        {
          "output_type": "stream",
          "name": "stderr",
          "text": [
            " 76%|███████▌  | 15201/20074 [00:31<00:09, 514.09it/s]"
          ]
        }
      ]
    },
    {
      "cell_type": "code",
      "source": [
        "#@title 构建LSTM\n",
        "# LSTM类 实现思路分析：\n",
        "# 1 init函数 准备三个层 self.rnn self.linear self.softmax=nn.LogSoftmax(dim=-1)\n",
        "#    def __init__(self, input_size, hidden_size, output_size, num_layers=1)\n",
        "\n",
        "# 2 forward(input, hidden)函数\n",
        "#   让数据经过三个层 返回softmax结果和hn\n",
        "#   形状变化 [seqlen,1,57],[1,1,128]) -> [seqlen,1,128],[1,1,128]\n",
        "\n",
        "# 3 初始化隐藏层输入数据 inithidden()\n",
        "#   形状[self.num_layers, 1, self.hidden_size]\n",
        "class myLSTM(nn.Module):\n",
        "  def __init__(self, input_size, hidden_size, output_size, num_layers=1):\n",
        "    super().__init__()\n",
        "    self.input_size = input_size\n",
        "    self.num_layers = num_layers\n",
        "    self.hidden_size = hidden_size\n",
        "    self.output_size = output_size\n",
        "\n",
        "    self.lstm = nn.LSTM(input_size, hidden_size, num_layers)\n",
        "    self.out = nn.Linear(hidden_size, output_size)\n",
        "    #根据后边的损失函数如果是CrossEntropyLoss,就不需要softmax，是NLLLoss就需要加上softmax\n",
        "    self.softmax = nn.LogSoftmax(dim=-1)\n",
        "\n",
        "  #前向传播\n",
        "  def forward(self,input,hidden,c):\n",
        "    #input\n",
        "    input = input.unsqueeze(1)\n",
        "\n",
        "    rr,(hn,cn) = self.lstm(input,(hidden,c))\n",
        "    tmprr = rr[-1]\n",
        "    tmprr = self.out(tmprr)\n",
        "    return self.softmax(tmprr),hn,cn\n",
        "\n",
        "  #初始化隐藏层输入数据\n",
        "  def inithidden(self):\n",
        "    hidden = c = torch.zeros(self.num_layers, 1, self.hidden_size)\n",
        "    return hidden,c\n",
        "\n",
        "#@title LSTM训练\n",
        "lr = 1e-3\n",
        "epochs = 10\n",
        "path = \"/content/drive/MyDrive/NLP/data/name_classfication.txt\"\n",
        "x,y = read_data(path)\n",
        "def train_lstm(x,y):\n",
        "  # 检查是否有可用的CUDA设备\n",
        "  device = torch.device(\"cuda\" if torch.cuda.is_available() else \"cpu\")\n",
        "  print(f\"Using device: {device}\")\n",
        "\n",
        "  #实例化dataloader\n",
        "  namedataloader = get_traindata()\n",
        "  input_size = all_letters\n",
        "  hidden_size = 200\n",
        "  output_size = categorynum\n",
        "  #实例化模型\n",
        "  my_lstm = myLSTM(input_size=n_letters,\n",
        "                 hidden_size=hidden_size,\n",
        "                 output_size=categorynum).to(device) # 将模型移动到GPU\n",
        "\n",
        "  loss_fn = nn.NLLLoss()\n",
        "  optimizer = optim.Adam(my_lstm.parameters(), lr=lr)\n",
        "\n",
        "  starttime = time.time()\n",
        "  total_iter_num = 0 #已经训练的样本数\n",
        "  total_loss = 0  #已经训练的损失和\n",
        "  total_loss_list = [] #每批样本求一次平均损失\n",
        "  total_acc_num = 0 #训练样本准确总数\n",
        "  total_acc_list = [] #平均准确率列表\n",
        "\n",
        "  for epoch in range(epochs):\n",
        "    for i,(x,y) in enumerate(namedataloader):\n",
        "      x,y = x.to(device), y.to(device) # 将数据移动到GPU\n",
        "      hidden,c = [h.to(device) for h in my_lstm.inithidden()] # 将隐藏层初始化数据移动到GPU\n",
        "      output,hidden,c = my_lstm(x[0],hidden,c)\n",
        "\n",
        "      loss = loss_fn(output,y)\n",
        "      optimizer.zero_grad()\n",
        "      loss.backward()\n",
        "      optimizer.step()\n",
        "      #计算损失\n",
        "      total_iter_num = total_iter_num + 1\n",
        "      total_loss = total_loss + loss.item()\n",
        "      #计算准确率\n",
        "      i_predit_tag = (1 if torch.argmax(output).item() == y.item() else 0)\n",
        "      total_acc_num = total_acc_num + i_predit_tag\n",
        "      #每100次训练计算一次平均损失\n",
        "      if (total_iter_num % 100 == 0):\n",
        "        tmploss = total_loss / total_iter_num\n",
        "        total_loss_list.append(tmploss)\n",
        "\n",
        "        tmpacc = total_acc_num / total_iter_num\n",
        "        total_acc_list.append(tmpacc)\n",
        "      #每1000次训练打印日志\n",
        "      if (total_iter_num % 1000 == 0):\n",
        "        total_time = time.time() - starttime\n",
        "        print(f'轮次{epoch+1},损失{tmploss},\\\n",
        "        时间{time.time()-starttime},准确率{tmpacc}')\n",
        "  #计算总时间\n",
        "  total_time = int(time.time() - starttime)\n",
        "  #保存训练好的模型\n",
        "  torch.save(my_lstm.state_dict(), '/content/drive/MyDrive/NLP/model/my_lstm_model.bin')\n",
        "  return total_lloss_list, total_ltime, total_lacc_list\n",
        "\n",
        "total_lloss_list, total_ltime, total_lacc_list = train_lstm(x,y)"
      ],
      "metadata": {
        "colab": {
          "base_uri": "https://localhost:8080/"
        },
        "id": "LRmxp4UvyzJZ",
        "outputId": "31651d64-0942-4633-c770-1bf39cd578d5",
        "collapsed": true,
        "cellView": "form"
      },
      "execution_count": null,
      "outputs": [
        {
          "output_type": "stream",
          "name": "stdout",
          "text": [
            "torch.Size([1, 8, 57]) torch.Size([1])\n",
            "轮次1,损失1.7274325644169002,        时间4.453881025314331,准确率0.491\n",
            "轮次1,损失1.5818474416137325,        时间8.699905157089233,准确率0.537\n",
            "轮次1,损失1.4878163814740353,        时间14.078070402145386,准确率0.567\n",
            "轮次1,损失1.4156519952359194,        时间18.525463819503784,准确率0.587\n",
            "轮次1,损失1.353881533367309,        时间23.819997310638428,准确率0.6076\n",
            "轮次1,损失1.3033076276193194,        时间28.59471893310547,准确率0.6203333333333333\n",
            "轮次1,损失1.2645274292429407,        时间32.91413187980652,准确率0.6321428571428571\n",
            "轮次1,损失1.2298001573693838,        时间38.90065884590149,准确率0.640375\n",
            "轮次1,损失1.2093263277982906,        时间42.914738178253174,准确率0.6453333333333333\n",
            "轮次1,损失1.1819309188892053,        时间48.39391326904297,准确率0.6517\n",
            "轮次1,损失1.1564070404489362,        时间52.703277349472046,准确率0.6601818181818182\n",
            "轮次1,损失1.131950978658327,        时间56.90431785583496,准确率0.66575\n",
            "轮次1,损失1.113162177726303,        时间62.199392557144165,准确率0.6721538461538461\n",
            "轮次1,损失1.0939554187730358,        时间66.326988697052,准确率0.6763571428571429\n",
            "轮次1,损失1.0783398531870798,        时间69.9215795993805,准确率0.6804\n",
            "轮次1,损失1.0646748012796177,        时间74.80904603004456,准确率0.684125\n",
            "轮次1,损失1.0496888565781382,        时间79.20469260215759,准确率0.688\n",
            "轮次1,损失1.0356245644317075,        时间84.20687818527222,准确率0.6916111111111111\n",
            "轮次1,损失1.0207046511327997,        时间88.95944619178772,准确率0.6963157894736842\n",
            "轮次1,损失1.0058954254668993,        时间92.74087285995483,准确率0.70085\n",
            "轮次2,损失0.9938519298189297,        时间97.41742610931396,准确率0.7036190476190476\n",
            "轮次2,损失0.9781310656288568,        时间102.26080918312073,准确率0.7080454545454545\n",
            "轮次2,损失0.9662440366655248,        时间106.68168997764587,准确率0.7108695652173913\n",
            "轮次2,损失0.9550732652873701,        时间111.95535635948181,准确率0.714625\n",
            "轮次2,损失0.9447654957132032,        时间115.88959097862244,准确率0.71816\n",
            "轮次2,损失0.933463971250219,        时间119.77001309394836,准确率0.7211153846153846\n",
            "轮次2,损失0.9235034279987877,        时间124.52025961875916,准确率0.7242222222222222\n",
            "轮次2,损失0.915493134706286,        时间128.46908521652222,准确率0.7263571428571428\n",
            "轮次2,损失0.9060782281045824,        时间132.30229687690735,准确率0.7290344827586207\n",
            "轮次2,损失0.8965760671730851,        时间137.24297904968262,准确率0.7316666666666667\n",
            "轮次2,损失0.8892125861815201,        时间141.5821669101715,准确率0.7336129032258064\n",
            "轮次2,损失0.880549747355491,        时间145.47556114196777,准确率0.73615625\n",
            "轮次2,损失0.8723851183102533,        时间150.40962743759155,准确率0.7383939393939394\n",
            "轮次2,损失0.8642937407950155,        时间154.5692982673645,准确率0.7408823529411764\n",
            "轮次2,损失0.8572344754602299,        时间159.1562626361847,准确率0.7428285714285714\n",
            "轮次2,损失0.8498395571898097,        时间164.01809787750244,准确率0.7450833333333333\n",
            "轮次2,损失0.8436293064776109,        时间168.23695135116577,准确率0.7468648648648649\n",
            "轮次2,损失0.8383510961355863,        时间173.02874875068665,准确率0.7483947368421052\n",
            "轮次2,损失0.8315065735792089,        时间177.36594986915588,准确率0.7501025641025642\n",
            "轮次2,损失0.8258714389080818,        时间182.05032658576965,准确率0.7516\n",
            "轮次3,损失0.8193902660748706,        时间187.24331307411194,准确率0.7533170731707317\n",
            "轮次3,损失0.8126474417106724,        时间191.99059081077576,准确率0.7548333333333334\n",
            "轮次3,损失0.8070719023746119,        时间197.37363982200623,准确率0.7565348837209303\n",
            "轮次3,损失0.8004567428614008,        时间201.4581949710846,准确率0.7583409090909091\n",
            "轮次3,损失0.7943096210438683,        时间205.82184529304504,准确率0.7601555555555556\n",
            "轮次3,损失0.7890642906182962,        时间210.47696948051453,准确率0.7617391304347826\n",
            "轮次3,损失0.7825678701258008,        时间215.00741457939148,准确率0.7636170212765957\n",
            "轮次3,损失0.7767221576912517,        时间219.41998744010925,准确率0.7650625\n",
            "轮次3,损失0.7719517365074787,        时间224.5140278339386,准确率0.7662448979591837\n",
            "轮次3,损失0.7666101468703009,        时间228.59543013572693,准确率0.7678\n",
            "轮次3,损失0.7612089920692698,        时间232.7033407688141,准确率0.769235294117647\n",
            "轮次3,损失0.7555206705626413,        时间237.5624611377716,准确率0.7708653846153846\n",
            "轮次3,损失0.7504508069402335,        时间241.4027554988861,准确率0.772245283018868\n",
            "轮次3,损失0.7460197807141098,        时间246.12878561019897,准确率0.7734814814814814\n",
            "轮次3,损失0.7414823781428334,        时间250.1642575263977,准确率0.7746363636363637\n",
            "轮次3,损失0.7370671303466809,        时间254.0708224773407,准确率0.7759107142857142\n",
            "轮次3,损失0.7327673796323815,        时间258.7263741493225,准确率0.7771929824561403\n",
            "轮次3,损失0.7293227033961809,        时间262.41513895988464,准确率0.7779137931034483\n",
            "轮次3,损失0.7262359927937453,        时间266.1897087097168,准确率0.7788983050847458\n",
            "轮次3,损失0.7224069316214526,        时间269.98390674591064,准确率0.7799333333333334\n",
            "轮次4,损失0.7174908212236015,        时间273.8162467479706,准确率0.7812459016393443\n",
            "轮次4,损失0.7122890441933742,        时间277.7887740135193,准确率0.7826774193548387\n",
            "轮次4,损失0.7071771077783386,        时间282.92072439193726,准确率0.7840952380952381\n",
            "轮次4,损失0.7020342309268398,        时间288.2864897251129,准确率0.7855\n",
            "轮次4,损失0.6977743285337576,        时间292.7831280231476,准确率0.786676923076923\n",
            "轮次4,损失0.6934203580650047,        时间297.99989461898804,准确率0.787969696969697\n",
            "轮次4,损失0.6897576787091929,        时间301.73756432533264,准确率0.7890298507462686\n",
            "轮次4,损失0.6856010249359027,        时间306.4008939266205,准确率0.7903088235294118\n",
            "轮次4,损失0.682158716917316,        时间311.43037700653076,准确率0.7913478260869565\n",
            "轮次4,损失0.6788149036190432,        时间315.9894940853119,准确率0.7922285714285714\n",
            "轮次4,损失0.6756937069134803,        时间320.598224401474,准确率0.7930704225352113\n",
            "轮次4,损失0.672304103463762,        时间324.18789935112,准确率0.7939861111111111\n",
            "轮次4,损失0.6689620743653991,        时间328.5870888233185,准确率0.7949041095890411\n",
            "轮次4,损失0.6656138548360458,        时间333.8662009239197,准确率0.7957837837837838\n",
            "轮次4,损失0.6624554126380279,        时间337.6170663833618,准确率0.7966133333333333\n",
            "轮次4,损失0.6593760647481709,        时间342.11136746406555,准确率0.7974868421052631\n",
            "轮次4,损失0.6562696499327851,        时间347.4090497493744,准确率0.7983506493506494\n",
            "轮次4,损失0.6541529760050739,        时间351.40745091438293,准确率0.7988846153846154\n",
            "轮次4,损失0.6508213773221453,        时间355.6260151863098,准确率0.7997594936708861\n",
            "轮次4,损失0.648217047982944,        时间359.93551087379456,准确率0.800525\n",
            "轮次5,损失0.6447099711947801,        时间363.7916715145111,准确率0.8015432098765433\n",
            "轮次5,损失0.6408620035009225,        时间368.104101896286,准确率0.8025853658536586\n",
            "轮次5,损失0.6373009342637538,        时间372.6779143810272,准确率0.8035903614457831\n",
            "轮次5,损失0.6335555775972784,        时间376.2872099876404,准确率0.8047380952380953\n",
            "轮次5,损失0.6298597273598687,        时间380.2301163673401,准确率0.8057176470588235\n",
            "轮次5,损失0.6268851668788037,        时间384.4427363872528,准确率0.8065116279069767\n",
            "轮次5,损失0.6234093854510866,        时间388.41324615478516,准确率0.8075172413793104\n",
            "轮次5,损失0.6205390863056794,        时间392.27771854400635,准确率0.8083181818181818\n",
            "轮次5,损失0.6171599678067509,        时间396.60729002952576,准确率0.8093258426966292\n",
            "轮次5,损失0.6143438159276032,        时间400.1936447620392,准确率0.8101\n",
            "轮次5,损失0.6118206037347986,        时间403.9594235420227,准确率0.8109340659340659\n",
            "轮次5,损失0.6091595630240886,        时间408.69032192230225,准确率0.8116847826086957\n",
            "轮次5,损失0.6066510903252961,        时间412.42385149002075,准确率0.8124731182795699\n",
            "轮次5,损失0.6041941163406749,        时间416.19143414497375,准确率0.8132127659574468\n",
            "轮次5,损失0.6015893265780068,        时间420.9111087322235,准确率0.8139578947368421\n",
            "轮次5,损失0.5990527584575387,        时间424.85978841781616,准确率0.81459375\n",
            "轮次5,损失0.5964070564312668,        时间428.4460117816925,准确率0.8153298969072165\n",
            "轮次5,损失0.594360778158297,        时间433.24365973472595,准确率0.8157857142857143\n",
            "轮次5,损失0.5917461049137299,        时间437.66067457199097,准确率0.8166060606060606\n",
            "轮次5,损失0.5896064258362373,        时间442.201553106308,准确率0.81724\n",
            "轮次6,损失0.586488931411978,        时间446.6802101135254,准确率0.8181782178217821\n",
            "轮次6,损失0.5829259984017701,        时间450.2626554965973,准确率0.8191764705882353\n",
            "轮次6,损失0.5793922248864504,        时间454.4890651702881,准确率0.8202718446601942\n",
            "轮次6,损失0.5765733317679042,        时间458.8152675628662,准确率0.8210192307692308\n",
            "轮次6,损失0.5736276620279137,        时间462.67027616500854,准确率0.8219238095238095\n",
            "轮次6,损失0.5712563787283353,        时间467.53621792793274,准确率0.8226320754716981\n",
            "轮次6,损失0.568351135781584,        时间472.4588668346405,准确率0.8235233644859813\n",
            "轮次6,损失0.5657146118773397,        时间477.1177484989166,准确率0.8242962962962963\n",
            "轮次6,损失0.5630371513047017,        时间481.97049617767334,准确率0.8250642201834862\n",
            "轮次6,损失0.5604483864137868,        时间485.97002363204956,准确率0.8258\n",
            "轮次6,损失0.558280192067198,        时间489.9315207004547,准确率0.8264414414414415\n",
            "轮次6,损失0.5562049348634894,        时间494.60806703567505,准确率0.8270089285714286\n",
            "轮次6,损失0.553961449829772,        时间498.5870246887207,准确率0.8276194690265487\n",
            "轮次6,损失0.5516758973862416,        时间503.2830591201782,准确率0.8282719298245614\n",
            "轮次6,损失0.5495081416535015,        时间508.11760997772217,准确率0.8289130434782609\n",
            "轮次6,损失0.5474862158897202,        时间512.5992045402527,准确率0.8295\n",
            "轮次6,损失0.5456496225950686,        时间517.1975178718567,准确率0.830017094017094\n",
            "轮次6,损失0.5438336921687351,        时间521.0043873786926,准确率0.8304830508474577\n",
            "轮次6,损失0.5417560269439605,        时间524.9948356151581,准确率0.8310672268907563\n",
            "轮次6,损失0.539634378576414,        时间529.8920550346375,准确率0.831625\n",
            "轮次7,损失0.5369763835660483,        时间533.9991841316223,准确率0.8324793388429752\n",
            "轮次7,损失0.5341688369083434,        时间538.502810716629,准确率0.8333688524590164\n",
            "轮次7,损失0.5316818273866111,        时间543.1040351390839,准确率0.834130081300813\n",
            "轮次7,损失0.5292708949370745,        时间547.3931570053101,准确率0.8348709677419355\n",
            "轮次7,损失0.526810232156718,        时间551.7712156772614,准确率0.835624\n",
            "轮次7,损失0.5246052750599477,        时间556.27015376091,准确率0.8363174603174603\n",
            "轮次7,损失0.5222081329954644,        时间560.6472454071045,准确率0.837007874015748\n",
            "轮次7,损失0.5197955798134364,        时间565.1234087944031,准确率0.8377734375\n",
            "轮次7,损失0.5177860750096456,        时间569.4225089550018,准确率0.8383720930232558\n",
            "轮次7,损失0.5156739286844287,        时间573.5519559383392,准确率0.8389846153846154\n",
            "轮次7,损失0.5137236654195173,        时间578.1432023048401,准确率0.8395725190839695\n",
            "轮次7,损失0.5121833997400358,        时间581.8464014530182,准确率0.8400454545454545\n",
            "轮次7,损失0.51040142320005,        时间585.9525389671326,准确率0.8405639097744361\n",
            "轮次7,损失0.5085390394744153,        时间590.7571382522583,准确率0.841044776119403\n",
            "轮次7,损失0.5066406188941858,        时间595.0401146411896,准确率0.8415481481481482\n",
            "轮次7,损失0.5046238854965789,        时间599.179886341095,准确率0.8422132352941176\n",
            "轮次7,损失0.5025578265463236,        时间603.7685782909393,准确率0.8428102189781022\n",
            "轮次7,损失0.5006797694424311,        时间607.5106363296509,准确率0.8433768115942029\n",
            "轮次7,损失0.49897562756419017,        时间611.2610659599304,准确率0.8438273381294964\n",
            "轮次7,损失0.49746531638654656,        时间615.8230831623077,准确率0.8443\n",
            "轮次8,损失0.4956663680863862,        时间619.8921411037445,准确率0.844822695035461\n",
            "轮次8,损失0.4933362202615119,        时间624.1733798980713,准确率0.8455774647887324\n",
            "轮次8,损失0.49099587078536916,        时间628.9311735630035,准确率0.8463146853146853\n",
            "轮次8,损失0.4887606080642824,        时间633.0340447425842,准确率0.8469861111111111\n",
            "轮次8,损失0.48665118412193964,        时间637.0087797641754,准确率0.8476206896551725\n",
            "轮次8,损失0.48487131503099046,        时间641.9014704227448,准确率0.8481917808219178\n",
            "轮次8,损失0.48269043301477027,        时间645.6290571689606,准确率0.8488843537414966\n",
            "轮次8,损失0.4806661705384823,        时间649.9406197071075,准确率0.849527027027027\n",
            "轮次8,损失0.47895455738595993,        时间654.3737077713013,准确率0.8500402684563758\n",
            "轮次8,损失0.4770921335347589,        时间658.1227021217346,准确率0.8506133333333333\n",
            "轮次8,损失0.47534925974888975,        时间662.127682685852,准确率0.8511192052980132\n",
            "轮次8,损失0.4737595312999141,        时间667.4449803829193,准确率0.8515263157894737\n",
            "轮次8,损失0.4724070207879724,        时间671.5915122032166,准确率0.8519542483660131\n",
            "轮次8,损失0.47064068550263466,        时间675.2939019203186,准确率0.8525\n",
            "轮次8,损失0.46926106345282603,        时间679.8016309738159,准确率0.8528774193548387\n",
            "轮次8,损失0.46746690478859854,        时间683.7428026199341,准确率0.8534038461538461\n",
            "轮次8,损失0.4658630281419555,        时间688.020429611206,准确率0.853859872611465\n",
            "轮次8,损失0.4644259788630711,        时间692.7215099334717,准确率0.8542721518987342\n",
            "轮次8,损失0.4627910327998609,        时间696.7672882080078,准确率0.8547232704402515\n",
            "轮次8,损失0.4616051075192853,        时间701.2335028648376,准确率0.855025\n",
            "轮次9,损失0.4601698347049386,        时间705.8020415306091,准确率0.8555093167701864\n",
            "轮次9,损失0.4581291015950791,        时间710.3258683681488,准确率0.8561481481481481\n",
            "轮次9,损失0.4563542131550777,        时间715.4706337451935,准确率0.8566625766871165\n",
            "轮次9,损失0.454495537053397,        时间719.9218039512634,准确率0.8572317073170732\n",
            "轮次9,损失0.45261613616081364,        时间723.8905262947083,准确率0.8577878787878788\n",
            "轮次9,损失0.4509180500097521,        时间729.2424809932709,准确率0.8583132530120482\n",
            "轮次9,损失0.4493704312559075,        时间733.8255143165588,准确率0.8587305389221557\n",
            "轮次9,损失0.44780669730596995,        时间739.0755758285522,准确率0.8591607142857143\n",
            "轮次9,损失0.44651931357351127,        时间743.4229459762573,准确率0.8595443786982249\n",
            "轮次9,损失0.4449047443870012,        时间747.3792641162872,准确率0.8600058823529412\n",
            "轮次9,损失0.4432538791301617,        时间752.0829126834869,准确率0.8605087719298246\n",
            "轮次9,损失0.4420339471371924,        时间756.6578741073608,准确率0.8608895348837209\n",
            "轮次9,损失0.44054899046902285,        时间761.2580742835999,准确率0.8613526011560694\n",
            "轮次9,损失0.4391552082978836,        时间766.2214698791504,准确率0.8617528735632184\n",
            "轮次9,损失0.4377849550459662,        时间770.901624917984,准确率0.8621714285714286\n",
            "轮次9,损失0.43662024872947724,        时间776.0794231891632,准确率0.8625284090909091\n",
            "轮次9,损失0.43530098909341164,        时间780.4936964511871,准确率0.8629209039548023\n",
            "轮次9,损失0.43393087570822675,        时间784.9102420806885,准确率0.863314606741573\n",
            "轮次9,损失0.4327103473048565,        时间789.7681062221527,准确率0.8636759776536312\n",
            "轮次9,损失0.431286952676835,        时间794.2475669384003,准确率0.8641\n",
            "轮次10,损失0.4302147009694361,        时间798.66304063797,准确率0.8643812154696132\n",
            "轮次10,损失0.4284542322224684,        时间803.5501537322998,准确率0.8649285714285714\n",
            "轮次10,损失0.42684400583231946,        时间807.5440247058868,准确率0.8654207650273225\n",
            "轮次10,损失0.4252905148982461,        时间812.1007566452026,准确率0.8658913043478261\n",
            "轮次10,损失0.4239980757301938,        时间816.3289391994476,准确率0.866281081081081\n",
            "轮次10,损失0.4227259825911116,        时间820.7696673870087,准确率0.8666827956989247\n",
            "轮次10,损失0.42140720072414617,        时间825.9518761634827,准确率0.867096256684492\n",
            "轮次10,损失0.42021005927647764,        时间830.623161315918,准确率0.8674042553191489\n",
            "轮次10,损失0.41897161382924464,        时间835.9328231811523,准确率0.8677354497354497\n",
            "轮次10,损失0.4176445045469381,        时间840.7817993164062,准确率0.8681736842105263\n",
            "轮次10,损失0.41635841717636557,        时间844.4126358032227,准确率0.8685549738219895\n",
            "轮次10,损失0.41497614263313326,        时间848.5870988368988,准确率0.868953125\n",
            "轮次10,损失0.4139383652694784,        时间854.0147366523743,准确率0.8692227979274612\n",
            "轮次10,损失0.4126391653991481,        时间858.163227558136,准确率0.8696185567010309\n",
            "轮次10,损失0.41148927427101784,        时间862.7531025409698,准确率0.869948717948718\n",
            "轮次10,损失0.4105358898054322,        时间866.813149690628,准确率0.8702244897959184\n",
            "轮次10,损失0.4095066899908711,        时间870.9789497852325,准确率0.870507614213198\n",
            "轮次10,损失0.4083808872350928,        时间875.8344924449921,准确率0.8708535353535354\n",
            "轮次10,损失0.40730222408629835,        时间880.2564089298248,准确率0.8711658291457286\n",
            "轮次10,损失0.4062260528530337,        时间885.2020397186279,准确率0.87146\n"
          ]
        }
      ]
    },
    {
      "cell_type": "code",
      "source": [
        "#@title 练习\n",
        "class lstm(nn.Module):\n",
        "  def __init__(self, input_size, hidden_size, output_size, num_layers=1):\n",
        "    super().__init__()\n",
        "    self.input_size = input_size\n",
        "    self.num_layers = num_layers\n",
        "    self.hidden_size = hidden_size\n",
        "    self.output_size = output_size\n",
        "    #定义lstm层\n",
        "    self.lstm = nn.LSTM(input_size, hidden_size, num_layers)\n",
        "    #定义线性层处理lstm层返回的数据 hidden_size,18\n",
        "    self.liner = nn.Linear(hidden_size, output_size)\n",
        "    self.softmax = nn.LogSoftmax(dim=-1)\n",
        "\n",
        "  def forward(self,input,hidden,c):\n",
        "    input = input.unsqueeze(1)\n",
        "    rr,(hn,cn) = self.lstm(input,(hidden,c))\n",
        "    #取最后一个时间步的输出,然后经过线性层输出到softmax\n",
        "    return self.softmax(self.liner(rr[-1])),hn,cn\n",
        "\n",
        "  def inithidden(self):\n",
        "    hidden  = torch.zeros(self.num_layers, 1, self.hidden_size)\n",
        "    c = torch.zeros(self.num_layers, 1, self.hidden_size)\n",
        "    return hidden,c"
      ],
      "metadata": {
        "cellView": "form",
        "id": "1pfYaGHW0jin"
      },
      "execution_count": 6,
      "outputs": []
    },
    {
      "cell_type": "code",
      "source": [
        "#@title 测试结果\n",
        "# 1 实例化rnn对象\n",
        "mylstm = lstm(57, 128, 18)\n",
        "print('lstm--->', mylstm)\n",
        "\n",
        "# 2 准备数据\n",
        "input = torch.randn(6, 57)\n",
        "print(input.shape)\n",
        "h,c = mylstm.inithidden()\n",
        "\n",
        "# 3 给模型1次性的送数据\n",
        "# [seqlen, 57], [1, 1, 128]) -> [1,18], [1,1,128]\n",
        "output, h,c = mylstm(input, h,c)\n",
        "print('一次性的送数据：output->', output.shape, output)\n",
        "print('hidden->', h.shape)\n",
        "print('outpur->', output.shape)\n"
      ],
      "metadata": {
        "colab": {
          "base_uri": "https://localhost:8080/"
        },
        "cellView": "form",
        "id": "hyIJXDLf4tEO",
        "outputId": "5b38efca-41b4-4f27-fa1d-aa8439871b35"
      },
      "execution_count": 13,
      "outputs": [
        {
          "output_type": "stream",
          "name": "stdout",
          "text": [
            "lstm---> lstm(\n",
            "  (lstm): LSTM(57, 128)\n",
            "  (liner): Linear(in_features=128, out_features=18, bias=True)\n",
            "  (softmax): LogSoftmax(dim=-1)\n",
            ")\n",
            "torch.Size([6, 57])\n",
            "一次性的送数据：output-> torch.Size([1, 18]) tensor([[-2.8638, -2.9164, -2.9041, -2.8995, -2.8628, -2.8157, -2.9376, -2.7969,\n",
            "         -2.8231, -2.8488, -3.0521, -3.0163, -2.7905, -2.8855, -3.0211, -2.7957,\n",
            "         -2.9637, -2.8866]], grad_fn=<LogSoftmaxBackward0>)\n",
            "hidden-> torch.Size([1, 1, 128])\n",
            "outpur-> torch.Size([1, 18])\n"
          ]
        }
      ]
    },
    {
      "cell_type": "code",
      "source": [
        "#@title GRU训练\n",
        "lr = 1e-3\n",
        "epochs = 10\n",
        "path = \"/content/drive/MyDrive/NLP/data/name_classfication.txt\"\n",
        "x,y = read_data(path)\n",
        "def train_gru(x,y):\n",
        "  # 检查是否有可用的CUDA设备\n",
        "  device = torch.device(\"cuda\" if torch.cuda.is_available() else \"cpu\")\n",
        "  print(f\"Using device: {device}\")\n",
        "\n",
        "  #实例化dataloader\n",
        "  namedataloader = get_traindata()\n",
        "  input_size = all_letters\n",
        "  hidden_size = 200\n",
        "  output_size = categorynum\n",
        "  #实例化模型\n",
        "  my_gru = myGRU(input_size=n_letters,\n",
        "                 hidden_size=hidden_size,\n",
        "                 output_size=categorynum).to(device) # 将模型移动到GPU\n",
        "\n",
        "  loss_fn = nn.NLLLoss()\n",
        "  optimizer = optim.Adam(my_gru.parameters(), lr=lr)\n",
        "\n",
        "  starttime = time.time()\n",
        "  total_iter_num = 0 #已经训练的样本数\n",
        "  total_loss = 0  #已经训练的损失和\n",
        "  total_loss_list = [] #每批样本求一次平均损失\n",
        "  total_acc_num = 0 #训练样本准确总数\n",
        "  total_acc_list = [] #平均准确率列表\n",
        "\n",
        "  for epoch in range(epochs):\n",
        "    for i,(x,y) in enumerate(namedataloader):\n",
        "      x,y = x.to(device), y.to(device) # 将数据移动到GPU\n",
        "      hidden = my_gru.inithidden().to(device) # 将隐藏层初始化数据移动到GPU\n",
        "      output,hidden = my_gru(x[0],hidden)\n",
        "      loss = loss_fn(output,y)\n",
        "      optimizer.zero_grad()\n",
        "      loss.backward()\n",
        "      optimizer.step()\n",
        "      #计算损失\n",
        "      total_iter_num = total_iter_num + 1\n",
        "      total_loss = total_loss + loss.item()\n",
        "      #计算准确率\n",
        "      i_predit_tag = (1 if torch.argmax(output).item() == y.item() else 0)\n",
        "      total_acc_num = total_acc_num + i_predit_tag\n",
        "      #每100次训练计算一次平均损失\n",
        "      if (total_iter_num % 100 == 0):\n",
        "        tmploss = total_loss / total_iter_num\n",
        "        total_loss_list.append(tmploss)\n",
        "\n",
        "        tmpacc = total_acc_num / total_iter_num\n",
        "        total_acc_list.append(tmpacc)\n",
        "      #每1000次训练打印日志\n",
        "      if (total_iter_num % 1000 == 0):\n",
        "        total_time = time.time() - starttime\n",
        "        print(f'轮次{epoch+1},损失{tmploss},\\\n",
        "        时间{time.time()-starttime},准确率{tmpacc}')\n",
        "  #计算总时间\n",
        "  total_time = int(time.time() - starttime)\n",
        "  #保存训练好的模型\n",
        "  torch.save(my_gru.state_dict(), '/content/drive/MyDrive/NLP/model/my_GRU_model.bin')\n",
        "  return total_gloss_list, total_gtime, total_gacc_list\n",
        "\n",
        "total_gloss_list, total_gtime, total_gacc_list = train_gru(x,y)"
      ],
      "metadata": {
        "colab": {
          "base_uri": "https://localhost:8080/"
        },
        "id": "GR3RB6YfyzPw",
        "outputId": "db79e13e-95a8-442a-cc6b-705f73fc4f4a",
        "collapsed": true,
        "cellView": "form"
      },
      "execution_count": null,
      "outputs": [
        {
          "output_type": "stream",
          "name": "stdout",
          "text": [
            "torch.Size([1, 8, 57]) torch.Size([1])\n",
            "轮次1,损失1.6322850541314111,        时间5.990103006362915,准确率0.527\n",
            "轮次1,损失1.4738219224444764,        时间12.214769840240479,准确率0.5675\n",
            "轮次1,损失1.3465313925225346,        时间16.78200387954712,准确率0.6013333333333334\n",
            "轮次1,损失1.2789282852087782,        时间22.182300567626953,准确率0.62175\n",
            "轮次1,损失1.229536491682788,        时间27.89604353904724,准确率0.6376\n",
            "轮次1,损失1.1953144368798287,        时间32.67821025848389,准确率0.6491666666666667\n",
            "轮次1,损失1.1590513167119634,        时间38.45380902290344,准确率0.6574285714285715\n",
            "轮次1,损失1.1273756939817803,        时间44.22819495201111,准确率0.666125\n",
            "轮次1,损失1.0941237649483284,        时间52.00665473937988,准确率0.675\n",
            "轮次1,损失1.073689895499401,        时间56.61921429634094,准确率0.6801\n",
            "轮次1,损失1.0525225554892876,        时间62.14335560798645,准确率0.6884545454545454\n",
            "轮次1,损失1.032260973764196,        时间67.43401956558228,准确率0.69275\n",
            "轮次1,损失1.0142710666316588,        时间77.0105414390564,准确率0.6974615384615385\n",
            "轮次1,损失0.9942728070722333,        时间82.64383745193481,准确率0.7020714285714286\n",
            "轮次1,损失0.9745691978433338,        时间88.56484580039978,准确率0.7082\n",
            "轮次1,损失0.961385305027829,        时间93.24656629562378,准确率0.712375\n",
            "轮次1,损失0.9468348082602819,        时间101.25079846382141,准确率0.7165882352941176\n",
            "轮次1,损失0.9351040849568802,        时间107.40199160575867,准确率0.7197222222222223\n",
            "轮次1,损失0.924536769229726,        时间114.31835174560547,准确率0.7225263157894737\n",
            "轮次1,损失0.9142118610557239,        时间119.9689519405365,准确率0.7252\n",
            "轮次2,损失0.9019340862270834,        时间125.87492418289185,准确率0.728047619047619\n",
            "轮次2,损失0.8896987239175259,        时间130.72735691070557,准确率0.7310909090909091\n",
            "轮次2,损失0.8789509003983944,        时间136.0456030368805,准确率0.7339565217391304\n",
            "轮次2,损失0.8633856819048775,        时间141.19930291175842,准确率0.7383333333333333\n",
            "轮次2,损失0.8533350432109656,        时间145.79866933822632,准确率0.74128\n",
            "轮次2,损失0.8427876981445942,        时间151.2269937992096,准确率0.7447307692307692\n",
            "轮次2,损失0.8357457845204928,        时间156.28760981559753,准确率0.7462592592592593\n",
            "轮次2,损失0.8282251919076302,        时间163.61172366142273,准确率0.7486785714285714\n",
            "轮次2,损失0.821046407219074,        时间168.91816473007202,准确率0.7503793103448276\n",
            "轮次2,损失0.8131861183030923,        时间174.98927354812622,准确率0.7526666666666667\n",
            "轮次2,损失0.8035887859093822,        时间180.83808302879333,准确率0.7554516129032258\n",
            "轮次2,损失0.7977430972083266,        时间186.2866930961609,准确率0.7569375\n",
            "轮次2,损失0.789793059861829,        时间197.7165608406067,准确率0.7591212121212121\n",
            "轮次2,损失0.7827498941184788,        时间203.5844542980194,准确率0.7612941176470588\n",
            "轮次2,损失0.7761509107271595,        时间210.08795046806335,准确率0.7631428571428571\n",
            "轮次2,损失0.770994722559679,        时间218.0198962688446,准确率0.7648888888888888\n",
            "轮次2,损失0.765947429178731,        时间223.15495491027832,准确率0.7659459459459459\n",
            "轮次2,损失0.7588708082692898,        时间229.04142832756042,准确率0.7676315789473684\n",
            "轮次2,损失0.7538505692847534,        时间234.15875816345215,准确率0.7691282051282051\n",
            "轮次2,损失0.7482115796566008,        时间239.6159873008728,准确率0.771\n",
            "轮次3,损失0.7427566607491062,        时间244.7142243385315,准确率0.7725853658536586\n",
            "轮次3,损失0.735198488404552,        时间251.70429229736328,准确率0.7747142857142857\n",
            "轮次3,损失0.7277806269496014,        时间256.4191827774048,准确率0.7766976744186046\n",
            "轮次3,损失0.7232958453664258,        时间263.01831912994385,准确率0.7779318181818182\n",
            "轮次3,损失0.7175318799487973,        时间268.83615732192993,准确率0.7793777777777777\n",
            "轮次3,损失0.7125763930481069,        时间274.7207908630371,准确率0.7808478260869566\n",
            "轮次3,损失0.7074940984639141,        时间280.6985056400299,准确率0.7821063829787234\n",
            "轮次3,损失0.702311374505344,        时间285.0759403705597,准确率0.7837708333333333\n",
            "轮次3,损失0.697534119581694,        时间291.0991017818451,准确率0.785\n",
            "轮次3,损失0.6928198703778958,        时间297.1192617416382,准确率0.78638\n",
            "轮次3,损失0.6889988278696221,        时间302.84021377563477,准确率0.7875294117647059\n",
            "轮次3,损失0.6842967633871416,        时间307.56949257850647,准确率0.789\n",
            "轮次3,损失0.6805411971893389,        时间314.1410536766052,准确率0.7900566037735849\n",
            "轮次3,损失0.6760149287651323,        时间319.88832902908325,准确率0.7911851851851852\n",
            "轮次3,损失0.6720145349361442,        时间325.99862360954285,准确率0.7921636363636364\n",
            "轮次3,损失0.6679204071153365,        时间330.4839994907379,准确率0.7933571428571429\n",
            "轮次3,损失0.6642984650450994,        时间335.9632215499878,准确率0.794578947368421\n",
            "轮次3,损失0.6604069782259503,        时间342.129909992218,准确率0.7956551724137931\n",
            "轮次3,损失0.6573605527166781,        时间346.810275554657,准确率0.796593220338983\n",
            "轮次3,损失0.6546571158975504,        时间353.3418848514557,准确率0.79725\n",
            "轮次4,损失0.6493222318463031,        时间359.23352336883545,准确率0.7987213114754098\n",
            "轮次4,损失0.6446182442249626,        时间366.3082754611969,准确率0.8001451612903225\n",
            "轮次4,损失0.6409006416121092,        时间371.0122125148773,准确率0.8012698412698412\n",
            "轮次4,损失0.636748251327974,        时间376.08281922340393,准确率0.802578125\n",
            "轮次4,损失0.6329928564350071,        时间381.72600293159485,准确率0.8036461538461539\n",
            "轮次4,损失0.6290861343102411,        时间387.0897252559662,准确率0.8047121212121212\n",
            "轮次4,损失0.6258807277400561,        时间392.6551926136017,准确率0.8054925373134328\n",
            "轮次4,损失0.6223017619564899,        时间398.3589849472046,准确率0.8063235294117647\n",
            "轮次4,损失0.6189985335098289,        时间403.627206325531,准确率0.8071594202898551\n",
            "轮次4,损失0.6155026418914905,        时间407.70977115631104,准确率0.8081571428571429\n",
            "轮次4,损失0.611709336992007,        时间413.9858753681183,准确率0.8091971830985916\n",
            "轮次4,损失0.6082150894376676,        时间419.47205233573914,准确率0.8102361111111112\n",
            "轮次4,损失0.6055255299161579,        时间424.74354672431946,准确率0.8111506849315069\n",
            "轮次4,损失0.6030197335205509,        时间429.7771530151367,准确率0.8117702702702703\n",
            "轮次4,损失0.6000899312953902,        时间434.9268956184387,准确率0.8126\n",
            "轮次4,损失0.5976159846224858,        时间440.9863405227661,准确率0.8132236842105263\n",
            "轮次4,损失0.5952137347445942,        时间446.3717141151428,准确率0.8138831168831169\n",
            "轮次4,损失0.5922653902393291,        时间452.03028440475464,准确率0.8147435897435897\n",
            "轮次4,损失0.5898850730986626,        时间457.34514474868774,准确率0.8155443037974683\n",
            "轮次4,损失0.5875369130328368,        时间463.13365840911865,准确率0.8160875\n",
            "轮次5,损失0.5843311265195089,        时间468.1084566116333,准确率0.8171234567901234\n",
            "轮次5,损失0.5803003724292212,        时间473.81308674812317,准确率0.8184146341463414\n",
            "轮次5,损失0.5764862914828629,        时间478.37351512908936,准确率0.8194578313253013\n",
            "轮次5,损失0.5732806557712057,        时间483.2271354198456,准确率0.8203809523809524\n",
            "轮次5,损失0.5706529888876497,        时间489.37210273742676,准确率0.8211294117647059\n",
            "轮次5,损失0.5677176595449631,        时间494.4238703250885,准确率0.8219767441860465\n",
            "轮次5,损失0.564606796161178,        时间500.1636245250702,准确率0.8229080459770115\n",
            "轮次5,损失0.5617060618092501,        时间505.1159920692444,准确率0.8238068181818182\n",
            "轮次5,损失0.5590963699021196,        时间510.4769666194916,准确率0.8245955056179776\n",
            "轮次5,损失0.5565080096617606,        时间515.1776511669159,准确率0.8252666666666667\n",
            "轮次5,损失0.5540140549717216,        时间520.433789730072,准确率0.8259010989010989\n",
            "轮次5,损失0.5512211738707365,        时间526.2621576786041,准确率0.8267934782608696\n",
            "轮次5,损失0.5487575147333007,        时间531.5673637390137,准确率0.8273870967741935\n",
            "轮次5,损失0.5461433450118653,        时间537.2038826942444,准确率0.828031914893617\n",
            "轮次5,损失0.5437380675615893,        时间541.7211103439331,准确率0.8287368421052631\n",
            "轮次5,损失0.5417627470138313,        时间547.4561159610748,准确率0.8293229166666667\n",
            "轮次5,损失0.5402362364566027,        时间552.9825036525726,准确率0.8297938144329897\n",
            "轮次5,损失0.5382571467654761,        时间558.9261410236359,准确率0.8303775510204081\n",
            "轮次5,损失0.5361333935567637,        时间563.6810326576233,准确率0.831040404040404\n",
            "轮次5,损失0.5339431083905244,        时间569.2720355987549,准确率0.83163\n",
            "轮次6,损失0.5318769557279468,        时间575.5923039913177,准确率0.8322673267326732\n",
            "轮次6,损失0.5290349296784262,        时间580.3178925514221,准确率0.8331176470588235\n",
            "轮次6,损失0.5262869059569116,        时间585.4745681285858,准确率0.8340485436893204\n",
            "轮次6,损失0.5232646226247009,        时间590.0660092830658,准确率0.8350096153846154\n",
            "轮次6,损失0.5204543895631262,        时间595.7159399986267,准确率0.8358666666666666\n",
            "轮次6,损失0.5178151263387548,        时间601.1883523464203,准确率0.836688679245283\n",
            "轮次6,损失0.5155705777919359,        时间606.3792064189911,准确率0.8372803738317757\n",
            "轮次6,损失0.5134350719474498,        时间612.4796779155731,准确率0.8379444444444445\n",
            "轮次6,损失0.5110239858541853,        时间616.7873928546906,准确率0.8386788990825688\n",
            "轮次6,损失0.508698312675436,        时间622.5040850639343,准确率0.8393636363636363\n",
            "轮次6,损失0.5067275004591576,        时间627.5559592247009,准确率0.839990990990991\n",
            "轮次6,损失0.5048278229549561,        时间632.9001660346985,准确率0.8405357142857143\n",
            "轮次6,损失0.5026812662258083,        时间637.6552288532257,准确率0.8411858407079646\n",
            "轮次6,损失0.5010496461137752,        时间642.618506193161,准确率0.8416228070175439\n",
            "轮次6,损失0.499116684458536,        时间648.1362009048462,准确率0.8421478260869565\n",
            "轮次6,损失0.4975994788516684,        时间652.7686495780945,准确率0.8425775862068966\n",
            "轮次6,损失0.49590116177657,        时间658.6262753009796,准确率0.8430427350427351\n",
            "轮次6,损失0.4948240653705876,        时间663.7360355854034,准确率0.843406779661017\n",
            "轮次6,损失0.49326051122332265,        时间669.0058386325836,准确率0.8438235294117648\n",
            "轮次6,损失0.49135454325776334,        时间674.0734293460846,准确率0.8443916666666667\n",
            "轮次7,损失0.4895626849137627,        时间679.0173399448395,准确率0.8449504132231405\n",
            "轮次7,损失0.4871515269403781,        时间684.5092897415161,准确率0.8457131147540984\n",
            "轮次7,损失0.4849240847218852,        时间688.7948138713837,准确率0.8462926829268292\n",
            "轮次7,损失0.48267515621537654,        时间694.7144331932068,准确率0.8470241935483871\n",
            "轮次7,损失0.48040135805396206,        时间699.5954151153564,准确率0.847736\n",
            "轮次7,损失0.4787177449375642,        时间704.2313168048859,准确率0.8482698412698413\n",
            "轮次7,损失0.4767755455593174,        时间709.2947516441345,准确率0.8487952755905512\n",
            "轮次7,损失0.47455159613710896,        时间714.0352835655212,准确率0.849484375\n",
            "轮次7,损失0.4727551605948421,        时间719.2039740085602,准确率0.850031007751938\n",
            "轮次7,损失0.4709526658846565,        时间723.8095605373383,准确率0.8506\n",
            "轮次7,损失0.4692408433845065,        时间728.1562383174896,准确率0.8510687022900764\n",
            "轮次7,损失0.4673922905707765,        时间733.2134394645691,准确率0.8516742424242424\n",
            "轮次7,损失0.46569847631407346,        时间738.0214741230011,准确率0.852203007518797\n",
            "轮次7,损失0.46419754398604646,        时间743.069171667099,准确率0.8526268656716418\n",
            "轮次7,损失0.4626698487213803,        时间748.8828356266022,准确率0.8531185185185185\n",
            "轮次7,损失0.4610218612246428,        时间753.7437047958374,准确率0.8535735294117647\n",
            "轮次7,损失0.4593552028003674,        时间758.3972864151001,准确率0.854087591240876\n",
            "轮次7,损失0.4575556440318387,        时间762.9999306201935,准确率0.8546884057971015\n",
            "轮次7,损失0.4567259938436854,        时间768.5967676639557,准确率0.8549568345323741\n",
            "轮次7,损失0.4554216463789859,        时间773.3776748180389,准确率0.8553642857142857\n",
            "轮次8,损失0.4539139376790553,        时间778.595424413681,准确率0.8558368794326241\n",
            "轮次8,损失0.4519958306846661,        时间783.5504956245422,准确率0.8564154929577464\n",
            "轮次8,损失0.45023221881388975,        时间788.6927070617676,准确率0.8569300699300699\n",
            "轮次8,损失0.4483181149488063,        时间794.2551436424255,准确率0.8574791666666667\n",
            "轮次8,损失0.44672237382405805,        时间799.3711638450623,准确率0.8579724137931034\n",
            "轮次8,损失0.4450142197800068,        时间804.7791998386383,准确率0.8584794520547945\n",
            "轮次8,损失0.4435298463401095,        时间809.3792796134949,准确率0.8589523809523809\n",
            "轮次8,损失0.441790211853214,        时间813.5626904964447,准确率0.8595067567567568\n",
            "轮次8,损失0.44009608156916463,        时间819.0384430885315,准确率0.8600335570469798\n",
            "轮次8,损失0.4385582831195414,        时间823.5549740791321,准确率0.8605466666666667\n",
            "轮次8,损失0.4370723190986883,        时间828.5694913864136,准确率0.8609867549668874\n",
            "轮次8,损失0.43578622187039584,        时间833.1416654586792,准确率0.8613947368421052\n",
            "轮次8,损失0.4346282644745,        时间837.7796008586884,准确率0.8617581699346405\n",
            "轮次8,损失0.4334522098376182,        时间842.6556901931763,准确率0.8621103896103897\n",
            "轮次8,损失0.43236957935636955,        时间847.3103084564209,准确率0.8624451612903226\n",
            "轮次8,损失0.4308181554547479,        时间853.4837145805359,准确率0.862948717948718\n",
            "轮次8,损失0.4296294002160368,        时间858.7645065784454,准确率0.8632547770700637\n",
            "轮次8,损失0.42831589956886024,        时间863.7992970943451,准确率0.8636329113924051\n",
            "轮次8,损失0.42706020629074365,        时间869.2830271720886,准确率0.8640251572327045\n",
            "轮次8,损失0.42585646465031934,        时间873.5086426734924,准确率0.86438125\n",
            "轮次9,损失0.42472793423631794,        时间878.6682903766632,准确率0.8646956521739131\n",
            "轮次9,损失0.4230959931836227,        时间882.8065803050995,准确率0.8652098765432099\n",
            "轮次9,损失0.4215967678097507,        时间887.5912322998047,准确率0.8657055214723927\n",
            "轮次9,损失0.4199230607403007,        时间893.2990629673004,准确率0.8662317073170732\n",
            "轮次9,损失0.4184146476745345,        时间898.344432592392,准确率0.8667090909090909\n",
            "轮次9,损失0.41684571909132057,        时间903.8160898685455,准确率0.8672048192771085\n",
            "轮次9,损失0.4156077599914293,        时间908.5449438095093,准确率0.867568862275449\n",
            "轮次9,损失0.4143842051085192,        时间913.1482224464417,准确率0.8679285714285714\n",
            "轮次9,损失0.413161742540723,        时间917.9237389564514,准确率0.8682899408284024\n",
            "轮次9,损失0.4118721821377083,        时间922.4304084777832,准确率0.8687058823529412\n",
            "轮次9,损失0.41078654170829565,        时间928.0556871891022,准确率0.8690175438596491\n",
            "轮次9,损失0.40965568915515027,        时间932.9777736663818,准确率0.8693546511627906\n",
            "轮次9,损失0.4085168582222095,        时间939.6100378036499,准确率0.8696589595375722\n",
            "轮次9,损失0.4074899824064297,        时间944.4425427913666,准确率0.8699655172413793\n",
            "轮次9,损失0.4065920345086339,        时间948.981461763382,准确率0.8702342857142857\n",
            "轮次9,损失0.40523951128826297,        时间954.1374921798706,准确率0.8706761363636364\n",
            "轮次9,损失0.40404118103845815,        时间958.2582519054413,准确率0.8710564971751412\n",
            "轮次9,损失0.40290370072550247,        时间963.4601373672485,准确率0.8714044943820225\n",
            "轮次9,损失0.4019064974199918,        时间968.5013997554779,准确率0.8717262569832402\n",
            "轮次9,损失0.40104273654597533,        时间972.8447442054749,准确率0.8719333333333333\n",
            "轮次10,损失0.4001973766789614,        时间977.9904804229736,准确率0.8721933701657458\n",
            "轮次10,损失0.3987469646406354,        时间982.4835870265961,准确率0.8726593406593407\n",
            "轮次10,损失0.39735430748494494,        时间987.3831768035889,准确率0.8730874316939891\n",
            "轮次10,损失0.3960455933181392,        时间992.7939574718475,准确率0.8735108695652174\n",
            "轮次10,损失0.3947202911550342,        时间997.3199248313904,准确率0.873945945945946\n",
            "轮次10,损失0.39350805129254246,        时间1002.4963042736053,准确率0.8743118279569893\n",
            "轮次10,损失0.39233005063589604,        时间1007.5812079906464,准确率0.8746951871657754\n",
            "轮次10,损失0.39127771482969664,        时间1013.4441430568695,准确率0.8750531914893617\n",
            "轮次10,损失0.39023176312033503,        时间1017.9848065376282,准确率0.8753439153439153\n",
            "轮次10,损失0.3892390528946825,        时间1022.3936257362366,准确率0.8756315789473684\n",
            "轮次10,损失0.3883957687233082,        时间1027.4886586666107,准确率0.8759319371727748\n",
            "轮次10,损失0.38724302289161094,        时间1031.737543106079,准确率0.8762760416666666\n",
            "轮次10,损失0.386352821725881,        时间1037.1113111972809,准确率0.8765647668393782\n",
            "轮次10,损失0.38531328442584534,        时间1041.5844004154205,准确率0.8768814432989691\n",
            "轮次10,损失0.384338357384457,        时间1046.013027191162,准确率0.8771538461538462\n",
            "轮次10,损失0.3833942896533547,        时间1051.1093554496765,准确率0.8774234693877551\n",
            "轮次10,损失0.38235105708060235,        时间1055.55926156044,准确率0.877751269035533\n",
            "轮次10,损失0.3814061340968841,        时间1059.8476507663727,准确率0.8780252525252525\n",
            "轮次10,损失0.38043240950328383,        时间1065.0889267921448,准确率0.8783668341708543\n",
            "轮次10,损失0.37961217976148376,        时间1069.229679107666,准确率0.878585\n"
          ]
        }
      ]
    },
    {
      "cell_type": "code",
      "source": [
        "#@title 绘制对比图\n",
        "# 绘制损失对比曲线\n",
        "# 创建画布0\n",
        "plt.figure(0)\n",
        "# # 绘制损失对比曲线\n",
        "plt.plot(total_loss_list, label=\"RNN\")\n",
        "plt.plot(total_lloss_list, color=\"red\", label=\"LSTM\")\n",
        "plt.plot(total_gloss_list, color=\"orange\", label=\"GRU\")\n",
        "plt.legend(loc='upper left')\n",
        "plt.savefig('RNN_LSTM_GRU_loss2.png')\n",
        "plt.show()\n",
        "\n",
        "# 绘制柱状图\n",
        "# 创建画布1\n",
        "plt.figure(1)\n",
        "x_data = [\"RNN\", \"LSTM\", \"GRU\"]\n",
        "y_data = [total_time, total_ltime, total_gtime]\n",
        "# 绘制训练耗时对比柱状图\n",
        "plt.bar(range(len(x_data)), y_data, tick_label=x_data)\n",
        "plt.savefig('RNN_LSTM_GRU_period2.png')\n",
        "plt.show()\n",
        "\n",
        "# 绘制准确率对比曲线\n",
        "plt.figure(2)\n",
        "plt.plot(total_acc_list, label=\"RNN\")\n",
        "plt.plot(total_lacc_list, color=\"red\", label=\"LSTM\")\n",
        "plt.plot(total_gacc_list, color=\"orange\", label=\"GRU\")\n",
        "plt.legend(loc='upper left')\n",
        "plt.savefig('RNN_LSTM_GRU_acc2.png')\n",
        "plt.show()"
      ],
      "metadata": {
        "colab": {
          "base_uri": "https://localhost:8080/",
          "height": 1000
        },
        "id": "gStAb1Mr-AKJ",
        "outputId": "e66ce2da-08de-4583-c9d1-68cd327ca539",
        "cellView": "form"
      },
      "execution_count": null,
      "outputs": [
        {
          "output_type": "execute_result",
          "data": {
            "text/plain": [
              "<Figure size 640x480 with 0 Axes>"
            ]
          },
          "metadata": {},
          "execution_count": 42
        },
        {
          "output_type": "execute_result",
          "data": {
            "text/plain": [
              "[<matplotlib.lines.Line2D at 0x7c3fd239ee90>]"
            ]
          },
          "metadata": {},
          "execution_count": 42
        },
        {
          "output_type": "execute_result",
          "data": {
            "text/plain": [
              "[<matplotlib.lines.Line2D at 0x7c3fde2ab790>]"
            ]
          },
          "metadata": {},
          "execution_count": 42
        },
        {
          "output_type": "execute_result",
          "data": {
            "text/plain": [
              "[<matplotlib.lines.Line2D at 0x7c3fd157c650>]"
            ]
          },
          "metadata": {},
          "execution_count": 42
        },
        {
          "output_type": "execute_result",
          "data": {
            "text/plain": [
              "<matplotlib.legend.Legend at 0x7c3fd1656e50>"
            ]
          },
          "metadata": {},
          "execution_count": 42
        },
        {
          "output_type": "display_data",
          "data": {
            "text/plain": [
              "<Figure size 640x480 with 1 Axes>"
            ],
            "image/png": "[encoded data removed]"
          },
          "metadata": {}
        },
        {
          "output_type": "execute_result",
          "data": {
            "text/plain": [
              "<Figure size 640x480 with 0 Axes>"
            ]
          },
          "metadata": {},
          "execution_count": 42
        },
        {
          "output_type": "execute_result",
          "data": {
            "text/plain": [
              "<BarContainer object of 3 artists>"
            ]
          },
          "metadata": {},
          "execution_count": 42
        },
        {
          "output_type": "display_data",
          "data": {
            "text/plain": [
              "<Figure size 640x480 with 1 Axes>"
            ],
            "image/png": "[encoded data removed]"
          },
          "metadata": {}
        },
        {
          "output_type": "execute_result",
          "data": {
            "text/plain": [
              "<Figure size 640x480 with 0 Axes>"
            ]
          },
          "metadata": {},
          "execution_count": 42
        },
        {
          "output_type": "execute_result",
          "data": {
            "text/plain": [
              "[<matplotlib.lines.Line2D at 0x7c3fd0b3dbd0>]"
            ]
          },
          "metadata": {},
          "execution_count": 42
        },
        {
          "output_type": "execute_result",
          "data": {
            "text/plain": [
              "[<matplotlib.lines.Line2D at 0x7c3fd0b3c150>]"
            ]
          },
          "metadata": {},
          "execution_count": 42
        },
        {
          "output_type": "execute_result",
          "data": {
            "text/plain": [
              "[<matplotlib.lines.Line2D at 0x7c3fd063a090>]"
            ]
          },
          "metadata": {},
          "execution_count": 42
        },
        {
          "output_type": "execute_result",
          "data": {
            "text/plain": [
              "<matplotlib.legend.Legend at 0x7c3fd16a2290>"
            ]
          },
          "metadata": {},
          "execution_count": 42
        },
        {
          "output_type": "display_data",
          "data": {
            "text/plain": [
              "<Figure size 640x480 with 1 Axes>"
            ],
            "image/png": "[encoded data removed]"
          },
          "metadata": {}
        }
      ]
    },
    {
      "cell_type": "code",
      "source": [
        "#@title 预测结果\n",
        "# 将人名转化为onehot张量\n",
        "# eg 'bai' --> [3,57]\n",
        "def NameToTensor(x):\n",
        "  tensor_x = torch.zeros(len(x),n_letters)\n",
        "  for i,letter in enumerate(x):\n",
        "    tensor_x[i][all_letters.find(letter)] = 1\n",
        "  return tensor_x"
      ],
      "metadata": {
        "id": "Gf2ui48v8vkf",
        "cellView": "form"
      },
      "execution_count": 21,
      "outputs": []
    },
    {
      "cell_type": "code",
      "source": [
        "#@title RRN预测\n",
        "def predict_rnn(x):\n",
        "  # n_letters = n_letters # Removed to use global n_letters\n",
        "  # n_hidden = 200 # Removed to use global n_hidden\n",
        "  # n_countries = categorynum # Removed to use global n_countries\n",
        "\n",
        "  x_tensor = NameToTensor(x)\n",
        "\n",
        "  my_rnn = myRNN(input_size=n_letters, hidden_size=200, output_size=categorynum)\n",
        "  my_rnn.load_state_dict(torch.load('my_rnn_model.bin'))\n",
        "  my_rnn.eval()\n",
        "\n",
        "  with torch.no_grad():\n",
        "    output,hidden = my_rnn(x_tensor,my_rnn.inithidden())\n",
        "    # Get the index of the highest probability\n",
        "    topi = torch.argmax(output, dim=1)\n",
        "    country_idx = topi[0].item()\n",
        "    country = categorys[country_idx]\n",
        "    print(\"rnn-->\",x)\n",
        "    print(f\"Predicted category: {country}\")"
      ],
      "metadata": {
        "id": "VwG7DUSmSUxU",
        "cellView": "form"
      },
      "execution_count": 15,
      "outputs": []
    },
    {
      "cell_type": "code",
      "source": [
        "#@title LSTM预测\n",
        "def predict_lstm(x):\n",
        "  # n_letters = n_letters # Removed to use global n_letters\n",
        "  # n_hidden = 200 # Removed to use global n_hidden\n",
        "  # n_countries = categorynum # Removed to use global n_countries\n",
        "\n",
        "  x_tensor = NameToTensor(x)\n",
        "\n",
        "  my_lstm = myLSTM(input_size=n_letters, hidden_size=200, output_size=categorynum)\n",
        "  my_lstm.load_state_dict(torch.load('my_lstm_model.bin'))\n",
        "  my_lstm.eval()\n",
        "\n",
        "  with torch.no_grad():\n",
        "    hidden,c = my_lstm.inithidden()\n",
        "    output,hidden,c = my_lstm(x_tensor,hidden,c)\n",
        "    # Get the index of the highest probability\n",
        "    topi = torch.argmax(output, dim=1)\n",
        "    country_idx = topi[0].item()\n",
        "    country = categorys[country_idx]\n",
        "    print(\"lstm-->\",x) # Changed from rnn--> to lstm--> for clarity\n",
        "    print(f\"Predicted category: {country}\")"
      ],
      "metadata": {
        "id": "kOen9cAE2GK_",
        "cellView": "form"
      },
      "execution_count": 16,
      "outputs": []
    },
    {
      "cell_type": "code",
      "source": [
        "#@title GRU预测\n",
        "def predict_gru(x):\n",
        "  # n_letters = n_letters # Removed to use global n_letters\n",
        "  # n_hidden = 200 # Removed to use global n_hidden\n",
        "  # n_countries = categorynum # Removed to use global n_countries\n",
        "\n",
        "  x_tensor = NameToTensor(x)\n",
        "\n",
        "  my_gru = myGRU(input_size=n_letters, hidden_size=200, output_size=categorynum)\n",
        "  my_gru.load_state_dict(torch.load('my_GRU_model.bin'))\n",
        "  my_gru.eval()\n",
        "\n",
        "  with torch.no_grad():\n",
        "    output,hidden = my_gru(x_tensor,my_gru.inithidden())\n",
        "    # Get the index of the highest probability\n",
        "    topi = torch.argmax(output, dim=1)\n",
        "    country_idx = topi[0].item()\n",
        "    country = categorys[country_idx]\n",
        "    print(\"gru-->\",x) # Changed from rnn--> to gru--> for clarity\n",
        "    print(f\"Predicted category: {country}\")"
      ],
      "metadata": {
        "id": "emIWzlOr2J0p",
        "cellView": "form"
      },
      "execution_count": 17,
      "outputs": []
    },
    {
      "cell_type": "code",
      "source": [
        "#@title 预测调用\n",
        "def dm_test_predic_rnn_lstm_gru():\n",
        "        # 把三个函数的入口地址 组成列表，统一输入数据进行测试\n",
        "    for func in [predict_rnn, predict_lstm, predict_gru]:\n",
        "        func('Teng')"
      ],
      "metadata": {
        "id": "E5wdQll-2LOl",
        "cellView": "form"
      },
      "execution_count": 19,
      "outputs": []
    },
    {
      "cell_type": "code",
      "source": [
        "dm_test_predic_rnn_lstm_gru()"
      ],
      "metadata": {
        "colab": {
          "base_uri": "https://localhost:8080/",
          "height": 287
        },
        "id": "AhAIqy_13NMj",
        "outputId": "2af68f36-e571-4f93-de73-0393ade9e84c",
        "collapsed": true
      },
      "execution_count": 26,
      "outputs": [
        {
          "output_type": "error",
          "ename": "FileNotFoundError",
          "evalue": "[Errno 2] No such file or directory: 'my_rnn_model.bin'",
          "traceback": [
            "\u001b[0;31m---------------------------------------------------------------------------\u001b[0m",
            "\u001b[0;31mFileNotFoundError\u001b[0m                         Traceback (most recent call last)",
            "\u001b[0;32m/tmp/ipython-input-26-910874450.py\u001b[0m in \u001b[0;36m<cell line: 0>\u001b[0;34m()\u001b[0m\n\u001b[0;32m----> 1\u001b[0;31m \u001b[0mdm_test_predic_rnn_lstm_gru\u001b[0m\u001b[0;34m(\u001b[0m\u001b[0;34m)\u001b[0m\u001b[0;34m\u001b[0m\u001b[0;34m\u001b[0m\u001b[0m\n\u001b[0m",
            "\u001b[0;32m/tmp/ipython-input-19-4018238123.py\u001b[0m in \u001b[0;36mdm_test_predic_rnn_lstm_gru\u001b[0;34m()\u001b[0m\n\u001b[1;32m      3\u001b[0m         \u001b[0;31m# 把三个函数的入口地址 组成列表，统一输入数据进行测试\u001b[0m\u001b[0;34m\u001b[0m\u001b[0;34m\u001b[0m\u001b[0m\n\u001b[1;32m      4\u001b[0m     \u001b[0;32mfor\u001b[0m \u001b[0mfunc\u001b[0m \u001b[0;32min\u001b[0m \u001b[0;34m[\u001b[0m\u001b[0mpredict_rnn\u001b[0m\u001b[0;34m,\u001b[0m \u001b[0mpredict_lstm\u001b[0m\u001b[0;34m,\u001b[0m \u001b[0mpredict_gru\u001b[0m\u001b[0;34m]\u001b[0m\u001b[0;34m:\u001b[0m\u001b[0;34m\u001b[0m\u001b[0;34m\u001b[0m\u001b[0m\n\u001b[0;32m----> 5\u001b[0;31m         \u001b[0mfunc\u001b[0m\u001b[0;34m(\u001b[0m\u001b[0;34m'Teng'\u001b[0m\u001b[0;34m)\u001b[0m\u001b[0;34m\u001b[0m\u001b[0;34m\u001b[0m\u001b[0m\n\u001b[0m",
            "\u001b[0;32m/tmp/ipython-input-15-607070612.py\u001b[0m in \u001b[0;36mpredict_rnn\u001b[0;34m(x)\u001b[0m\n\u001b[1;32m      8\u001b[0m \u001b[0;34m\u001b[0m\u001b[0m\n\u001b[1;32m      9\u001b[0m   \u001b[0mmy_rnn\u001b[0m \u001b[0;34m=\u001b[0m \u001b[0mmyRNN\u001b[0m\u001b[0;34m(\u001b[0m\u001b[0minput_size\u001b[0m\u001b[0;34m=\u001b[0m\u001b[0mn_letters\u001b[0m\u001b[0;34m,\u001b[0m \u001b[0mhidden_size\u001b[0m\u001b[0;34m=\u001b[0m\u001b[0;36m200\u001b[0m\u001b[0;34m,\u001b[0m \u001b[0moutput_size\u001b[0m\u001b[0;34m=\u001b[0m\u001b[0mcategorynum\u001b[0m\u001b[0;34m)\u001b[0m\u001b[0;34m\u001b[0m\u001b[0;34m\u001b[0m\u001b[0m\n\u001b[0;32m---> 10\u001b[0;31m   \u001b[0mmy_rnn\u001b[0m\u001b[0;34m.\u001b[0m\u001b[0mload_state_dict\u001b[0m\u001b[0;34m(\u001b[0m\u001b[0mtorch\u001b[0m\u001b[0;34m.\u001b[0m\u001b[0mload\u001b[0m\u001b[0;34m(\u001b[0m\u001b[0;34m'my_rnn_model.bin'\u001b[0m\u001b[0;34m)\u001b[0m\u001b[0;34m)\u001b[0m\u001b[0;34m\u001b[0m\u001b[0;34m\u001b[0m\u001b[0m\n\u001b[0m\u001b[1;32m     11\u001b[0m   \u001b[0mmy_rnn\u001b[0m\u001b[0;34m.\u001b[0m\u001b[0meval\u001b[0m\u001b[0;34m(\u001b[0m\u001b[0;34m)\u001b[0m\u001b[0;34m\u001b[0m\u001b[0;34m\u001b[0m\u001b[0m\n\u001b[1;32m     12\u001b[0m \u001b[0;34m\u001b[0m\u001b[0m\n",
            "\u001b[0;32m/usr/local/lib/python3.11/dist-packages/torch/serialization.py\u001b[0m in \u001b[0;36mload\u001b[0;34m(f, map_location, pickle_module, weights_only, mmap, **pickle_load_args)\u001b[0m\n\u001b[1;32m   1423\u001b[0m         \u001b[0mpickle_load_args\u001b[0m\u001b[0;34m[\u001b[0m\u001b[0;34m\"encoding\"\u001b[0m\u001b[0;34m]\u001b[0m \u001b[0;34m=\u001b[0m \u001b[0;34m\"utf-8\"\u001b[0m\u001b[0;34m\u001b[0m\u001b[0;34m\u001b[0m\u001b[0m\n\u001b[1;32m   1424\u001b[0m \u001b[0;34m\u001b[0m\u001b[0m\n\u001b[0;32m-> 1425\u001b[0;31m     \u001b[0;32mwith\u001b[0m \u001b[0m_open_file_like\u001b[0m\u001b[0;34m(\u001b[0m\u001b[0mf\u001b[0m\u001b[0;34m,\u001b[0m \u001b[0;34m\"rb\"\u001b[0m\u001b[0;34m)\u001b[0m \u001b[0;32mas\u001b[0m \u001b[0mopened_file\u001b[0m\u001b[0;34m:\u001b[0m\u001b[0;34m\u001b[0m\u001b[0;34m\u001b[0m\u001b[0m\n\u001b[0m\u001b[1;32m   1426\u001b[0m         \u001b[0;32mif\u001b[0m \u001b[0m_is_zipfile\u001b[0m\u001b[0;34m(\u001b[0m\u001b[0mopened_file\u001b[0m\u001b[0;34m)\u001b[0m\u001b[0;34m:\u001b[0m\u001b[0;34m\u001b[0m\u001b[0;34m\u001b[0m\u001b[0m\n\u001b[1;32m   1427\u001b[0m             \u001b[0;31m# The zipfile reader is going to advance the current file position.\u001b[0m\u001b[0;34m\u001b[0m\u001b[0;34m\u001b[0m\u001b[0m\n",
            "\u001b[0;32m/usr/local/lib/python3.11/dist-packages/torch/serialization.py\u001b[0m in \u001b[0;36m_open_file_like\u001b[0;34m(name_or_buffer, mode)\u001b[0m\n\u001b[1;32m    749\u001b[0m \u001b[0;32mdef\u001b[0m \u001b[0m_open_file_like\u001b[0m\u001b[0;34m(\u001b[0m\u001b[0mname_or_buffer\u001b[0m\u001b[0;34m,\u001b[0m \u001b[0mmode\u001b[0m\u001b[0;34m)\u001b[0m\u001b[0;34m:\u001b[0m\u001b[0;34m\u001b[0m\u001b[0;34m\u001b[0m\u001b[0m\n\u001b[1;32m    750\u001b[0m     \u001b[0;32mif\u001b[0m \u001b[0m_is_path\u001b[0m\u001b[0;34m(\u001b[0m\u001b[0mname_or_buffer\u001b[0m\u001b[0;34m)\u001b[0m\u001b[0;34m:\u001b[0m\u001b[0;34m\u001b[0m\u001b[0;34m\u001b[0m\u001b[0m\n\u001b[0;32m--> 751\u001b[0;31m         \u001b[0;32mreturn\u001b[0m \u001b[0m_open_file\u001b[0m\u001b[0;34m(\u001b[0m\u001b[0mname_or_buffer\u001b[0m\u001b[0;34m,\u001b[0m \u001b[0mmode\u001b[0m\u001b[0;34m)\u001b[0m\u001b[0;34m\u001b[0m\u001b[0;34m\u001b[0m\u001b[0m\n\u001b[0m\u001b[1;32m    752\u001b[0m     \u001b[0;32melse\u001b[0m\u001b[0;34m:\u001b[0m\u001b[0;34m\u001b[0m\u001b[0;34m\u001b[0m\u001b[0m\n\u001b[1;32m    753\u001b[0m         \u001b[0;32mif\u001b[0m \u001b[0;34m\"w\"\u001b[0m \u001b[0;32min\u001b[0m \u001b[0mmode\u001b[0m\u001b[0;34m:\u001b[0m\u001b[0;34m\u001b[0m\u001b[0;34m\u001b[0m\u001b[0m\n",
            "\u001b[0;32m/usr/local/lib/python3.11/dist-packages/torch/serialization.py\u001b[0m in \u001b[0;36m__init__\u001b[0;34m(self, name, mode)\u001b[0m\n\u001b[1;32m    730\u001b[0m \u001b[0;32mclass\u001b[0m \u001b[0m_open_file\u001b[0m\u001b[0;34m(\u001b[0m\u001b[0m_opener\u001b[0m\u001b[0;34m)\u001b[0m\u001b[0;34m:\u001b[0m\u001b[0;34m\u001b[0m\u001b[0;34m\u001b[0m\u001b[0m\n\u001b[1;32m    731\u001b[0m     \u001b[0;32mdef\u001b[0m \u001b[0m__init__\u001b[0m\u001b[0;34m(\u001b[0m\u001b[0mself\u001b[0m\u001b[0;34m,\u001b[0m \u001b[0mname\u001b[0m\u001b[0;34m,\u001b[0m \u001b[0mmode\u001b[0m\u001b[0;34m)\u001b[0m\u001b[0;34m:\u001b[0m\u001b[0;34m\u001b[0m\u001b[0;34m\u001b[0m\u001b[0m\n\u001b[0;32m--> 732\u001b[0;31m         \u001b[0msuper\u001b[0m\u001b[0;34m(\u001b[0m\u001b[0;34m)\u001b[0m\u001b[0;34m.\u001b[0m\u001b[0m__init__\u001b[0m\u001b[0;34m(\u001b[0m\u001b[0mopen\u001b[0m\u001b[0;34m(\u001b[0m\u001b[0mname\u001b[0m\u001b[0;34m,\u001b[0m \u001b[0mmode\u001b[0m\u001b[0;34m)\u001b[0m\u001b[0;34m)\u001b[0m\u001b[0;34m\u001b[0m\u001b[0;34m\u001b[0m\u001b[0m\n\u001b[0m\u001b[1;32m    733\u001b[0m \u001b[0;34m\u001b[0m\u001b[0m\n\u001b[1;32m    734\u001b[0m     \u001b[0;32mdef\u001b[0m \u001b[0m__exit__\u001b[0m\u001b[0;34m(\u001b[0m\u001b[0mself\u001b[0m\u001b[0;34m,\u001b[0m \u001b[0;34m*\u001b[0m\u001b[0margs\u001b[0m\u001b[0;34m)\u001b[0m\u001b[0;34m:\u001b[0m\u001b[0;34m\u001b[0m\u001b[0;34m\u001b[0m\u001b[0m\n",
            "\u001b[0;31mFileNotFoundError\u001b[0m: [Errno 2] No such file or directory: 'my_rnn_model.bin'"
          ]
        }
      ]
    },
    {
      "cell_type": "code",
      "metadata": {
        "colab": {
          "base_uri": "https://localhost:8080/"
        },
        "id": "8f584926",
        "outputId": "85c17694-575f-4bfa-856e-e5b93f3d7fe2"
      },
      "source": [
        "import torch\n",
        "\n",
        "if torch.cuda.is_available():\n",
        "    device_count = torch.cuda.device_count()\n",
        "    print(f\"Number of CUDA devices: {device_count}\")\n",
        "    for i in range(device_count):\n",
        "        print(f\"Device {i}: {torch.cuda.get_device_name(i)}\")\n",
        "        properties = torch.cuda.get_device_properties(i)\n",
        "        print(f\"  CUDA Capability: {properties.major}.{properties.minor}\")\n",
        "        print(f\"  Total memory: {properties.total_memory / (1024**3):.2f} GB\")\n",
        "        print(f\"  Multiprocessors: {properties.multi_processor_count}\")\n",
        "        print(f\"  Max threads per multiprocessor: {properties.max_threads_per_multi_processor}\")\n",
        "else:\n",
        "    print(\"CUDA is not available.\")"
      ],
      "execution_count": 39,
      "outputs": [
        {
          "output_type": "stream",
          "name": "stdout",
          "text": [
            "Number of CUDA devices: 1\n",
            "Device 0: Tesla T4\n",
            "  CUDA Capability: 7.5\n",
            "  Total memory: 14.74 GB\n",
            "  Multiprocessors: 40\n",
            "  Max threads per multiprocessor: 1024\n"
          ]
        }
      ]
    }
  ]
}