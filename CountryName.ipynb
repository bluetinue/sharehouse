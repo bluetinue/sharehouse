{
  "nbformat": 4,
  "nbformat_minor": 0,
  "metadata": {
    "colab": {
      "provenance": [],
      "mount_file_id": "1-EF3dqrX-qireo7dQzCEW7I7a7vEOW3K",
      "authorship_tag": "ABX9TyMlfx44yZwFNBKnY4ybDg22",
      "include_colab_link": true
    },
    "kernelspec": {
      "name": "python3",
      "display_name": "Python 3"
    },
    "language_info": {
      "name": "python"
    }
  },
  "cells": [
    {
      "cell_type": "markdown",
      "metadata": {
        "id": "view-in-github",
        "colab_type": "text"
      },
      "source": [
        "<a href=\"https://colab.research.google.com/github/bluetinue/sharehouse/blob/main/CountryName.ipynb\" target=\"_parent\"><img src=\"https://colab.research.google.com/assets/colab-badge.svg\" alt=\"Open In Colab\"/></a>"
      ]
    },
    {
      "cell_type": "markdown",
      "source": [
        "# 人名分类器\n"
      ],
      "metadata": {
        "id": "13O_r9yxyhxh"
      }
    },
    {
      "cell_type": "code",
      "source": [
        "#@title 导包\n",
        "# prompt: 装载谷歌硬盘\n",
        "from google.colab import drive\n",
        "drive.mount('/content/drive')\n",
        "\n",
        "import pandas as pd\n",
        "# 显示所有变量\n",
        "from IPython.core.interactiveshell import InteractiveShell\n",
        "InteractiveShell.ast_node_interactivity = \"all\"\n",
        "\n",
        "# 导入torch工具\n",
        "import torch\n",
        "# 导入nn准备构建模型\n",
        "import torch.nn as nn\n",
        "import torch.nn.functional as F\n",
        "import torch.optim as optim\n",
        "# 导入torch的数据源 数据迭代器工具包\n",
        "from  torch.utils.data import Dataset, DataLoader\n",
        "# 用于获得常见字母及字符规范化\n",
        "import string\n",
        "# 导入时间工具包\n",
        "import time\n",
        "# 引入制图工具包\n",
        "import matplotlib.pyplot as plt"
      ],
      "metadata": {
        "colab": {
          "base_uri": "https://localhost:8080/"
        },
        "cellView": "form",
        "id": "BWAs7Zy5z-GR",
        "outputId": "ab335dea-51b3-4432-d529-e9a776565160"
      },
      "execution_count": null,
      "outputs": [
        {
          "output_type": "stream",
          "name": "stdout",
          "text": [
            "Drive already mounted at /content/drive; to attempt to forcibly remount, call drive.mount(\"/content/drive\", force_remount=True).\n"
          ]
        }
      ]
    },
    {
      "cell_type": "code",
      "execution_count": null,
      "metadata": {
        "cellView": "form",
        "id": "XAXMXZA1yGBZ"
      },
      "outputs": [],
      "source": [
        "# @title 读取数据\n",
        "data = pd.read_csv('/content/drive/MyDrive/NLP/data/name_classfication.txt',sep='\\t')"
      ]
    },
    {
      "cell_type": "code",
      "source": [
        "# @title 数据预处理\n",
        "\n",
        "#去重后的词表\n",
        "all_letters = string.ascii_letters + \" ,.:'\"\n",
        "n_letters = len(all_letters)\n",
        "# 国家名 种类数\n",
        "categorys = ['Italian', 'English', 'Arabic', 'Spanish', 'Scottish', 'Irish', 'Chinese', 'Vietnamese', 'Japanese',\n",
        "             'French', 'Greek', 'Dutch', 'Korean', 'Polish', 'Portuguese', 'Russian', 'Czech', 'German']\n",
        "# 国家名 个数\n",
        "categorynum = len(categorys)\n",
        "print('categorys--->', categorys)\n",
        "print('all_letters--->', all_letters)\n",
        "\n",
        "# 读取数据\n",
        "def read_data(path):\n",
        "  x,y = [],[]\n",
        "  with open(path,'r') as f:\n",
        "    lines = f.readlines()\n",
        "    for line in lines:\n",
        "      line = line.strip().split('\\t')\n",
        "      x.append(line[0])\n",
        "      y.append(line[1])\n",
        "  return x,y"
      ],
      "metadata": {
        "colab": {
          "base_uri": "https://localhost:8080/"
        },
        "id": "jk3z1EYw5dv8",
        "outputId": "a50a125e-baae-403b-83c0-662d4d831a72",
        "cellView": "form"
      },
      "execution_count": null,
      "outputs": [
        {
          "output_type": "stream",
          "name": "stdout",
          "text": [
            "categorys---> ['Italian', 'English', 'Arabic', 'Spanish', 'Scottish', 'Irish', 'Chinese', 'Vietnamese', 'Japanese', 'French', 'Greek', 'Dutch', 'Korean', 'Polish', 'Portuguese', 'Russian', 'Czech', 'German']\n",
            "all_letters---> abcdefghijklmnopqrstuvwxyzABCDEFGHIJKLMNOPQRSTUVWXYZ ,.:'\n"
          ]
        }
      ]
    },
    {
      "cell_type": "code",
      "source": [
        "#@title 数据加载器\n",
        "#定义数据封装器类\n",
        "class NameclassifcationDataset(Dataset):\n",
        "    def __init__(self,x,y):\n",
        "      #将读取的数据封装起来\n",
        "        self.x = x\n",
        "        self.y = y\n",
        "        self.sample_len = len(x)\n",
        "\n",
        "    #调用len方法返回x的数量\n",
        "    def __len__(self):\n",
        "        return self.sample_len\n",
        "\n",
        "    #对进行切片操作时调用\n",
        "    def __getitem__(self, idx):\n",
        "      idx = min(max(0,idx),self.sample_len-1)\n",
        "\n",
        "      x = self.x[idx]\n",
        "      y = self.y[idx]\n",
        "\n",
        "      tensor_x = torch.zeros(len(x),n_letters)\n",
        "      for i,v in enumerate(x):\n",
        "        tensor_x[i][all_letters.find(v)] = 1\n",
        "\n",
        "      tensor_y = torch.tensor(categorys.index(y))\n",
        "\n",
        "      return tensor_x,tensor_y"
      ],
      "metadata": {
        "cellView": "form",
        "id": "YqtoXBdR6c2I"
      },
      "execution_count": null,
      "outputs": []
    },
    {
      "cell_type": "code",
      "source": [
        "#@title 迭代器\n",
        "def get_traindata():\n",
        "  path = \"/content/drive/MyDrive/NLP/data/name_classfication.txt\"\n",
        "  x,y = read_data(path)\n",
        "  nameclassdataset = NameclassifcationDataset(x,y)\n",
        "  train_loader = DataLoader(nameclassdataset,batch_size=1,shuffle=True)\n",
        "  for x,y in train_loader:\n",
        "    print(x.shape,y.shape)\n",
        "    break\n",
        "  return train_loader"
      ],
      "metadata": {
        "id": "0k24lZylSWGb",
        "cellView": "form"
      },
      "execution_count": null,
      "outputs": []
    },
    {
      "cell_type": "code",
      "source": [
        "#@title 构建RNN\n",
        "# RNN类 实现思路分析：\n",
        "# 1 init函数 准备三个层 self.rnn self.linear self.softmax=nn.LogSoftmax(dim=-1)\n",
        "#    def __init__(self, input_size, hidden_size, output_size, num_layers=1)\n",
        "\n",
        "# 2 forward(input, hidden)函数\n",
        "#   让数据经过三个层 返回softmax结果和hn\n",
        "#   形状变化 [seqlen,1,57],[1,1,128]) -> [seqlen,1,128],[1,1,128]\n",
        "\n",
        "# 3 初始化隐藏层输入数据 inithidden()\n",
        "#   形状[self.num_layers, 1, self.hidden_size]\n",
        "class myRNN(nn.Module):\n",
        "  def __init__(self, input_size, hidden_size, output_size, num_layers=1):\n",
        "    super(myRNN, self).__init__()\n",
        "    self.input_size = input_size\n",
        "    self.num_layers = num_layers\n",
        "    self.hidden_size = hidden_size\n",
        "    self.output_size = output_size\n",
        "\n",
        "    self.rnn = nn.RNN(input_size, hidden_size, num_layers)\n",
        "    self.out = nn.Linear(hidden_size, output_size)\n",
        "    # #根据后边的损失函数如果是CrossEntropyLoss,就不需要softmax，是NLLLoss就需要加上softmax\n",
        "    # self.softmax = nn.LogSoftmax(dim=-1)\n",
        "\n",
        "  #前向传播\n",
        "  def forward(self,input,hidden):\n",
        "    #input\n",
        "    input = input.unsqueeze(1)\n",
        "\n",
        "    rr,hn = self.rnn(input,hidden)\n",
        "    tmprr = rr[-1]\n",
        "    tmprr = self.out(tmprr)\n",
        "    return tmprr,hn\n",
        "\n",
        "  #初始化隐藏层输入数据\n",
        "  def inithidden(self):\n",
        "    return torch.zeros(self.num_layers, 1, self.hidden_size)\n"
      ],
      "metadata": {
        "id": "RkmaUGxWGCEj",
        "cellView": "form"
      },
      "execution_count": null,
      "outputs": []
    },
    {
      "cell_type": "code",
      "source": [
        "#@title 构建LSTM\n",
        "# LSTM类 实现思路分析：\n",
        "# 1 init函数 准备三个层 self.rnn self.linear self.softmax=nn.LogSoftmax(dim=-1)\n",
        "#    def __init__(self, input_size, hidden_size, output_size, num_layers=1)\n",
        "\n",
        "# 2 forward(input, hidden)函数\n",
        "#   让数据经过三个层 返回softmax结果和hn\n",
        "#   形状变化 [seqlen,1,57],[1,1,128]) -> [seqlen,1,128],[1,1,128]\n",
        "\n",
        "# 3 初始化隐藏层输入数据 inithidden()\n",
        "#   形状[self.num_layers, 1, self.hidden_size]\n",
        "class myLSTM(nn.Module):\n",
        "  def __init__(self, input_size, hidden_size, output_size, num_layers=1):\n",
        "    super().__init__()\n",
        "    self.input_size = input_size\n",
        "    self.num_layers = num_layers\n",
        "    self.hidden_size = hidden_size\n",
        "    self.output_size = output_size\n",
        "\n",
        "    self.lstm = nn.LSTM(input_size, hidden_size, num_layers)\n",
        "    self.out = nn.Linear(hidden_size, output_size)\n",
        "    #根据后边的损失函数如果是CrossEntropyLoss,就不需要softmax，是NLLLoss就需要加上softmax\n",
        "    self.softmax = nn.LogSoftmax(dim=-1)\n",
        "\n",
        "  #前向传播\n",
        "  def forward(self,input,hidden,c):\n",
        "    #input\n",
        "    input = input.unsqueeze(1)\n",
        "\n",
        "    rr,(hn,cn) = self.lstm(input,(hidden,c))\n",
        "    tmprr = rr[-1]\n",
        "    tmprr = self.out(tmprr)\n",
        "    return self.softmax(tmprr),hn,cn\n",
        "\n",
        "  #初始化隐藏层输入数据\n",
        "  def inithidden(self):\n",
        "    hidden = c = torch.zeros(self.num_layers, 1, self.hidden_size)\n",
        "    return hidden,c\n"
      ],
      "metadata": {
        "id": "vqEFe7hGz-NU",
        "cellView": "form"
      },
      "execution_count": null,
      "outputs": []
    },
    {
      "cell_type": "code",
      "source": [
        "#@title 构建GRU\n",
        "# GRU类 实现思路分析：\n",
        "# 1 init函数 准备三个层 self.rnn self.linear self.softmax=nn.LogSoftmax(dim=-1)\n",
        "#    def __init__(self, input_size, hidden_size, output_size, num_layers=1)\n",
        "\n",
        "# 2 forward(input, hidden)函数\n",
        "#   让数据经过三个层 返回softmax结果和hn\n",
        "#   形状变化 [seqlen,1,57],[1,1,128]) -> [seqlen,1,128],[1,1,128]\n",
        "\n",
        "# 3 初始化隐藏层输入数据 inithidden()\n",
        "#   形状[self.num_layers, 1, self.hidden_size]\n",
        "class myGRU(nn.Module):\n",
        "  def __init__(self, input_size, hidden_size, output_size, num_layers=1):\n",
        "    super().__init__()\n",
        "    self.input_size = input_size\n",
        "    self.num_layers = num_layers\n",
        "    self.hidden_size = hidden_size\n",
        "    self.output_size = output_size\n",
        "\n",
        "    self.rnn = nn.GRU(input_size, hidden_size, num_layers)\n",
        "    self.out = nn.Linear(hidden_size, output_size)\n",
        "    #根据后边的损失函数如果是CrossEntropyLoss,就不需要softmax，是NLLLoss就需要加上softmax\n",
        "    self.softmax = nn.LogSoftmax(dim=-1)\n",
        "\n",
        "  #前向传播\n",
        "  def forward(self,input,hidden):\n",
        "    #input\n",
        "    input = input.unsqueeze(1)\n",
        "\n",
        "    rr,hn = self.rnn(input,hidden)\n",
        "    tmprr = rr[-1]\n",
        "    tmprr = self.out(tmprr)\n",
        "    return self.softmax(tmprr),hn\n",
        "\n",
        "  #初始化隐藏层输入数据\n",
        "  def inithidden(self):\n",
        "    return torch.zeros(self.num_layers, 1, self.hidden_size)\n"
      ],
      "metadata": {
        "cellView": "form",
        "id": "wqHLBBm0YWjq"
      },
      "execution_count": null,
      "outputs": []
    },
    {
      "cell_type": "code",
      "source": [
        "#@title 思路分析\n",
        "# 从文件获取数据、实例化数据源对象nameclassdataset 数据迭代器对象mydataloader\n",
        "# 实例化模型对象my_rnn 损失函数对象mycrossentropyloss=nn.NLLLoss() 优化器对象myadam\n",
        "# 定义模型训练的参数\n",
        "#       starttime total_iter_num total_loss  total_loss_list total_acc_num  total_acc_list\n",
        "# 外层for循环 控制轮数 for epoch_idx in range(epochs)\n",
        "# 内层for循环 控制迭代次数 for i, (x, y) in enumerate(mydataloader)\n",
        "    # 给模型喂数据   # 计算损失  # 梯度清零 # 反向传播  # 梯度更新\n",
        "    # 计算辅助信息   # 累加总损失和准确数 每100次训练计算一个总体平均损失 总体平均准确率 每2000次训练 打印日志\n",
        "    # 其他          # 预测对错 i_predit_tag = (1 if torch.argmax(output).item() == y.item() else 0)\n",
        "\n",
        "# 模型保存\n",
        "    # torch.save(my_rnn.state_dict(), './my_rnn_model_%d.bin' % (epoch_idx + 1))\n",
        "# 返回 平均损失列表total_loss_list, 时间total_time, 平均准确total_acc_list"
      ],
      "metadata": {
        "cellView": "form",
        "id": "BsS0U3uyzeJN"
      },
      "execution_count": null,
      "outputs": []
    },
    {
      "cell_type": "code",
      "source": [
        "# 检查是否有可用的CUDA设备\n",
        "device = torch.device(\"cuda\" if torch.cuda.is_available() else \"cpu\")\n",
        "print(f\"Using device: {device}\")\n",
        "\n",
        "epochs = 1\n",
        "lr = 1e-3\n",
        "def train_rnn():\n",
        "  #实例化dataloader\n",
        "  rnn_dataloader = get_traindata()\n",
        "  #实例化模型\n",
        "  input_size = all_letters\n",
        "  hidden_size = 200\n",
        "  output_size = categorynum\n",
        "  my_rnn = myRNN(input_size=n_letters,\n",
        "                 hidden_size=hidden_size,\n",
        "                 output_size=categorynum).to(device=device)\n",
        "\n",
        "  #损失函数和优化器\n",
        "  myloss = nn.NLLLoss()\n",
        "  myoptimizer = optim.Adam(my_rnn.parameters(), lr=lr)\n",
        "\n",
        "  #训练日志参数\n",
        "  starttime = time.time()\n",
        "  total_iter_num = 0 #已经训练的样本数\n",
        "  total_loss = 0  #已经训练的损失和\n",
        "  total_loss_list = [] #每批样本求一次平均损失\n",
        "  total_acc_num = 0 #训练样本准确总数\n",
        "  total_acc_list = [] #平均准确率列表\n",
        "\n",
        "  #开始训练\n",
        "\n",
        "\n",
        "  #前向传播\n"
      ],
      "metadata": {
        "colab": {
          "base_uri": "https://localhost:8080/"
        },
        "id": "sGVWDJIuDH03",
        "outputId": "a36f1a25-3506-4398-c6ac-9c20950a49c4"
      },
      "execution_count": null,
      "outputs": [
        {
          "output_type": "stream",
          "name": "stdout",
          "text": [
            "Using device: cuda\n"
          ]
        }
      ]
    },
    {
      "cell_type": "code",
      "source": [
        "from tqdm import tqdm\n",
        "import json"
      ],
      "metadata": {
        "id": "sI9fr8F1D9KE"
      },
      "execution_count": null,
      "outputs": []
    },
    {
      "cell_type": "code",
      "source": [
        "#@title RNN训练\n",
        "# 检查是否有可用的CUDA设备\n",
        "device = torch.device(\"cuda\" if torch.cuda.is_available() else \"cpu\")\n",
        "print(f\"Using device: {device}\")\n",
        "\n",
        "lr = 1e-4\n",
        "epochs = 10\n",
        "path = \"/content/drive/MyDrive/NLP/data/name_classfication.txt\"\n",
        "x,y = read_data(path)\n",
        "def train_rnn(x,y):\n",
        "  #实例化dataloader\n",
        "\n",
        "  input_size = all_letters\n",
        "  hidden_size = 200\n",
        "  output_size = categorynum\n",
        "  #实例化模型\n",
        "  my_rnn = myRNN(input_size=n_letters,\n",
        "                 hidden_size=hidden_size,\n",
        "                 output_size=categorynum).to(device) # 将模型移动到GPU\n",
        "\n",
        "  loss_fn = nn.CrossEntropyLoss()\n",
        "  optimizer = optim.Adam(my_rnn.parameters(), lr=lr)\n",
        "\n",
        "  starttime = time.time()\n",
        "  total_iter_num = 0 #已经训练的样本数\n",
        "  total_loss = 0  #已经训练的损失和\n",
        "  total_loss_list = [] #每批样本求一次平均损失\n",
        "  total_acc_num = 0 #训练样本准确总数\n",
        "  total_acc_list = [] #平均准确率列表\n",
        "\n",
        "  for epoch in range(epochs):\n",
        "    namedataloader = get_traindata()\n",
        "    for i,(x,y) in enumerate(tqdm(namedataloader)):\n",
        "      x,y = x.to(device), y.to(device) # 将数据移动到GPU\n",
        "      hidden = my_rnn.inithidden().to(device) # 将隐藏层初始化数据移动到GPU\n",
        "      output,hidden = my_rnn(x[0],hidden)\n",
        "      loss = loss_fn(output,y)\n",
        "      optimizer.zero_grad()\n",
        "      loss.backward()\n",
        "      optimizer.step()\n",
        "      #计算损失\n",
        "      total_iter_num = total_iter_num + 1\n",
        "      total_loss = total_loss + loss.item()\n",
        "      #计算准确率\n",
        "      i_predit_tag = (1 if torch.argmax(output).item() == y.item() else 0)\n",
        "      total_acc_num = total_acc_num + i_predit_tag\n",
        "      #每100次训练计算一次平均损失\n",
        "      if (total_iter_num % 100 == 0):\n",
        "        tmploss = total_loss / total_iter_num\n",
        "        total_loss_list.append(tmploss)\n",
        "\n",
        "        tmpacc = total_acc_num / total_iter_num\n",
        "        total_acc_list.append(tmpacc)\n",
        "      #每1000次训练打印日志\n",
        "      if (total_iter_num % 1000 == 0):\n",
        "        total_time = time.time() - starttime\n",
        "        print(f'轮次{epoch+1},损失{tmploss:.6f},\\\n",
        "        时间{time.time()-starttime:.6f},准确率{tmpacc:.6f}')\n",
        "    #保存训练好的模型\n",
        "    torch.save(my_rnn.state_dict(), '/content/drive/MyDrive/NLP/model/my_rnn_model.bin')\n",
        "  #计算总时间\n",
        "  total_time = int(time.time() - starttime)\n",
        "  rnn_dict = {\"total_loss_list\":total_loss_list,\"total_time\":total_time,\"total_acc_list\":total_acc_list}\n",
        "  with open('/content/drive/MyDrive/NLP/model/rnn_dict.json','w') as f:\n",
        "    f.write(json.dumps(rnn_dict))\n",
        "\n",
        "\n",
        "\n",
        "total_loss_list, total_time, total_acc_list = train_rnn(x,y)"
      ],
      "metadata": {
        "colab": {
          "base_uri": "https://localhost:8080/",
          "height": 845
        },
        "id": "x0MG_fNTz-Pz",
        "outputId": "fad02368-f8d1-4388-9d2f-769f9fbf4a9d",
        "collapsed": true
      },
      "execution_count": 20,
      "outputs": [
        {
          "metadata": {
            "tags": null
          },
          "name": "stdout",
          "output_type": "stream",
          "text": [
            "Using device: cpu\n",
            "torch.Size([1, 5, 57]) torch.Size([1])\n"
          ]
        },
        {
          "metadata": {
            "tags": null
          },
          "name": "stderr",
          "output_type": "stream",
          "text": [
            "  5%|▌         | 1040/20074 [00:03<01:04, 295.46it/s]"
          ]
        },
        {
          "metadata": {
            "tags": null
          },
          "name": "stdout",
          "output_type": "stream",
          "text": [
            "轮次1,损失1.860180,        时间3.261884,准确率0.452000\n"
          ]
        },
        {
          "metadata": {
            "tags": null
          },
          "name": "stderr",
          "output_type": "stream",
          "text": [
            " 10%|█         | 2073/20074 [00:06<00:44, 403.51it/s]"
          ]
        },
        {
          "metadata": {
            "tags": null
          },
          "name": "stdout",
          "output_type": "stream",
          "text": [
            "轮次1,损失1.789155,        时间6.148377,准确率0.466000\n"
          ]
        },
        {
          "metadata": {
            "tags": null
          },
          "name": "stderr",
          "output_type": "stream",
          "text": [
            " 15%|█▌        | 3066/20074 [00:08<00:40, 418.76it/s]"
          ]
        },
        {
          "metadata": {
            "tags": null
          },
          "name": "stdout",
          "output_type": "stream",
          "text": [
            "轮次1,损失1.728591,        时间8.578168,准确率0.483667\n"
          ]
        },
        {
          "metadata": {
            "tags": null
          },
          "name": "stderr",
          "output_type": "stream",
          "text": [
            " 20%|██        | 4041/20074 [00:11<00:39, 403.82it/s]"
          ]
        },
        {
          "metadata": {
            "tags": null
          },
          "name": "stdout",
          "output_type": "stream",
          "text": [
            "轮次1,损失1.669715,        时间11.041132,准确率0.501750\n"
          ]
        },
        {
          "metadata": {
            "tags": null
          },
          "name": "stderr",
          "output_type": "stream",
          "text": [
            " 25%|██▌       | 5060/20074 [00:14<00:46, 319.67it/s]"
          ]
        },
        {
          "metadata": {
            "tags": null
          },
          "name": "stdout",
          "output_type": "stream",
          "text": [
            "轮次1,损失1.645673,        时间13.873472,准确率0.511200\n"
          ]
        },
        {
          "output_type": "stream",
          "name": "stderr",
          "text": [
            " 30%|██▉       | 6019/20074 [00:18<01:22, 170.81it/s]"
          ]
        },
        {
          "output_type": "stream",
          "name": "stdout",
          "text": [
            "轮次1,损失1.606115,        时间18.738261,准确率0.525000\n"
          ]
        },
        {
          "output_type": "stream",
          "name": "stderr",
          "text": [
            " 35%|███▌      | 7073/20074 [00:22<00:31, 409.46it/s]"
          ]
        },
        {
          "output_type": "stream",
          "name": "stdout",
          "text": [
            "轮次1,损失1.576755,        时间22.754442,准确率0.533000\n"
          ]
        },
        {
          "output_type": "stream",
          "name": "stderr",
          "text": [
            " 40%|████      | 8042/20074 [00:25<00:29, 408.31it/s]"
          ]
        },
        {
          "output_type": "stream",
          "name": "stdout",
          "text": [
            "轮次1,损失1.557948,        时间25.217264,准确率0.539250\n"
          ]
        },
        {
          "output_type": "stream",
          "name": "stderr",
          "text": [
            " 45%|████▌     | 9057/20074 [00:27<00:26, 414.77it/s]"
          ]
        },
        {
          "output_type": "stream",
          "name": "stdout",
          "text": [
            "轮次1,损失1.526134,        时间27.675641,准确率0.550444\n"
          ]
        },
        {
          "output_type": "stream",
          "name": "stderr",
          "text": [
            " 50%|█████     | 10054/20074 [00:30<00:25, 392.39it/s]"
          ]
        },
        {
          "output_type": "stream",
          "name": "stdout",
          "text": [
            "轮次1,损失1.493228,        时间30.195206,准确率0.560300\n"
          ]
        },
        {
          "output_type": "stream",
          "name": "stderr",
          "text": [
            " 55%|█████▍    | 11035/20074 [00:33<00:32, 278.46it/s]"
          ]
        },
        {
          "output_type": "stream",
          "name": "stdout",
          "text": [
            "轮次1,损失1.469747,        时间33.305951,准确率0.568545\n"
          ]
        },
        {
          "output_type": "stream",
          "name": "stderr",
          "text": [
            " 60%|██████    | 12061/20074 [00:36<00:19, 404.18it/s]"
          ]
        },
        {
          "output_type": "stream",
          "name": "stdout",
          "text": [
            "轮次1,损失1.446599,        时间36.363942,准确率0.577083\n"
          ]
        },
        {
          "output_type": "stream",
          "name": "stderr",
          "text": [
            " 65%|██████▌   | 13073/20074 [00:38<00:17, 403.98it/s]"
          ]
        },
        {
          "output_type": "stream",
          "name": "stdout",
          "text": [
            "轮次1,损失1.430045,        时间38.828990,准确率0.582923\n"
          ]
        },
        {
          "output_type": "stream",
          "name": "stderr",
          "text": [
            " 70%|███████   | 14083/20074 [00:41<00:15, 387.88it/s]"
          ]
        },
        {
          "output_type": "stream",
          "name": "stdout",
          "text": [
            "轮次1,损失1.411805,        时间41.446350,准确率0.587786\n"
          ]
        },
        {
          "output_type": "stream",
          "name": "stderr",
          "text": [
            " 75%|███████▍  | 15046/20074 [00:44<00:12, 392.29it/s]"
          ]
        },
        {
          "output_type": "stream",
          "name": "stdout",
          "text": [
            "轮次1,损失1.392475,        时间44.047415,准确率0.593600\n"
          ]
        },
        {
          "output_type": "stream",
          "name": "stderr",
          "text": [
            " 80%|███████▉  | 16048/20074 [00:47<00:13, 290.80it/s]"
          ]
        },
        {
          "output_type": "stream",
          "name": "stdout",
          "text": [
            "轮次1,损失1.372792,        时间47.167856,准确率0.598938\n"
          ]
        },
        {
          "output_type": "stream",
          "name": "stderr",
          "text": [
            " 85%|████████▍ | 17045/20074 [00:50<00:07, 399.08it/s]"
          ]
        },
        {
          "output_type": "stream",
          "name": "stdout",
          "text": [
            "轮次1,损失1.358160,        时间50.130175,准确率0.604353\n"
          ]
        },
        {
          "output_type": "stream",
          "name": "stderr",
          "text": [
            " 90%|████████▉ | 18047/20074 [00:52<00:04, 415.57it/s]"
          ]
        },
        {
          "output_type": "stream",
          "name": "stdout",
          "text": [
            "轮次1,损失1.350372,        时间52.622175,准确率0.606722\n"
          ]
        },
        {
          "output_type": "stream",
          "name": "stderr",
          "text": [
            " 95%|█████████▌| 19077/20074 [00:55<00:02, 395.20it/s]"
          ]
        },
        {
          "output_type": "stream",
          "name": "stdout",
          "text": [
            "轮次1,损失1.335361,        时间55.176993,准确率0.611632\n"
          ]
        },
        {
          "output_type": "stream",
          "name": "stderr",
          "text": [
            "100%|██████████| 20074/20074 [00:57<00:00, 347.09it/s]"
          ]
        },
        {
          "output_type": "stream",
          "name": "stdout",
          "text": [
            "轮次1,损失1.322687,        时间57.673105,准确率0.615250\n"
          ]
        },
        {
          "output_type": "stream",
          "name": "stderr",
          "text": [
            "\n"
          ]
        },
        {
          "output_type": "stream",
          "name": "stdout",
          "text": [
            "torch.Size([1, 6, 57]) torch.Size([1])\n"
          ]
        },
        {
          "output_type": "stream",
          "name": "stderr",
          "text": [
            "  5%|▍         | 980/20074 [00:03<01:07, 281.00it/s]"
          ]
        },
        {
          "output_type": "stream",
          "name": "stdout",
          "text": [
            "轮次2,损失1.310181,        时间60.879695,准确率0.619381\n"
          ]
        },
        {
          "output_type": "stream",
          "name": "stderr",
          "text": [
            " 10%|▉         | 1969/20074 [00:06<00:45, 401.83it/s]"
          ]
        },
        {
          "output_type": "stream",
          "name": "stdout",
          "text": [
            "轮次2,损失1.301746,        时间63.777423,准确率0.621864\n"
          ]
        },
        {
          "output_type": "stream",
          "name": "stderr",
          "text": [
            " 12%|█▏        | 2352/20074 [00:06<00:52, 336.75it/s]\n"
          ]
        },
        {
          "output_type": "error",
          "ename": "KeyboardInterrupt",
          "evalue": "",
          "traceback": [
            "\u001b[0;31m---------------------------------------------------------------------------\u001b[0m",
            "\u001b[0;31mKeyboardInterrupt\u001b[0m                         Traceback (most recent call last)",
            "\u001b[0;32m/tmp/ipython-input-20-465155079.py\u001b[0m in \u001b[0;36m<cell line: 0>\u001b[0;34m()\u001b[0m\n\u001b[1;32m     68\u001b[0m \u001b[0;34m\u001b[0m\u001b[0m\n\u001b[1;32m     69\u001b[0m \u001b[0;34m\u001b[0m\u001b[0m\n\u001b[0;32m---> 70\u001b[0;31m \u001b[0mtotal_loss_list\u001b[0m\u001b[0;34m,\u001b[0m \u001b[0mtotal_time\u001b[0m\u001b[0;34m,\u001b[0m \u001b[0mtotal_acc_list\u001b[0m \u001b[0;34m=\u001b[0m \u001b[0mtrain_rnn\u001b[0m\u001b[0;34m(\u001b[0m\u001b[0mx\u001b[0m\u001b[0;34m,\u001b[0m\u001b[0my\u001b[0m\u001b[0;34m)\u001b[0m\u001b[0;34m\u001b[0m\u001b[0;34m\u001b[0m\u001b[0m\n\u001b[0m",
            "\u001b[0;32m/tmp/ipython-input-20-465155079.py\u001b[0m in \u001b[0;36mtrain_rnn\u001b[0;34m(x, y)\u001b[0m\n\u001b[1;32m     38\u001b[0m       \u001b[0moptimizer\u001b[0m\u001b[0;34m.\u001b[0m\u001b[0mzero_grad\u001b[0m\u001b[0;34m(\u001b[0m\u001b[0;34m)\u001b[0m\u001b[0;34m\u001b[0m\u001b[0;34m\u001b[0m\u001b[0m\n\u001b[1;32m     39\u001b[0m       \u001b[0mloss\u001b[0m\u001b[0;34m.\u001b[0m\u001b[0mbackward\u001b[0m\u001b[0;34m(\u001b[0m\u001b[0;34m)\u001b[0m\u001b[0;34m\u001b[0m\u001b[0;34m\u001b[0m\u001b[0m\n\u001b[0;32m---> 40\u001b[0;31m       \u001b[0moptimizer\u001b[0m\u001b[0;34m.\u001b[0m\u001b[0mstep\u001b[0m\u001b[0;34m(\u001b[0m\u001b[0;34m)\u001b[0m\u001b[0;34m\u001b[0m\u001b[0;34m\u001b[0m\u001b[0m\n\u001b[0m\u001b[1;32m     41\u001b[0m       \u001b[0;31m#计算损失\u001b[0m\u001b[0;34m\u001b[0m\u001b[0;34m\u001b[0m\u001b[0m\n\u001b[1;32m     42\u001b[0m       \u001b[0mtotal_iter_num\u001b[0m \u001b[0;34m=\u001b[0m \u001b[0mtotal_iter_num\u001b[0m \u001b[0;34m+\u001b[0m \u001b[0;36m1\u001b[0m\u001b[0;34m\u001b[0m\u001b[0;34m\u001b[0m\u001b[0m\n",
            "\u001b[0;32m/usr/local/lib/python3.11/dist-packages/torch/optim/optimizer.py\u001b[0m in \u001b[0;36mwrapper\u001b[0;34m(*args, **kwargs)\u001b[0m\n\u001b[1;32m    491\u001b[0m                             )\n\u001b[1;32m    492\u001b[0m \u001b[0;34m\u001b[0m\u001b[0m\n\u001b[0;32m--> 493\u001b[0;31m                 \u001b[0mout\u001b[0m \u001b[0;34m=\u001b[0m \u001b[0mfunc\u001b[0m\u001b[0;34m(\u001b[0m\u001b[0;34m*\u001b[0m\u001b[0margs\u001b[0m\u001b[0;34m,\u001b[0m \u001b[0;34m**\u001b[0m\u001b[0mkwargs\u001b[0m\u001b[0;34m)\u001b[0m\u001b[0;34m\u001b[0m\u001b[0;34m\u001b[0m\u001b[0m\n\u001b[0m\u001b[1;32m    494\u001b[0m                 \u001b[0mself\u001b[0m\u001b[0;34m.\u001b[0m\u001b[0m_optimizer_step_code\u001b[0m\u001b[0;34m(\u001b[0m\u001b[0;34m)\u001b[0m\u001b[0;34m\u001b[0m\u001b[0;34m\u001b[0m\u001b[0m\n\u001b[1;32m    495\u001b[0m \u001b[0;34m\u001b[0m\u001b[0m\n",
            "\u001b[0;32m/usr/local/lib/python3.11/dist-packages/torch/optim/optimizer.py\u001b[0m in \u001b[0;36m_use_grad\u001b[0;34m(self, *args, **kwargs)\u001b[0m\n\u001b[1;32m     89\u001b[0m             \u001b[0mtorch\u001b[0m\u001b[0;34m.\u001b[0m\u001b[0mset_grad_enabled\u001b[0m\u001b[0;34m(\u001b[0m\u001b[0mself\u001b[0m\u001b[0;34m.\u001b[0m\u001b[0mdefaults\u001b[0m\u001b[0;34m[\u001b[0m\u001b[0;34m\"differentiable\"\u001b[0m\u001b[0;34m]\u001b[0m\u001b[0;34m)\u001b[0m\u001b[0;34m\u001b[0m\u001b[0;34m\u001b[0m\u001b[0m\n\u001b[1;32m     90\u001b[0m             \u001b[0mtorch\u001b[0m\u001b[0;34m.\u001b[0m\u001b[0m_dynamo\u001b[0m\u001b[0;34m.\u001b[0m\u001b[0mgraph_break\u001b[0m\u001b[0;34m(\u001b[0m\u001b[0;34m)\u001b[0m\u001b[0;34m\u001b[0m\u001b[0;34m\u001b[0m\u001b[0m\n\u001b[0;32m---> 91\u001b[0;31m             \u001b[0mret\u001b[0m \u001b[0;34m=\u001b[0m \u001b[0mfunc\u001b[0m\u001b[0;34m(\u001b[0m\u001b[0mself\u001b[0m\u001b[0;34m,\u001b[0m \u001b[0;34m*\u001b[0m\u001b[0margs\u001b[0m\u001b[0;34m,\u001b[0m \u001b[0;34m**\u001b[0m\u001b[0mkwargs\u001b[0m\u001b[0;34m)\u001b[0m\u001b[0;34m\u001b[0m\u001b[0;34m\u001b[0m\u001b[0m\n\u001b[0m\u001b[1;32m     92\u001b[0m         \u001b[0;32mfinally\u001b[0m\u001b[0;34m:\u001b[0m\u001b[0;34m\u001b[0m\u001b[0;34m\u001b[0m\u001b[0m\n\u001b[1;32m     93\u001b[0m             \u001b[0mtorch\u001b[0m\u001b[0;34m.\u001b[0m\u001b[0m_dynamo\u001b[0m\u001b[0;34m.\u001b[0m\u001b[0mgraph_break\u001b[0m\u001b[0;34m(\u001b[0m\u001b[0;34m)\u001b[0m\u001b[0;34m\u001b[0m\u001b[0;34m\u001b[0m\u001b[0m\n",
            "\u001b[0;32m/usr/local/lib/python3.11/dist-packages/torch/optim/adam.py\u001b[0m in \u001b[0;36mstep\u001b[0;34m(self, closure)\u001b[0m\n\u001b[1;32m    242\u001b[0m             )\n\u001b[1;32m    243\u001b[0m \u001b[0;34m\u001b[0m\u001b[0m\n\u001b[0;32m--> 244\u001b[0;31m             adam(\n\u001b[0m\u001b[1;32m    245\u001b[0m                 \u001b[0mparams_with_grad\u001b[0m\u001b[0;34m,\u001b[0m\u001b[0;34m\u001b[0m\u001b[0;34m\u001b[0m\u001b[0m\n\u001b[1;32m    246\u001b[0m                 \u001b[0mgrads\u001b[0m\u001b[0;34m,\u001b[0m\u001b[0;34m\u001b[0m\u001b[0;34m\u001b[0m\u001b[0m\n",
            "\u001b[0;32m/usr/local/lib/python3.11/dist-packages/torch/optim/optimizer.py\u001b[0m in \u001b[0;36mmaybe_fallback\u001b[0;34m(*args, **kwargs)\u001b[0m\n\u001b[1;32m    152\u001b[0m                 \u001b[0;32mreturn\u001b[0m \u001b[0mdisabled_func\u001b[0m\u001b[0;34m(\u001b[0m\u001b[0;34m*\u001b[0m\u001b[0margs\u001b[0m\u001b[0;34m,\u001b[0m \u001b[0;34m**\u001b[0m\u001b[0mkwargs\u001b[0m\u001b[0;34m)\u001b[0m\u001b[0;34m\u001b[0m\u001b[0;34m\u001b[0m\u001b[0m\n\u001b[1;32m    153\u001b[0m             \u001b[0;32melse\u001b[0m\u001b[0;34m:\u001b[0m\u001b[0;34m\u001b[0m\u001b[0;34m\u001b[0m\u001b[0m\n\u001b[0;32m--> 154\u001b[0;31m                 \u001b[0;32mreturn\u001b[0m \u001b[0mfunc\u001b[0m\u001b[0;34m(\u001b[0m\u001b[0;34m*\u001b[0m\u001b[0margs\u001b[0m\u001b[0;34m,\u001b[0m \u001b[0;34m**\u001b[0m\u001b[0mkwargs\u001b[0m\u001b[0;34m)\u001b[0m\u001b[0;34m\u001b[0m\u001b[0;34m\u001b[0m\u001b[0m\n\u001b[0m\u001b[1;32m    155\u001b[0m \u001b[0;34m\u001b[0m\u001b[0m\n\u001b[1;32m    156\u001b[0m         \u001b[0;32mreturn\u001b[0m \u001b[0mmaybe_fallback\u001b[0m\u001b[0;34m\u001b[0m\u001b[0;34m\u001b[0m\u001b[0m\n",
            "\u001b[0;32m/usr/local/lib/python3.11/dist-packages/torch/optim/adam.py\u001b[0m in \u001b[0;36madam\u001b[0;34m(params, grads, exp_avgs, exp_avg_sqs, max_exp_avg_sqs, state_steps, foreach, capturable, differentiable, fused, grad_scale, found_inf, has_complex, amsgrad, beta1, beta2, lr, weight_decay, eps, maximize)\u001b[0m\n\u001b[1;32m    874\u001b[0m         \u001b[0mfunc\u001b[0m \u001b[0;34m=\u001b[0m \u001b[0m_single_tensor_adam\u001b[0m\u001b[0;34m\u001b[0m\u001b[0;34m\u001b[0m\u001b[0m\n\u001b[1;32m    875\u001b[0m \u001b[0;34m\u001b[0m\u001b[0m\n\u001b[0;32m--> 876\u001b[0;31m     func(\n\u001b[0m\u001b[1;32m    877\u001b[0m         \u001b[0mparams\u001b[0m\u001b[0;34m,\u001b[0m\u001b[0;34m\u001b[0m\u001b[0;34m\u001b[0m\u001b[0m\n\u001b[1;32m    878\u001b[0m         \u001b[0mgrads\u001b[0m\u001b[0;34m,\u001b[0m\u001b[0;34m\u001b[0m\u001b[0;34m\u001b[0m\u001b[0m\n",
            "\u001b[0;32m/usr/local/lib/python3.11/dist-packages/torch/optim/adam.py\u001b[0m in \u001b[0;36m_single_tensor_adam\u001b[0;34m(params, grads, exp_avgs, exp_avg_sqs, max_exp_avg_sqs, state_steps, grad_scale, found_inf, amsgrad, has_complex, beta1, beta2, lr, weight_decay, eps, maximize, capturable, differentiable)\u001b[0m\n\u001b[1;32m    474\u001b[0m                 \u001b[0mdenom\u001b[0m \u001b[0;34m=\u001b[0m \u001b[0;34m(\u001b[0m\u001b[0mmax_exp_avg_sqs\u001b[0m\u001b[0;34m[\u001b[0m\u001b[0mi\u001b[0m\u001b[0;34m]\u001b[0m\u001b[0;34m.\u001b[0m\u001b[0msqrt\u001b[0m\u001b[0;34m(\u001b[0m\u001b[0;34m)\u001b[0m \u001b[0;34m/\u001b[0m \u001b[0mbias_correction2_sqrt\u001b[0m\u001b[0;34m)\u001b[0m\u001b[0;34m.\u001b[0m\u001b[0madd_\u001b[0m\u001b[0;34m(\u001b[0m\u001b[0meps\u001b[0m\u001b[0;34m)\u001b[0m\u001b[0;34m\u001b[0m\u001b[0;34m\u001b[0m\u001b[0m\n\u001b[1;32m    475\u001b[0m             \u001b[0;32melse\u001b[0m\u001b[0;34m:\u001b[0m\u001b[0;34m\u001b[0m\u001b[0;34m\u001b[0m\u001b[0m\n\u001b[0;32m--> 476\u001b[0;31m                 \u001b[0mdenom\u001b[0m \u001b[0;34m=\u001b[0m \u001b[0;34m(\u001b[0m\u001b[0mexp_avg_sq\u001b[0m\u001b[0;34m.\u001b[0m\u001b[0msqrt\u001b[0m\u001b[0;34m(\u001b[0m\u001b[0;34m)\u001b[0m \u001b[0;34m/\u001b[0m \u001b[0mbias_correction2_sqrt\u001b[0m\u001b[0;34m)\u001b[0m\u001b[0;34m.\u001b[0m\u001b[0madd_\u001b[0m\u001b[0;34m(\u001b[0m\u001b[0meps\u001b[0m\u001b[0;34m)\u001b[0m\u001b[0;34m\u001b[0m\u001b[0;34m\u001b[0m\u001b[0m\n\u001b[0m\u001b[1;32m    477\u001b[0m \u001b[0;34m\u001b[0m\u001b[0m\n\u001b[1;32m    478\u001b[0m             \u001b[0mparam\u001b[0m\u001b[0;34m.\u001b[0m\u001b[0maddcdiv_\u001b[0m\u001b[0;34m(\u001b[0m\u001b[0mexp_avg\u001b[0m\u001b[0;34m,\u001b[0m \u001b[0mdenom\u001b[0m\u001b[0;34m,\u001b[0m \u001b[0mvalue\u001b[0m\u001b[0;34m=\u001b[0m\u001b[0;34m-\u001b[0m\u001b[0mstep_size\u001b[0m\u001b[0;34m)\u001b[0m\u001b[0;34m\u001b[0m\u001b[0;34m\u001b[0m\u001b[0m\n",
            "\u001b[0;31mKeyboardInterrupt\u001b[0m: "
          ]
        }
      ]
    },
    {
      "cell_type": "code",
      "source": [
        "#@title 构建LSTM\n",
        "# LSTM类 实现思路分析：\n",
        "# 1 init函数 准备三个层 self.rnn self.linear self.softmax=nn.LogSoftmax(dim=-1)\n",
        "#    def __init__(self, input_size, hidden_size, output_size, num_layers=1)\n",
        "\n",
        "# 2 forward(input, hidden)函数\n",
        "#   让数据经过三个层 返回softmax结果和hn\n",
        "#   形状变化 [seqlen,1,57],[1,1,128]) -> [seqlen,1,128],[1,1,128]\n",
        "\n",
        "# 3 初始化隐藏层输入数据 inithidden()\n",
        "#   形状[self.num_layers, 1, self.hidden_size]\n",
        "class myLSTM(nn.Module):\n",
        "  def __init__(self, input_size, hidden_size, output_size, num_layers=1):\n",
        "    super().__init__()\n",
        "    self.input_size = input_size\n",
        "    self.num_layers = num_layers\n",
        "    self.hidden_size = hidden_size\n",
        "    self.output_size = output_size\n",
        "\n",
        "    self.lstm = nn.LSTM(input_size, hidden_size, num_layers)\n",
        "    self.out = nn.Linear(hidden_size, output_size)\n",
        "    #根据后边的损失函数如果是CrossEntropyLoss,就不需要softmax，是NLLLoss就需要加上softmax\n",
        "    self.softmax = nn.LogSoftmax(dim=-1)\n",
        "\n",
        "  #前向传播\n",
        "  def forward(self,input,hidden,c):\n",
        "    #input\n",
        "    input = input.unsqueeze(1)\n",
        "\n",
        "    rr,(hn,cn) = self.lstm(input,(hidden,c))\n",
        "    tmprr = rr[-1]\n",
        "    tmprr = self.out(tmprr)\n",
        "    return self.softmax(tmprr),hn,cn\n",
        "\n",
        "  #初始化隐藏层输入数据\n",
        "  def inithidden(self):\n",
        "    hidden = c = torch.zeros(self.num_layers, 1, self.hidden_size)\n",
        "    return hidden,c\n",
        "\n",
        "#@title LSTM训练\n",
        "lr = 1e-3\n",
        "epochs = 1\n",
        "path = \"/content/drive/MyDrive/NLP/data/name_classfication.txt\"\n",
        "x,y = read_data(path)\n",
        "def train_lstm(x,y):\n",
        "  # 检查是否有可用的CUDA设备\n",
        "  device = torch.device(\"cuda\" if torch.cuda.is_available() else \"cpu\")\n",
        "  print(f\"Using device: {device}\")\n",
        "\n",
        "  #实例化dataloader\n",
        "  namedataloader = get_traindata()\n",
        "  input_size = all_letters\n",
        "  hidden_size = 200\n",
        "  output_size = categorynum\n",
        "  #实例化模型\n",
        "  my_lstm = myLSTM(input_size=n_letters,\n",
        "                 hidden_size=hidden_size,\n",
        "                 output_size=categorynum).to(device) # 将模型移动到GPU\n",
        "\n",
        "  loss_fn = nn.NLLLoss()\n",
        "  optimizer = optim.Adam(my_lstm.parameters(), lr=lr)\n",
        "\n",
        "  starttime = time.time()\n",
        "  total_iter_num = 0 #已经训练的样本数\n",
        "  total_loss = 0  #已经训练的损失和\n",
        "  total_loss_list = [] #每批样本求一次平均损失\n",
        "  total_acc_num = 0 #训练样本准确总数\n",
        "  total_acc_list = [] #平均准确率列表\n",
        "\n",
        "  for epoch in range(epochs):\n",
        "    for i,(x,y) in enumerate(tqdm(namedataloader)):\n",
        "      x,y = x.to(device), y.to(device) # 将数据移动到GPU\n",
        "      hidden,c = [h.to(device) for h in my_lstm.inithidden()] # 将隐藏层初始化数据移动到GPU\n",
        "      output,hidden,c = my_lstm(x[0],hidden,c)\n",
        "\n",
        "      loss = loss_fn(output,y)\n",
        "      optimizer.zero_grad()\n",
        "      loss.backward()\n",
        "      optimizer.step()\n",
        "      #计算损失\n",
        "      total_iter_num = total_iter_num + 1\n",
        "      total_loss = total_loss + loss.item()\n",
        "      #计算准确率\n",
        "      i_predit_tag = (1 if torch.argmax(output).item() == y.item() else 0)\n",
        "      total_acc_num = total_acc_num + i_predit_tag\n",
        "      #每100次训练计算一次平均损失\n",
        "      if (total_iter_num % 100 == 0):\n",
        "        tmploss = total_loss / total_iter_num\n",
        "        total_loss_list.append(tmploss)\n",
        "\n",
        "        tmpacc = total_acc_num / total_iter_num\n",
        "        total_acc_list.append(tmpacc)\n",
        "      #每1000次训练打印日志\n",
        "      if (total_iter_num % 1000 == 0):\n",
        "        total_time = time.time() - starttime\n",
        "        print(f'轮次{epoch+1},损失{tmploss:.6f},\\\n",
        "        时间{time.time()-starttime:.6f},准确率{tmpacc:.6f}')\n",
        "  #计算总时间\n",
        "  total_time = int(time.time() - starttime)\n",
        "  #保存训练好的模型\n",
        "  torch.save(my_lstm.state_dict(), '/content/drive/MyDrive/NLP/model/my_lstm_model.bin')\n",
        "  return total_loss_list, total_time, total_acc_list\n",
        "\n",
        "total_lloss_list, total_ltime, total_lacc_list = train_lstm(x,y)"
      ],
      "metadata": {
        "id": "LRmxp4UvyzJZ",
        "collapsed": true,
        "cellView": "form",
        "colab": {
          "base_uri": "https://localhost:8080/"
        },
        "outputId": "19a58acf-b9a7-4dc0-c2e3-c118913d5d00"
      },
      "execution_count": 23,
      "outputs": [
        {
          "output_type": "stream",
          "name": "stdout",
          "text": [
            "Using device: cpu\n",
            "torch.Size([1, 4, 57]) torch.Size([1])\n"
          ]
        },
        {
          "output_type": "stream",
          "name": "stderr",
          "text": [
            "  5%|▌         | 1025/20074 [00:09<03:02, 104.18it/s]"
          ]
        },
        {
          "output_type": "stream",
          "name": "stdout",
          "text": [
            "轮次1,损失1.737767,        时间9.534594,准确率0.509000\n"
          ]
        },
        {
          "output_type": "stream",
          "name": "stderr",
          "text": [
            " 10%|█         | 2037/20074 [00:17<01:35, 189.30it/s]"
          ]
        },
        {
          "output_type": "stream",
          "name": "stdout",
          "text": [
            "轮次1,损失1.563396,        时间17.241881,准确率0.548000\n"
          ]
        },
        {
          "output_type": "stream",
          "name": "stderr",
          "text": [
            " 15%|█▌        | 3036/20074 [00:22<01:09, 245.76it/s]"
          ]
        },
        {
          "output_type": "stream",
          "name": "stdout",
          "text": [
            "轮次1,损失1.457996,        时间21.870001,准确率0.578667\n"
          ]
        },
        {
          "output_type": "stream",
          "name": "stderr",
          "text": [
            " 20%|██        | 4043/20074 [00:26<01:08, 232.71it/s]"
          ]
        },
        {
          "output_type": "stream",
          "name": "stdout",
          "text": [
            "轮次1,损失1.407697,        时间26.286271,准确率0.593750\n"
          ]
        },
        {
          "output_type": "stream",
          "name": "stderr",
          "text": [
            " 25%|██▌       | 5019/20074 [00:31<01:28, 169.47it/s]"
          ]
        },
        {
          "output_type": "stream",
          "name": "stdout",
          "text": [
            "轮次1,损失1.338276,        时间31.132523,准确率0.612600\n"
          ]
        },
        {
          "output_type": "stream",
          "name": "stderr",
          "text": [
            " 30%|███       | 6028/20074 [00:35<00:59, 236.96it/s]"
          ]
        },
        {
          "output_type": "stream",
          "name": "stdout",
          "text": [
            "轮次1,损失1.301529,        时间35.700770,准确率0.625167\n"
          ]
        },
        {
          "output_type": "stream",
          "name": "stderr",
          "text": [
            " 35%|███▍      | 7025/20074 [00:39<00:51, 254.48it/s]"
          ]
        },
        {
          "output_type": "stream",
          "name": "stdout",
          "text": [
            "轮次1,损失1.277482,        时间39.572700,准确率0.630714\n"
          ]
        },
        {
          "output_type": "stream",
          "name": "stderr",
          "text": [
            " 40%|████      | 8033/20074 [00:44<01:06, 180.88it/s]"
          ]
        },
        {
          "output_type": "stream",
          "name": "stdout",
          "text": [
            "轮次1,损失1.239893,        时间43.913609,准确率0.641500\n"
          ]
        },
        {
          "output_type": "stream",
          "name": "stderr",
          "text": [
            " 45%|████▌     | 9035/20074 [00:48<00:45, 243.51it/s]"
          ]
        },
        {
          "output_type": "stream",
          "name": "stdout",
          "text": [
            "轮次1,损失1.201158,        时间48.731739,准确率0.652000\n"
          ]
        },
        {
          "output_type": "stream",
          "name": "stderr",
          "text": [
            " 50%|█████     | 10050/20074 [00:53<00:40, 247.33it/s]"
          ]
        },
        {
          "output_type": "stream",
          "name": "stdout",
          "text": [
            "轮次1,损失1.184683,        时间52.893942,准确率0.656200\n"
          ]
        },
        {
          "output_type": "stream",
          "name": "stderr",
          "text": [
            " 55%|█████▍    | 11031/20074 [00:57<00:50, 178.65it/s]"
          ]
        },
        {
          "output_type": "stream",
          "name": "stdout",
          "text": [
            "轮次1,损失1.156620,        时间57.274162,准确率0.662818\n"
          ]
        },
        {
          "output_type": "stream",
          "name": "stderr",
          "text": [
            " 60%|█████▉    | 12030/20074 [01:02<00:34, 235.19it/s]"
          ]
        },
        {
          "output_type": "stream",
          "name": "stdout",
          "text": [
            "轮次1,损失1.132682,        时间62.305208,准确率0.669250\n"
          ]
        },
        {
          "output_type": "stream",
          "name": "stderr",
          "text": [
            " 65%|██████▍   | 13036/20074 [01:06<00:29, 241.07it/s]"
          ]
        },
        {
          "output_type": "stream",
          "name": "stdout",
          "text": [
            "轮次1,损失1.112167,        时间66.493114,准确率0.675077\n"
          ]
        },
        {
          "output_type": "stream",
          "name": "stderr",
          "text": [
            " 70%|██████▉   | 14029/20074 [01:10<00:33, 181.19it/s]"
          ]
        },
        {
          "output_type": "stream",
          "name": "stdout",
          "text": [
            "轮次1,损失1.093088,        时间70.542666,准确率0.680643\n"
          ]
        },
        {
          "output_type": "stream",
          "name": "stderr",
          "text": [
            " 75%|███████▍  | 15030/20074 [01:15<00:20, 246.55it/s]"
          ]
        },
        {
          "output_type": "stream",
          "name": "stdout",
          "text": [
            "轮次1,损失1.082291,        时间75.499632,准确率0.683333\n"
          ]
        },
        {
          "output_type": "stream",
          "name": "stderr",
          "text": [
            " 80%|███████▉  | 16035/20074 [01:19<00:15, 266.69it/s]"
          ]
        },
        {
          "output_type": "stream",
          "name": "stdout",
          "text": [
            "轮次1,损失1.063724,        时间79.560237,准确率0.688688\n"
          ]
        },
        {
          "output_type": "stream",
          "name": "stderr",
          "text": [
            " 85%|████████▍ | 17029/20074 [01:23<00:15, 202.29it/s]"
          ]
        },
        {
          "output_type": "stream",
          "name": "stdout",
          "text": [
            "轮次1,损失1.047681,        时间83.711107,准确率0.692941\n"
          ]
        },
        {
          "output_type": "stream",
          "name": "stderr",
          "text": [
            " 90%|████████▉ | 18036/20074 [01:29<00:10, 203.50it/s]"
          ]
        },
        {
          "output_type": "stream",
          "name": "stdout",
          "text": [
            "轮次1,损失1.033968,        时间89.019049,准确率0.696944\n"
          ]
        },
        {
          "output_type": "stream",
          "name": "stderr",
          "text": [
            " 95%|█████████▍| 19036/20074 [01:33<00:04, 243.81it/s]"
          ]
        },
        {
          "output_type": "stream",
          "name": "stdout",
          "text": [
            "轮次1,损失1.022919,        时间93.213511,准确率0.700000\n"
          ]
        },
        {
          "output_type": "stream",
          "name": "stderr",
          "text": [
            "100%|█████████▉| 20016/20074 [01:37<00:00, 218.01it/s]"
          ]
        },
        {
          "output_type": "stream",
          "name": "stdout",
          "text": [
            "轮次1,损失1.007444,        时间97.342026,准确率0.704250\n"
          ]
        },
        {
          "output_type": "stream",
          "name": "stderr",
          "text": [
            "100%|██████████| 20074/20074 [01:37<00:00, 205.39it/s]\n"
          ]
        },
        {
          "output_type": "stream",
          "name": "stdout",
          "text": [
            "Using device: cpu\n",
            "torch.Size([1, 12, 57]) torch.Size([1])\n"
          ]
        },
        {
          "output_type": "stream",
          "name": "stderr",
          "text": [
            "  5%|▌         | 1039/20074 [00:04<01:19, 239.47it/s]"
          ]
        },
        {
          "output_type": "stream",
          "name": "stdout",
          "text": [
            "轮次1,损失1.703140,        时间4.530008,准确率0.509000\n"
          ]
        },
        {
          "output_type": "stream",
          "name": "stderr",
          "text": [
            " 10%|█         | 2031/20074 [00:08<01:16, 236.76it/s]"
          ]
        },
        {
          "output_type": "stream",
          "name": "stdout",
          "text": [
            "轮次1,损失1.574654,        时间8.683532,准确率0.541000\n"
          ]
        },
        {
          "output_type": "stream",
          "name": "stderr",
          "text": [
            " 15%|█▌        | 3023/20074 [00:13<01:48, 156.43it/s]"
          ]
        },
        {
          "output_type": "stream",
          "name": "stdout",
          "text": [
            "轮次1,损失1.486189,        时间13.115233,准确率0.565000\n"
          ]
        },
        {
          "output_type": "stream",
          "name": "stderr",
          "text": [
            " 20%|██        | 4034/20074 [00:18<01:11, 223.64it/s]"
          ]
        },
        {
          "output_type": "stream",
          "name": "stdout",
          "text": [
            "轮次1,损失1.405177,        时间17.890153,准确率0.586750\n"
          ]
        },
        {
          "output_type": "stream",
          "name": "stderr",
          "text": [
            " 25%|██▌       | 5039/20074 [00:22<01:01, 244.50it/s]"
          ]
        },
        {
          "output_type": "stream",
          "name": "stdout",
          "text": [
            "轮次1,损失1.361079,        时间22.080551,准确率0.601000\n"
          ]
        },
        {
          "output_type": "stream",
          "name": "stderr",
          "text": [
            " 30%|███       | 6026/20074 [00:26<01:14, 188.30it/s]"
          ]
        },
        {
          "output_type": "stream",
          "name": "stdout",
          "text": [
            "轮次1,损失1.316842,        时间26.218949,准确率0.610333\n"
          ]
        },
        {
          "output_type": "stream",
          "name": "stderr",
          "text": [
            " 35%|███▌      | 7047/20074 [00:31<00:52, 249.61it/s]"
          ]
        },
        {
          "output_type": "stream",
          "name": "stdout",
          "text": [
            "轮次1,损失1.290285,        时间31.029268,准确率0.617857\n"
          ]
        },
        {
          "output_type": "stream",
          "name": "stderr",
          "text": [
            " 40%|████      | 8032/20074 [00:35<00:48, 248.31it/s]"
          ]
        },
        {
          "output_type": "stream",
          "name": "stdout",
          "text": [
            "轮次1,损失1.251801,        时间35.046316,准确率0.630000\n"
          ]
        },
        {
          "output_type": "stream",
          "name": "stderr",
          "text": [
            " 45%|████▍     | 9029/20074 [00:39<00:59, 186.71it/s]"
          ]
        },
        {
          "output_type": "stream",
          "name": "stdout",
          "text": [
            "轮次1,损失1.218774,        时间39.245248,准确率0.640667\n"
          ]
        },
        {
          "output_type": "stream",
          "name": "stderr",
          "text": [
            " 50%|████▉     | 10022/20074 [00:44<00:45, 221.87it/s]"
          ]
        },
        {
          "output_type": "stream",
          "name": "stdout",
          "text": [
            "轮次1,损失1.195539,        时间44.339146,准确率0.646600\n"
          ]
        },
        {
          "output_type": "stream",
          "name": "stderr",
          "text": [
            " 55%|█████▌    | 11042/20074 [00:48<00:37, 238.18it/s]"
          ]
        },
        {
          "output_type": "stream",
          "name": "stdout",
          "text": [
            "轮次1,损失1.173511,        时间48.569052,准确率0.652455\n"
          ]
        },
        {
          "output_type": "stream",
          "name": "stderr",
          "text": [
            " 60%|█████▉    | 12026/20074 [00:53<00:44, 179.63it/s]"
          ]
        },
        {
          "output_type": "stream",
          "name": "stdout",
          "text": [
            "轮次1,损失1.155311,        时间52.962681,准确率0.658000\n"
          ]
        },
        {
          "output_type": "stream",
          "name": "stderr",
          "text": [
            " 65%|██████▍   | 13038/20074 [00:58<00:29, 234.96it/s]"
          ]
        },
        {
          "output_type": "stream",
          "name": "stdout",
          "text": [
            "轮次1,损失1.134407,        时间57.917574,准确率0.664615\n"
          ]
        },
        {
          "output_type": "stream",
          "name": "stderr",
          "text": [
            " 70%|██████▉   | 14048/20074 [01:02<00:24, 241.07it/s]"
          ]
        },
        {
          "output_type": "stream",
          "name": "stdout",
          "text": [
            "轮次1,损失1.114147,        时间62.191626,准确率0.670929\n"
          ]
        },
        {
          "output_type": "stream",
          "name": "stderr",
          "text": [
            " 75%|███████▍  | 15026/20074 [01:06<00:29, 172.84it/s]"
          ]
        },
        {
          "output_type": "stream",
          "name": "stdout",
          "text": [
            "轮次1,损失1.090571,        时间66.437815,准确率0.678600\n"
          ]
        },
        {
          "output_type": "stream",
          "name": "stderr",
          "text": [
            " 80%|███████▉  | 16036/20074 [01:11<00:15, 255.32it/s]"
          ]
        },
        {
          "output_type": "stream",
          "name": "stdout",
          "text": [
            "轮次1,损失1.074499,        时间71.308379,准确率0.683063\n"
          ]
        },
        {
          "output_type": "stream",
          "name": "stderr",
          "text": [
            " 85%|████████▍ | 17038/20074 [01:15<00:12, 240.69it/s]"
          ]
        },
        {
          "output_type": "stream",
          "name": "stdout",
          "text": [
            "轮次1,损失1.055264,        时间75.398255,准确率0.688176\n"
          ]
        },
        {
          "output_type": "stream",
          "name": "stderr",
          "text": [
            " 90%|████████▉ | 18012/20074 [01:20<00:14, 139.36it/s]"
          ]
        },
        {
          "output_type": "stream",
          "name": "stdout",
          "text": [
            "轮次1,损失1.044679,        时间80.799327,准确率0.691944\n"
          ]
        },
        {
          "output_type": "stream",
          "name": "stderr",
          "text": [
            " 95%|█████████▍| 19045/20074 [01:25<00:04, 241.42it/s]"
          ]
        },
        {
          "output_type": "stream",
          "name": "stdout",
          "text": [
            "轮次1,损失1.032111,        时间85.788054,准确率0.695526\n"
          ]
        },
        {
          "output_type": "stream",
          "name": "stderr",
          "text": [
            "100%|█████████▉| 20029/20074 [01:29<00:00, 259.64it/s]"
          ]
        },
        {
          "output_type": "stream",
          "name": "stdout",
          "text": [
            "轮次1,损失1.021177,        时间89.858221,准确率0.698950\n"
          ]
        },
        {
          "output_type": "stream",
          "name": "stderr",
          "text": [
            "100%|██████████| 20074/20074 [01:30<00:00, 222.69it/s]\n"
          ]
        }
      ]
    },
    {
      "cell_type": "code",
      "source": [
        "#@title 练习\n",
        "class lstm(nn.Module):\n",
        "  def __init__(self, input_size, hidden_size, output_size, num_layers=1):\n",
        "    super().__init__()\n",
        "    self.input_size = input_size\n",
        "    self.num_layers = num_layers\n",
        "    self.hidden_size = hidden_size\n",
        "    self.output_size = output_size\n",
        "    #定义lstm层\n",
        "    self.lstm = nn.LSTM(input_size, hidden_size, num_layers)\n",
        "    #定义线性层处理lstm层返回的数据 hidden_size,18\n",
        "    self.liner = nn.Linear(hidden_size, output_size)\n",
        "    self.softmax = nn.LogSoftmax(dim=-1)\n",
        "\n",
        "  def forward(self,input,hidden,c):\n",
        "    input = input.unsqueeze(1)\n",
        "    rr,(hn,cn) = self.lstm(input,(hidden,c))\n",
        "    #取最后一个时间步的输出,然后经过线性层输出到softmax\n",
        "    return self.softmax(self.liner(rr[-1])),hn,cn\n",
        "\n",
        "  def inithidden(self):\n",
        "    hidden  = torch.zeros(self.num_layers, 1, self.hidden_size)\n",
        "    c = torch.zeros(self.num_layers, 1, self.hidden_size)\n",
        "    return hidden,c"
      ],
      "metadata": {
        "cellView": "form",
        "id": "1pfYaGHW0jin"
      },
      "execution_count": null,
      "outputs": []
    },
    {
      "cell_type": "code",
      "source": [
        "#@title 测试结果\n",
        "# 1 实例化rnn对象\n",
        "mylstm = lstm(57, 128, 18)\n",
        "print('lstm--->', mylstm)\n",
        "\n",
        "# 2 准备数据\n",
        "input = torch.randn(6, 57)\n",
        "print(input.shape)\n",
        "h,c = mylstm.inithidden()\n",
        "\n",
        "# 3 给模型1次性的送数据\n",
        "# [seqlen, 57], [1, 1, 128]) -> [1,18], [1,1,128]\n",
        "output, h,c = mylstm(input, h,c)\n",
        "print('一次性的送数据：output->', output.shape, output)\n",
        "print('hidden->', h.shape)\n",
        "print('outpur->', output.shape)\n"
      ],
      "metadata": {
        "colab": {
          "base_uri": "https://localhost:8080/"
        },
        "cellView": "form",
        "id": "hyIJXDLf4tEO",
        "outputId": "5b38efca-41b4-4f27-fa1d-aa8439871b35"
      },
      "execution_count": null,
      "outputs": [
        {
          "output_type": "stream",
          "name": "stdout",
          "text": [
            "lstm---> lstm(\n",
            "  (lstm): LSTM(57, 128)\n",
            "  (liner): Linear(in_features=128, out_features=18, bias=True)\n",
            "  (softmax): LogSoftmax(dim=-1)\n",
            ")\n",
            "torch.Size([6, 57])\n",
            "一次性的送数据：output-> torch.Size([1, 18]) tensor([[-2.8638, -2.9164, -2.9041, -2.8995, -2.8628, -2.8157, -2.9376, -2.7969,\n",
            "         -2.8231, -2.8488, -3.0521, -3.0163, -2.7905, -2.8855, -3.0211, -2.7957,\n",
            "         -2.9637, -2.8866]], grad_fn=<LogSoftmaxBackward0>)\n",
            "hidden-> torch.Size([1, 1, 128])\n",
            "outpur-> torch.Size([1, 18])\n"
          ]
        }
      ]
    },
    {
      "cell_type": "code",
      "source": [
        "#@title GRU训练\n",
        "lr = 1e-3\n",
        "epochs = 1\n",
        "path = \"/content/drive/MyDrive/NLP/data/name_classfication.txt\"\n",
        "x,y = read_data(path)\n",
        "def train_gru(x,y):\n",
        "  # 检查是否有可用的CUDA设备\n",
        "  device = torch.device(\"cuda\" if torch.cuda.is_available() else \"cpu\")\n",
        "  print(f\"Using device: {device}\")\n",
        "\n",
        "  #实例化dataloader\n",
        "  namedataloader = get_traindata()\n",
        "  input_size = all_letters\n",
        "  hidden_size = 200\n",
        "  output_size = categorynum\n",
        "  #实例化模型\n",
        "  my_gru = myGRU(input_size=n_letters,\n",
        "                 hidden_size=hidden_size,\n",
        "                 output_size=categorynum).to(device) # 将模型移动到GPU\n",
        "\n",
        "  loss_fn = nn.NLLLoss()\n",
        "  optimizer = optim.Adam(my_gru.parameters(), lr=lr)\n",
        "\n",
        "  starttime = time.time()\n",
        "  total_iter_num = 0 #已经训练的样本数\n",
        "  total_loss = 0  #已经训练的损失和\n",
        "  total_loss_list = [] #每批样本求一次平均损失\n",
        "  total_acc_num = 0 #训练样本准确总数\n",
        "  total_acc_list = [] #平均准确率列表\n",
        "\n",
        "  for epoch in range(epochs):\n",
        "    for i,(x,y) in enumerate(tqdm(namedataloader)):\n",
        "      x,y = x.to(device), y.to(device) # 将数据移动到GPU\n",
        "      hidden = my_gru.inithidden().to(device) # 将隐藏层初始化数据移动到GPU\n",
        "      output,hidden = my_gru(x[0],hidden)\n",
        "      loss = loss_fn(output,y)\n",
        "      optimizer.zero_grad()\n",
        "      loss.backward()\n",
        "      optimizer.step()\n",
        "      #计算损失\n",
        "      total_iter_num = total_iter_num + 1\n",
        "      total_loss = total_loss + loss.item()\n",
        "      #计算准确率\n",
        "      i_predit_tag = (1 if torch.argmax(output).item() == y.item() else 0)\n",
        "      total_acc_num = total_acc_num + i_predit_tag\n",
        "      #每100次训练计算一次平均损失\n",
        "      if (total_iter_num % 100 == 0):\n",
        "        tmploss = total_loss / total_iter_num\n",
        "        total_loss_list.append(tmploss)\n",
        "\n",
        "        tmpacc = total_acc_num / total_iter_num\n",
        "        total_acc_list.append(tmpacc)\n",
        "      #每1000次训练打印日志\n",
        "      if (total_iter_num % 1000 == 0):\n",
        "        total_time = time.time() - starttime\n",
        "        print(f'轮次{epoch+1},损失{tmploss:.6f},\\\n",
        "        时间{time.time()-starttime:.6f},准确率{tmpacc:.6f}')\n",
        "  #计算总时间\n",
        "  total_time = int(time.time() - starttime)\n",
        "  #保存训练好的模型\n",
        "  torch.save(my_gru.state_dict(), '/content/drive/MyDrive/NLP/model/my_GRU_model.bin')\n",
        "  gru_dict = {\"total_loss_list\":total_loss_list,\"total_time\":total_time,\"total_acc_list\":total_acc_list}\n",
        "  with open('/content/drive/MyDrive/NLP/model/gru_dict.json','w') as f:\n",
        "    f.write(json.dumps(gru_dict))\n",
        "\n",
        "train_gru(x,y)"
      ],
      "metadata": {
        "id": "GR3RB6YfyzPw",
        "collapsed": true,
        "cellView": "form",
        "colab": {
          "base_uri": "https://localhost:8080/"
        },
        "outputId": "dd8c56b1-a805-4df4-fbcf-fffed1418fd5"
      },
      "execution_count": 24,
      "outputs": [
        {
          "metadata": {
            "tags": null
          },
          "name": "stdout",
          "output_type": "stream",
          "text": [
            "Using device: cpu\n",
            "torch.Size([1, 6, 57]) torch.Size([1])\n"
          ]
        },
        {
          "metadata": {
            "tags": null
          },
          "name": "stderr",
          "output_type": "stream",
          "text": [
            "  5%|▌         | 1032/20074 [00:06<01:40, 188.82it/s]"
          ]
        },
        {
          "metadata": {
            "tags": null
          },
          "name": "stdout",
          "output_type": "stream",
          "text": [
            "轮次1,损失1.568212,        时间6.394994,准确率0.546000\n"
          ]
        },
        {
          "metadata": {
            "tags": null
          },
          "name": "stderr",
          "output_type": "stream",
          "text": [
            " 10%|█         | 2020/20074 [00:11<01:35, 188.80it/s]"
          ]
        },
        {
          "metadata": {
            "tags": null
          },
          "name": "stdout",
          "output_type": "stream",
          "text": [
            "轮次1,损失1.439626,        时间11.764785,准确率0.577000\n"
          ]
        },
        {
          "metadata": {
            "tags": null
          },
          "name": "stderr",
          "output_type": "stream",
          "text": [
            " 15%|█▌        | 3014/20074 [00:17<02:07, 133.80it/s]"
          ]
        },
        {
          "metadata": {
            "tags": null
          },
          "name": "stdout",
          "output_type": "stream",
          "text": [
            "轮次1,损失1.359288,        时间17.686356,准确率0.600667\n"
          ]
        },
        {
          "metadata": {
            "tags": null
          },
          "name": "stderr",
          "output_type": "stream",
          "text": [
            " 20%|██        | 4029/20074 [00:23<01:32, 173.05it/s]"
          ]
        },
        {
          "metadata": {
            "tags": null
          },
          "name": "stdout",
          "output_type": "stream",
          "text": [
            "轮次1,损失1.284861,        时间23.477296,准确率0.621500\n"
          ]
        },
        {
          "metadata": {
            "tags": null
          },
          "name": "stderr",
          "output_type": "stream",
          "text": [
            " 25%|██▌       | 5021/20074 [00:28<01:24, 178.99it/s]"
          ]
        },
        {
          "metadata": {
            "tags": null
          },
          "name": "stdout",
          "output_type": "stream",
          "text": [
            "轮次1,损失1.225341,        时间28.849119,准确率0.636200\n"
          ]
        },
        {
          "metadata": {
            "tags": null
          },
          "name": "stderr",
          "output_type": "stream",
          "text": [
            " 30%|██▉       | 6018/20074 [00:35<01:07, 206.74it/s]"
          ]
        },
        {
          "metadata": {
            "tags": null
          },
          "name": "stdout",
          "output_type": "stream",
          "text": [
            "轮次1,损失1.187266,        时间35.362096,准确率0.648000\n"
          ]
        },
        {
          "metadata": {
            "tags": null
          },
          "name": "stderr",
          "output_type": "stream",
          "text": [
            " 35%|███▍      | 7025/20074 [00:40<01:07, 193.58it/s]"
          ]
        },
        {
          "metadata": {
            "tags": null
          },
          "name": "stdout",
          "output_type": "stream",
          "text": [
            "轮次1,损失1.146442,        时间40.644796,准确率0.660286\n"
          ]
        },
        {
          "metadata": {
            "tags": null
          },
          "name": "stderr",
          "output_type": "stream",
          "text": [
            " 40%|████      | 8033/20074 [00:47<01:05, 184.22it/s]"
          ]
        },
        {
          "metadata": {
            "tags": null
          },
          "name": "stdout",
          "output_type": "stream",
          "text": [
            "轮次1,损失1.120603,        时间47.125384,准确率0.665875\n"
          ]
        },
        {
          "metadata": {
            "tags": null
          },
          "name": "stderr",
          "output_type": "stream",
          "text": [
            " 45%|████▍     | 9026/20074 [00:52<00:58, 190.45it/s]"
          ]
        },
        {
          "metadata": {
            "tags": null
          },
          "name": "stdout",
          "output_type": "stream",
          "text": [
            "轮次1,损失1.097043,        时间52.442746,准确率0.672222\n"
          ]
        },
        {
          "metadata": {
            "tags": null
          },
          "name": "stderr",
          "output_type": "stream",
          "text": [
            " 50%|████▉     | 10018/20074 [00:58<01:16, 130.87it/s]"
          ]
        },
        {
          "metadata": {
            "tags": null
          },
          "name": "stdout",
          "output_type": "stream",
          "text": [
            "轮次1,损失1.074610,        时间58.485086,准确率0.678500\n"
          ]
        },
        {
          "metadata": {
            "tags": null
          },
          "name": "stderr",
          "output_type": "stream",
          "text": [
            " 55%|█████▍    | 11034/20074 [01:04<00:49, 180.86it/s]"
          ]
        },
        {
          "metadata": {
            "tags": null
          },
          "name": "stdout",
          "output_type": "stream",
          "text": [
            "轮次1,损失1.048538,        时间64.153217,准确率0.685909\n"
          ]
        },
        {
          "metadata": {
            "tags": null
          },
          "name": "stderr",
          "output_type": "stream",
          "text": [
            " 60%|█████▉    | 12015/20074 [01:09<00:58, 138.42it/s]"
          ]
        },
        {
          "metadata": {
            "tags": null
          },
          "name": "stdout",
          "output_type": "stream",
          "text": [
            "轮次1,损失1.028372,        时间69.775520,准确率0.690667\n"
          ]
        },
        {
          "metadata": {
            "tags": null
          },
          "name": "stderr",
          "output_type": "stream",
          "text": [
            " 65%|██████▍   | 13021/20074 [01:16<00:37, 187.43it/s]"
          ]
        },
        {
          "metadata": {
            "tags": null
          },
          "name": "stdout",
          "output_type": "stream",
          "text": [
            "轮次1,损失1.006987,        时间76.032458,准确率0.697077\n"
          ]
        },
        {
          "metadata": {
            "tags": null
          },
          "name": "stderr",
          "output_type": "stream",
          "text": [
            " 70%|██████▉   | 14027/20074 [01:21<00:33, 181.49it/s]"
          ]
        },
        {
          "metadata": {
            "tags": null
          },
          "name": "stdout",
          "output_type": "stream",
          "text": [
            "轮次1,损失0.990546,        时间81.356323,准确率0.701143\n"
          ]
        },
        {
          "metadata": {
            "tags": null
          },
          "name": "stderr",
          "output_type": "stream",
          "text": [
            " 75%|███████▍  | 15031/20074 [01:27<00:27, 185.20it/s]"
          ]
        },
        {
          "metadata": {
            "tags": null
          },
          "name": "stdout",
          "output_type": "stream",
          "text": [
            "轮次1,损失0.971615,        时间87.770722,准确率0.706333\n"
          ]
        },
        {
          "metadata": {
            "tags": null
          },
          "name": "stderr",
          "output_type": "stream",
          "text": [
            " 80%|███████▉  | 16032/20074 [01:33<00:20, 195.18it/s]"
          ]
        },
        {
          "metadata": {
            "tags": null
          },
          "name": "stdout",
          "output_type": "stream",
          "text": [
            "轮次1,损失0.956691,        时间93.010137,准确率0.710250\n"
          ]
        },
        {
          "output_type": "stream",
          "name": "stderr",
          "text": [
            " 85%|████████▍ | 17014/20074 [01:39<00:24, 125.41it/s]"
          ]
        },
        {
          "output_type": "stream",
          "name": "stdout",
          "text": [
            "轮次1,损失0.941826,        时间99.266748,准确率0.714118\n"
          ]
        },
        {
          "output_type": "stream",
          "name": "stderr",
          "text": [
            " 90%|████████▉ | 18027/20074 [01:44<00:11, 180.82it/s]"
          ]
        },
        {
          "output_type": "stream",
          "name": "stdout",
          "text": [
            "轮次1,损失0.930123,        时间104.705709,准确率0.717444\n"
          ]
        },
        {
          "output_type": "stream",
          "name": "stderr",
          "text": [
            " 95%|█████████▍| 19022/20074 [01:50<00:07, 149.52it/s]"
          ]
        },
        {
          "output_type": "stream",
          "name": "stdout",
          "text": [
            "轮次1,损失0.918078,        时间110.015404,准确率0.720842\n"
          ]
        },
        {
          "output_type": "stream",
          "name": "stderr",
          "text": [
            "100%|█████████▉| 20032/20074 [01:56<00:00, 187.73it/s]"
          ]
        },
        {
          "output_type": "stream",
          "name": "stdout",
          "text": [
            "轮次1,损失0.907209,        时间116.373206,准确率0.724550\n"
          ]
        },
        {
          "output_type": "stream",
          "name": "stderr",
          "text": [
            "100%|██████████| 20074/20074 [01:56<00:00, 171.88it/s]\n"
          ]
        }
      ]
    },
    {
      "cell_type": "code",
      "source": [
        "#@title 绘制对比图\n",
        "# 绘制损失对比曲线\n",
        "# 创建画布0\n",
        "plt.figure(0)\n",
        "# # 绘制损失对比曲线\n",
        "plt.plot(total_loss_list, label=\"RNN\")\n",
        "plt.plot(total_lloss_list, color=\"red\", label=\"LSTM\")\n",
        "plt.plot(total_gloss_list, color=\"orange\", label=\"GRU\")\n",
        "plt.legend(loc='upper left')\n",
        "plt.savefig('RNN_LSTM_GRU_loss2.png')\n",
        "plt.show()\n",
        "\n",
        "# 绘制柱状图\n",
        "# 创建画布1\n",
        "plt.figure(1)\n",
        "x_data = [\"RNN\", \"LSTM\", \"GRU\"]\n",
        "y_data = [total_time, total_ltime, total_gtime]\n",
        "# 绘制训练耗时对比柱状图\n",
        "plt.bar(range(len(x_data)), y_data, tick_label=x_data)\n",
        "plt.savefig('RNN_LSTM_GRU_period2.png')\n",
        "plt.show()\n",
        "\n",
        "# 绘制准确率对比曲线\n",
        "plt.figure(2)\n",
        "plt.plot(total_acc_list, label=\"RNN\")\n",
        "plt.plot(total_lacc_list, color=\"red\", label=\"LSTM\")\n",
        "plt.plot(total_gacc_list, color=\"orange\", label=\"GRU\")\n",
        "plt.legend(loc='upper left')\n",
        "plt.savefig('RNN_LSTM_GRU_acc2.png')\n",
        "plt.show()"
      ],
      "metadata": {
        "colab": {
          "base_uri": "https://localhost:8080/",
          "height": 1000
        },
        "id": "gStAb1Mr-AKJ",
        "outputId": "e66ce2da-08de-4583-c9d1-68cd327ca539",
        "cellView": "form"
      },
      "execution_count": null,
      "outputs": [
        {
          "output_type": "execute_result",
          "data": {
            "text/plain": [
              "<Figure size 640x480 with 0 Axes>"
            ]
          },
          "metadata": {},
          "execution_count": 42
        },
        {
          "output_type": "execute_result",
          "data": {
            "text/plain": [
              "[<matplotlib.lines.Line2D at 0x7c3fd239ee90>]"
            ]
          },
          "metadata": {},
          "execution_count": 42
        },
        {
          "output_type": "execute_result",
          "data": {
            "text/plain": [
              "[<matplotlib.lines.Line2D at 0x7c3fde2ab790>]"
            ]
          },
          "metadata": {},
          "execution_count": 42
        },
        {
          "output_type": "execute_result",
          "data": {
            "text/plain": [
              "[<matplotlib.lines.Line2D at 0x7c3fd157c650>]"
            ]
          },
          "metadata": {},
          "execution_count": 42
        },
        {
          "output_type": "execute_result",
          "data": {
            "text/plain": [
              "<matplotlib.legend.Legend at 0x7c3fd1656e50>"
            ]
          },
          "metadata": {},
          "execution_count": 42
        },
        {
          "output_type": "display_data",
          "data": {
            "text/plain": [
              "<Figure size 640x480 with 1 Axes>"
            ],
            "image/png": "[encoded data removed]"
          },
          "metadata": {}
        },
        {
          "output_type": "execute_result",
          "data": {
            "text/plain": [
              "<Figure size 640x480 with 0 Axes>"
            ]
          },
          "metadata": {},
          "execution_count": 42
        },
        {
          "output_type": "execute_result",
          "data": {
            "text/plain": [
              "<BarContainer object of 3 artists>"
            ]
          },
          "metadata": {},
          "execution_count": 42
        },
        {
          "output_type": "display_data",
          "data": {
            "text/plain": [
              "<Figure size 640x480 with 1 Axes>"
            ],
            "image/png": "[encoded data removed]"
          },
          "metadata": {}
        },
        {
          "output_type": "execute_result",
          "data": {
            "text/plain": [
              "<Figure size 640x480 with 0 Axes>"
            ]
          },
          "metadata": {},
          "execution_count": 42
        },
        {
          "output_type": "execute_result",
          "data": {
            "text/plain": [
              "[<matplotlib.lines.Line2D at 0x7c3fd0b3dbd0>]"
            ]
          },
          "metadata": {},
          "execution_count": 42
        },
        {
          "output_type": "execute_result",
          "data": {
            "text/plain": [
              "[<matplotlib.lines.Line2D at 0x7c3fd0b3c150>]"
            ]
          },
          "metadata": {},
          "execution_count": 42
        },
        {
          "output_type": "execute_result",
          "data": {
            "text/plain": [
              "[<matplotlib.lines.Line2D at 0x7c3fd063a090>]"
            ]
          },
          "metadata": {},
          "execution_count": 42
        },
        {
          "output_type": "execute_result",
          "data": {
            "text/plain": [
              "<matplotlib.legend.Legend at 0x7c3fd16a2290>"
            ]
          },
          "metadata": {},
          "execution_count": 42
        },
        {
          "output_type": "display_data",
          "data": {
            "text/plain": [
              "<Figure size 640x480 with 1 Axes>"
            ],
            "image/png": "[encoded data removed]"
          },
          "metadata": {}
        }
      ]
    },
    {
      "cell_type": "code",
      "source": [
        "#@title 预测结果\n",
        "# 将人名转化为onehot张量\n",
        "# eg 'bai' --> [3,57]\n",
        "def NameToTensor(x):\n",
        "  tensor_x = torch.zeros(len(x),n_letters)\n",
        "  for i,letter in enumerate(x):\n",
        "    tensor_x[i][all_letters.find(letter)] = 1\n",
        "  return tensor_x"
      ],
      "metadata": {
        "id": "Gf2ui48v8vkf"
      },
      "execution_count": 34,
      "outputs": []
    },
    {
      "cell_type": "code",
      "source": [
        "#@title RNN预测\n",
        "def predict_rnn(x):\n",
        "  # n_letters = n_letters # Removed to use global n_letters\n",
        "  # n_hidden = 200 # Removed to use global n_hidden\n",
        "  # n_countries = categorynum # Removed to use global n_countries\n",
        "\n",
        "  x_tensor = NameToTensor(x)\n",
        "\n",
        "  my_rnn = myRNN(input_size=n_letters, hidden_size=200, output_size=categorynum)\n",
        "  my_rnn.load_state_dict(torch.load('/content/drive/MyDrive/NLP/model/my_rnn_model.bin'))\n",
        "  my_rnn.eval()\n",
        "\n",
        "  with torch.no_grad():\n",
        "    output,hidden = my_rnn(x_tensor,my_rnn.inithidden())\n",
        "    # Get the index of the highest probability\n",
        "    topv,topi = torch.topk(output,k=3, dim=1)\n",
        "    for i in range(3):\n",
        "      country_idx = topi[0][i]\n",
        "      country = categorys[country_idx]\n",
        "      print(\"rnn-->\",x)\n",
        "      print(f\"Predicted category: {country}\")"
      ],
      "metadata": {
        "id": "VwG7DUSmSUxU",
        "cellView": "form"
      },
      "execution_count": 77,
      "outputs": []
    },
    {
      "cell_type": "code",
      "source": [
        "#@title LSTM预测\n",
        "def predict_lstm(x):\n",
        "  # n_letters = n_letters # Removed to use global n_letters\n",
        "  # n_hidden = 200 # Removed to use global n_hidden\n",
        "  # n_countries = categorynum # Removed to use global n_countries\n",
        "\n",
        "  x_tensor = NameToTensor(x)\n",
        "\n",
        "  my_lstm = myLSTM(input_size=n_letters, hidden_size=200, output_size=categorynum)\n",
        "  my_lstm.load_state_dict(torch.load('/content/drive/MyDrive/NLP/model/my_lstm_model.bin'))\n",
        "  my_lstm.eval()\n",
        "\n",
        "  with torch.no_grad():\n",
        "    hidden,c = my_lstm.inithidden()\n",
        "    output,hidden,c = my_lstm(x_tensor,hidden,c)\n",
        "    # Get the index of the highest probability\n",
        "    topi = torch.argmax(output, dim=1)\n",
        "    country_idx = topi[0].item()\n",
        "    country = categorys[country_idx]\n",
        "    print(\"lstm-->\",x) # Changed from rnn--> to lstm--> for clarity\n",
        "    print(f\"Predicted category: {country}\")"
      ],
      "metadata": {
        "id": "kOen9cAE2GK_"
      },
      "execution_count": 37,
      "outputs": []
    },
    {
      "cell_type": "code",
      "source": [
        "#@title GRU预测\n",
        "def predict_gru(x):\n",
        "  # n_letters = n_letters # Removed to use global n_letters\n",
        "  # n_hidden = 200 # Removed to use global n_hidden\n",
        "  # n_countries = categorynum # Removed to use global n_countries\n",
        "\n",
        "  x_tensor = NameToTensor(x)\n",
        "\n",
        "  my_gru = myGRU(input_size=n_letters, hidden_size=200, output_size=categorynum)\n",
        "  my_gru.load_state_dict(torch.load('/content/drive/MyDrive/NLP/model/my_GRU_model.bin'))\n",
        "  my_gru.eval()\n",
        "\n",
        "  with torch.no_grad():\n",
        "    output,hidden = my_gru(x_tensor,my_gru.inithidden())\n",
        "    # Get the index of the highest probability\n",
        "    topi = torch.argmax(output, dim=1)\n",
        "    country_idx = topi[0].item()\n",
        "    country = categorys[country_idx]\n",
        "    print(\"gru-->\",x) # Changed from rnn--> to gru--> for clarity\n",
        "    print(f\"Predicted category: {country}\")"
      ],
      "metadata": {
        "id": "emIWzlOr2J0p",
        "cellView": "form"
      },
      "execution_count": 38,
      "outputs": []
    },
    {
      "cell_type": "code",
      "source": [
        "predict_rnn(\"Alien\")"
      ],
      "metadata": {
        "colab": {
          "base_uri": "https://localhost:8080/"
        },
        "id": "fGJzvPQOchPz",
        "outputId": "a8824233-2a5f-44b2-a930-9365e1bb706d"
      },
      "execution_count": 80,
      "outputs": [
        {
          "output_type": "stream",
          "name": "stdout",
          "text": [
            "rnn--> Alien\n",
            "Predicted category: English\n",
            "rnn--> Alien\n",
            "Predicted category: Russian\n",
            "rnn--> Alien\n",
            "Predicted category: German\n"
          ]
        }
      ]
    },
    {
      "cell_type": "code",
      "source": [
        "#@title 预测调用\n",
        "def dm_test_predic_rnn_lstm_gru():\n",
        "        # 把三个函数的入口地址 组成列表，统一输入数据进行测试\n",
        "    for func in [predict_rnn, predict_lstm, predict_gru]:\n",
        "        func('Jian')\n",
        "\n",
        "dm_test_predic_rnn_lstm_gru()"
      ],
      "metadata": {
        "id": "E5wdQll-2LOl",
        "colab": {
          "base_uri": "https://localhost:8080/"
        },
        "outputId": "ee5af096-8b4f-40ec-9d57-340345da0a9b"
      },
      "execution_count": 86,
      "outputs": [
        {
          "output_type": "stream",
          "name": "stdout",
          "text": [
            "rnn--> Jian\n",
            "Predicted category: Russian\n",
            "rnn--> Jian\n",
            "Predicted category: English\n",
            "rnn--> Jian\n",
            "Predicted category: Chinese\n",
            "lstm--> Jian\n",
            "Predicted category: Chinese\n",
            "gru--> Jian\n",
            "Predicted category: Chinese\n"
          ]
        }
      ]
    },
    {
      "cell_type": "code",
      "metadata": {
        "colab": {
          "base_uri": "https://localhost:8080/"
        },
        "id": "8f584926",
        "outputId": "0d432943-f443-42c6-b81c-8bc7762bf68a"
      },
      "source": [
        "import torch\n",
        "\n",
        "if torch.cuda.is_available():\n",
        "    device_count = torch.cuda.device_count()\n",
        "    print(f\"Number of CUDA devices: {device_count}\")\n",
        "    for i in range(device_count):\n",
        "        print(f\"Device {i}: {torch.cuda.get_device_name(i)}\")\n",
        "        properties = torch.cuda.get_device_properties(i)\n",
        "        print(f\"  CUDA Capability: {properties.major}.{properties.minor}\")\n",
        "        print(f\"  Total memory: {properties.total_memory / (1024**3):.2f} GB\")\n",
        "        print(f\"  Multiprocessors: {properties.multi_processor_count}\")\n",
        "        print(f\"  Max threads per multiprocessor: {properties.max_threads_per_multi_processor}\")\n",
        "else:\n",
        "    print(\"CUDA is not available.\")"
      ],
      "execution_count": 28,
      "outputs": [
        {
          "output_type": "stream",
          "name": "stdout",
          "text": [
            "CUDA is not available.\n"
          ]
        }
      ]
    }
  ]
}