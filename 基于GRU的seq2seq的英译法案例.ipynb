{
  "nbformat": 4,
  "nbformat_minor": 0,
  "metadata": {
    "colab": {
      "provenance": [],
      "authorship_tag": "ABX9TyPWD68uwTMBxQruURI1skfN",
      "include_colab_link": true
    },
    "kernelspec": {
      "name": "python3",
      "display_name": "Python 3"
    },
    "language_info": {
      "name": "python"
    }
  },
  "cells": [
    {
      "cell_type": "markdown",
      "metadata": {
        "id": "view-in-github",
        "colab_type": "text"
      },
      "source": [
        "<a href=\"https://colab.research.google.com/github/bluetinue/sharehouse/blob/main/%E5%9F%BA%E4%BA%8EGRU%E7%9A%84seq2seq%E7%9A%84%E8%8B%B1%E8%AF%91%E6%B3%95%E6%A1%88%E4%BE%8B.ipynb\" target=\"_parent\"><img src=\"https://colab.research.google.com/assets/colab-badge.svg\" alt=\"Open In Colab\"/></a>"
      ]
    },
    {
      "cell_type": "code",
      "execution_count": 2,
      "metadata": {
        "colab": {
          "base_uri": "https://localhost:8080/"
        },
        "cellView": "form",
        "id": "9s4U2eD2SVwe",
        "outputId": "fbf2a3a1-285a-4963-a8a3-3af69128514e"
      },
      "outputs": [
        {
          "output_type": "stream",
          "name": "stdout",
          "text": [
            "Drive already mounted at /content/drive; to attempt to forcibly remount, call drive.mount(\"/content/drive\", force_remount=True).\n"
          ]
        }
      ],
      "source": [
        "#@title 导包\n",
        "from google.colab import drive\n",
        "drive.mount('/content/drive')\n",
        "\n",
        "# 用于正则表达式\n",
        "import re\n",
        "# 用于构建网络结构和函数的torch工具包\n",
        "import torch\n",
        "import torch.nn as nn\n",
        "import torch.nn.functional as F\n",
        "from torch.utils.data import Dataset, DataLoader\n",
        "# torch中预定义的优化方法工具包\n",
        "import torch.optim as optim\n",
        "import time\n",
        "# 用于随机生成数据\n",
        "import random\n",
        "import matplotlib.pyplot as plt"
      ]
    },
    {
      "cell_type": "code",
      "source": [
        "#@title 全局变量\n",
        "\n",
        "#开始字符标注\n",
        "SOS_TOKEN = 0\n",
        "EOS_TOKEN = 1\n",
        "\n",
        "#最大句子长度\n",
        "MAX_LENGTH = 10\n",
        "\n",
        "data_path = \"/content/drive/MyDrive/NLP/data/eng-fra-v2.txt\""
      ],
      "metadata": {
        "cellView": "form",
        "id": "mE9rJIqSbVHp"
      },
      "execution_count": 7,
      "outputs": []
    },
    {
      "cell_type": "code",
      "source": [
        "#@title 文本清洗工具函数"
      ],
      "metadata": {
        "cellView": "form",
        "id": "1v6xnFkLTJYd"
      },
      "execution_count": 3,
      "outputs": []
    },
    {
      "cell_type": "code",
      "source": [
        "#@title 对原始数据进行预处理"
      ],
      "metadata": {
        "cellView": "form",
        "id": "1auaNNPuc5OS"
      },
      "execution_count": 10,
      "outputs": []
    },
    {
      "cell_type": "code",
      "source": [
        "#@title 构建基于GRU的编码器"
      ],
      "metadata": {
        "cellView": "form",
        "id": "JyH88sxPTJbB"
      },
      "execution_count": 9,
      "outputs": []
    },
    {
      "cell_type": "code",
      "source": [
        "#@title 构建基于GRU的解码器"
      ],
      "metadata": {
        "cellView": "form",
        "id": "XjZ4OehKc0de"
      },
      "execution_count": null,
      "outputs": []
    },
    {
      "cell_type": "code",
      "source": [
        "#@title 构建模型评估函数"
      ],
      "metadata": {
        "cellView": "form",
        "id": "YmBeoJsDTJxs"
      },
      "execution_count": null,
      "outputs": []
    },
    {
      "cell_type": "code",
      "source": [
        "#@title 构建模型测试函数"
      ],
      "metadata": {
        "cellView": "form",
        "id": "PaivcV_dcyTV"
      },
      "execution_count": null,
      "outputs": []
    }
  ]
}